{
 "cells": [
  {
   "cell_type": "markdown",
   "id": "46b6a345-bdb6-4e77-bb02-1d77247d4957",
   "metadata": {},
   "source": [
    "<h1>High performance computing with Julia for data analysis</h1>\n",
    "\n",
    "\n",
    "<p>\n",
    "This notebook explains the basic concept of Julia, a high performance coding language for data analysis.\n",
    "Concepts like data types, operators, functions, vector, arrays, data frames are explained.<br>\n",
    "This project relies heavily on the doc:<br>\n",
    "<a href=\"https://docs.julialang.org/en/v1/\" target=_blank>docs.julialang.org </a>\n",
    "</p>\n",
    "\n",
    "<p>\n",
    "\"Scientific computing has traditionally required the highest performance, yet domain experts have largely moved to slower dynamic languages for daily work. We believe there are many good reasons to prefer dynamic languages for these applications, and we do not expect their use to diminish. Fortunately, modern language design and compiler techniques make it possible to mostly eliminate the performance trade-off and provide a single environment productive enough for prototyping and efficient enough for deploying performance-intensive applications. The Julia programming language fills this role: it is a flexible dynamic language, appropriate for scientific and numerical computing, with performance comparable to traditional statically-typed languages.\"\n",
    "</p>\n",
    "\n",
    "<p>\n",
    "Use cases and pro and cons are discussed here:<br>\n",
    "<a href=\"https://www.datacamp.com/blog/what-is-julia-used-for\">\n",
    "datacamp.com/blog/what-is-julia-used-for\n",
    "</a>"
   ]
  },
  {
   "cell_type": "markdown",
   "id": "e4d335c3-b9d7-4dbd-bcc8-58a4747b2cf6",
   "metadata": {},
   "source": [
    "# Packages\n",
    "\n",
    "<p>\n",
    "Import imports the package, but then the package name is required like in:<br>\n",
    "DataFrames.DataFrame.<br>\n",
    "By using using only the function name DataFrame is required.\n",
    "</p>"
   ]
  },
  {
   "cell_type": "code",
   "execution_count": 1239,
   "id": "e5b24802-0898-4ab9-b9cf-304791761107",
   "metadata": {},
   "outputs": [],
   "source": [
    "import Statistics\n",
    "import DataFrames\n",
    "import LinearAlgebra\n",
    "using CSV"
   ]
  },
  {
   "cell_type": "markdown",
   "id": "0525c141-eb5f-4f41-a56a-261d5f52649e",
   "metadata": {},
   "source": [
    "Test: <b>Does package import work?</b>"
   ]
  },
  {
   "cell_type": "code",
   "execution_count": 1240,
   "id": "53d37da6-b640-4d60-8b6f-93e83c0df6ab",
   "metadata": {},
   "outputs": [
    {
     "data": {
      "text/plain": [
       "455.3333333333333"
      ]
     },
     "execution_count": 1240,
     "metadata": {},
     "output_type": "execute_result"
    }
   ],
   "source": [
    "Statistics.mean([345, 567, 454])"
   ]
  },
  {
   "cell_type": "markdown",
   "id": "eee751d2-304c-49e5-a161-3d4c1e05286f",
   "metadata": {},
   "source": [
    "### Current working directory"
   ]
  },
  {
   "cell_type": "code",
   "execution_count": 1241,
   "id": "b6705517-c8c1-44d1-a8c9-7c881728af7c",
   "metadata": {},
   "outputs": [],
   "source": [
    "# current_working_directory = pwd()\n",
    "# Change current working directory like in Bash\n",
    "# cd(path)"
   ]
  },
  {
   "cell_type": "code",
   "execution_count": 1242,
   "id": "dcf8eb74-f03b-4c0a-a113-04c118dccb56",
   "metadata": {},
   "outputs": [],
   "source": [
    "## Julia basics\n",
    "\n",
    "### Comments\n",
    "\n",
    "#### One line comments"
   ]
  },
  {
   "cell_type": "code",
   "execution_count": 1243,
   "id": "2cd1cb9f-5123-4f53-ab1e-f1bac20e2c93",
   "metadata": {},
   "outputs": [],
   "source": [
    "# This is a one line comment"
   ]
  },
  {
   "cell_type": "code",
   "execution_count": 1244,
   "id": "9e587eb3-e18c-412c-bb78-d7686d0449c7",
   "metadata": {},
   "outputs": [],
   "source": [
    "#=\n",
    "\n",
    "This is multiline comment.\n",
    "Multline comments are very useful.\n",
    "\n",
    "=#"
   ]
  },
  {
   "cell_type": "markdown",
   "id": "c316fd11-7e71-4981-96af-4d0240d26541",
   "metadata": {},
   "source": [
    "# Coding"
   ]
  },
  {
   "cell_type": "markdown",
   "id": "2a8fbae9-85f1-4605-ab33-ab51811063e0",
   "metadata": {},
   "source": [
    "### Print"
   ]
  },
  {
   "cell_type": "code",
   "execution_count": 1245,
   "id": "d2fb0377-6489-49a5-9b0e-9e26fe6845b4",
   "metadata": {},
   "outputs": [
    {
     "name": "stdout",
     "output_type": "stream",
     "text": [
      "No one can say where the bones of Machiavelli rest, but modern Florence has decreed him a stately cenotaph in Santa Croce, by the side of her most famous sons.\n"
     ]
    }
   ],
   "source": [
    "println(\"No one can say where the bones of Machiavelli rest, but modern Florence has decreed him a stately cenotaph in Santa Croce, by the side of her most famous sons.\")"
   ]
  },
  {
   "cell_type": "markdown",
   "id": "8b7cacac-1287-4a0e-9d21-ba41841c8d02",
   "metadata": {},
   "source": [
    "### Store info in a variable\n",
    "\n",
    "<p>\n",
    "<a href = \"https://docs.julialang.org/en/v1/manual/variables/\">\n",
    "Stylistic Conventions\n",
    "</a>\n",
    "\n",
    "\"While Julia imposes few restrictions on valid names, it has become useful to adopt the following conventions:\n",
    "<ul>\n",
    "<li>Names of variables are in lower case.</li>\n",
    "<li>Word separation can be indicated by underscores ('_'), but use of underscores is discouraged unless the name would be hard to read otherwise.</li>\n",
    "<li>Names of Types and Modules begin with a capital letter and word separation is shown with upper camel case instead of underscores.</li>\n",
    "<li>Names of functions and macros are in lower case, without underscores.\"</li>\n",
    "</ul>\n",
    "</p>"
   ]
  },
  {
   "cell_type": "code",
   "execution_count": 1246,
   "id": "a4cabf1a-a399-447f-a901-97c19bab4afd",
   "metadata": {},
   "outputs": [
    {
     "name": "stdout",
     "output_type": "stream",
     "text": [
      "100\n"
     ]
    }
   ],
   "source": [
    "y = 100\n",
    "println(y)"
   ]
  },
  {
   "cell_type": "code",
   "execution_count": 1247,
   "id": "f7c9f278-3672-4013-9d25-e678d314c1a8",
   "metadata": {},
   "outputs": [
    {
     "name": "stdout",
     "output_type": "stream",
     "text": [
      "300\n"
     ]
    }
   ],
   "source": [
    "# multiply\n",
    "\n",
    "y_3 = y*3\n",
    "println(y_3)"
   ]
  },
  {
   "cell_type": "markdown",
   "id": "28332a34-7ece-4e80-a711-249c29d1af3c",
   "metadata": {},
   "source": [
    "#### Adding two objects"
   ]
  },
  {
   "cell_type": "code",
   "execution_count": 1248,
   "id": "4d16bfed-5588-4cc8-9187-20854bfd51b0",
   "metadata": {},
   "outputs": [
    {
     "name": "stdout",
     "output_type": "stream",
     "text": [
      "15\n",
      "15\n"
     ]
    }
   ],
   "source": [
    "dm = 11\n",
    "\n",
    "dt = 11 + 4\n",
    "println(dt)\n",
    "\n",
    "dm += 4\n",
    "println(dm)"
   ]
  },
  {
   "cell_type": "markdown",
   "id": "e7afd309-5167-4d8b-972e-636b51277a63",
   "metadata": {},
   "source": [
    "#### Some operators\n",
    "\n",
    "<p>\n",
    "Nothing new.\n",
    "</p>\n"
   ]
  },
  {
   "cell_type": "code",
   "execution_count": 1249,
   "id": "dc4a1039-a5ef-43db-85b5-2671046549a5",
   "metadata": {},
   "outputs": [
    {
     "data": {
      "text/plain": [
       "false"
      ]
     },
     "execution_count": 1249,
     "metadata": {},
     "output_type": "execute_result"
    }
   ],
   "source": [
    "4 > 5"
   ]
  },
  {
   "cell_type": "code",
   "execution_count": 1250,
   "id": "8f8212d1-1cad-445c-922b-35dd0cbff6af",
   "metadata": {},
   "outputs": [
    {
     "data": {
      "text/plain": [
       "true"
      ]
     },
     "execution_count": 1250,
     "metadata": {},
     "output_type": "execute_result"
    }
   ],
   "source": [
    "43 == 43"
   ]
  },
  {
   "cell_type": "code",
   "execution_count": 1251,
   "id": "f939fbef-59ae-4348-b419-74ce3dd8189e",
   "metadata": {},
   "outputs": [
    {
     "data": {
      "text/plain": [
       "true"
      ]
     },
     "execution_count": 1251,
     "metadata": {},
     "output_type": "execute_result"
    }
   ],
   "source": [
    "45 >= 23"
   ]
  },
  {
   "cell_type": "markdown",
   "id": "023746af-3e5b-4ba0-9cdc-9d01ff2a1027",
   "metadata": {},
   "source": [
    "<p>Not</p>"
   ]
  },
  {
   "cell_type": "code",
   "execution_count": 1252,
   "id": "12bab227-bc4b-48b3-9ddc-1a048e2db62e",
   "metadata": {},
   "outputs": [
    {
     "data": {
      "text/plain": [
       "true"
      ]
     },
     "execution_count": 1252,
     "metadata": {},
     "output_type": "execute_result"
    }
   ],
   "source": [
    "7 != 3"
   ]
  },
  {
   "cell_type": "markdown",
   "id": "3154f820-0412-4198-801f-a91a7a77d1da",
   "metadata": {},
   "source": [
    "#### Not with inversion"
   ]
  },
  {
   "cell_type": "code",
   "execution_count": 1253,
   "id": "f31f86ef-5910-45c7-b9c6-2dd1aa314b2f",
   "metadata": {},
   "outputs": [
    {
     "data": {
      "text/plain": [
       "true"
      ]
     },
     "execution_count": 1253,
     "metadata": {},
     "output_type": "execute_result"
    }
   ],
   "source": [
    "5 == 5"
   ]
  },
  {
   "cell_type": "code",
   "execution_count": 1254,
   "id": "73eb4a8b-d70d-4953-a849-dff2fa1c0d33",
   "metadata": {},
   "outputs": [
    {
     "data": {
      "text/plain": [
       "false"
      ]
     },
     "execution_count": 1254,
     "metadata": {},
     "output_type": "execute_result"
    }
   ],
   "source": [
    "~(5 == 5)"
   ]
  },
  {
   "cell_type": "code",
   "execution_count": 1255,
   "id": "30208b0f-e8d6-4dc7-8214-bc4b1c4b21b5",
   "metadata": {},
   "outputs": [],
   "source": [
    "#### And operator"
   ]
  },
  {
   "cell_type": "code",
   "execution_count": 1256,
   "id": "ecc46a20-503a-4431-8260-8c7b90509916",
   "metadata": {},
   "outputs": [
    {
     "data": {
      "text/plain": [
       "true"
      ]
     },
     "execution_count": 1256,
     "metadata": {},
     "output_type": "execute_result"
    }
   ],
   "source": [
    "(1 == 1)"
   ]
  },
  {
   "cell_type": "code",
   "execution_count": 1257,
   "id": "f3ea30f4-a645-428a-b8f6-36492b7ba183",
   "metadata": {},
   "outputs": [
    {
     "data": {
      "text/plain": [
       "false"
      ]
     },
     "execution_count": 1257,
     "metadata": {},
     "output_type": "execute_result"
    }
   ],
   "source": [
    "(3 > 4)"
   ]
  },
  {
   "cell_type": "code",
   "execution_count": 1258,
   "id": "a1a3215a-9f48-4aea-8542-98641c6e956d",
   "metadata": {},
   "outputs": [
    {
     "data": {
      "text/plain": [
       "false"
      ]
     },
     "execution_count": 1258,
     "metadata": {},
     "output_type": "execute_result"
    }
   ],
   "source": [
    "(1 == 1) & (3 > 4)"
   ]
  },
  {
   "cell_type": "markdown",
   "id": "9c5eb859-3afc-4ba2-a069-fe95750ea25d",
   "metadata": {},
   "source": [
    "#### Or operator"
   ]
  },
  {
   "cell_type": "code",
   "execution_count": 1259,
   "id": "78d45d38-c276-4639-8183-b1acbee20b89",
   "metadata": {},
   "outputs": [
    {
     "data": {
      "text/plain": [
       "true"
      ]
     },
     "execution_count": 1259,
     "metadata": {},
     "output_type": "execute_result"
    }
   ],
   "source": [
    "(1 == 1) | (3 > 4)"
   ]
  },
  {
   "cell_type": "markdown",
   "id": "70d4048f-dc82-40e3-ac24-f8f343534d7f",
   "metadata": {},
   "source": [
    "#### In operator"
   ]
  },
  {
   "cell_type": "code",
   "execution_count": 1260,
   "id": "90f56681-dd85-4d79-92e9-43a4861bb93f",
   "metadata": {},
   "outputs": [
    {
     "data": {
      "text/plain": [
       "true"
      ]
     },
     "execution_count": 1260,
     "metadata": {},
     "output_type": "execute_result"
    }
   ],
   "source": [
    "ad = (50, 100, 1965)\n",
    "\n",
    "50 in ad"
   ]
  },
  {
   "cell_type": "markdown",
   "id": "ad01f911-dc8c-44dd-a564-336b4a67b30e",
   "metadata": {},
   "source": [
    "#### XOR gate\n",
    "\n",
    "<p>\n",
    "XOR gate (sometimes EOR, or EXOR and pronounced as Exclusive OR) is a digital logic gate that gives a true <br>\n",
    "(1 or HIGH) output when the number of true inputs is odd.\n",
    "</p>"
   ]
  },
  {
   "cell_type": "code",
   "execution_count": 1261,
   "id": "51faa62a-021f-48d2-8bba-adf2a469cbb8",
   "metadata": {},
   "outputs": [
    {
     "data": {
      "text/plain": [
       "false"
      ]
     },
     "execution_count": 1261,
     "metadata": {},
     "output_type": "execute_result"
    }
   ],
   "source": [
    "(5 != 5) "
   ]
  },
  {
   "cell_type": "code",
   "execution_count": 1262,
   "id": "7e49c916-1eba-49d0-8951-2c07c65b29fa",
   "metadata": {},
   "outputs": [
    {
     "data": {
      "text/plain": [
       "false"
      ]
     },
     "execution_count": 1262,
     "metadata": {},
     "output_type": "execute_result"
    }
   ],
   "source": [
    "(5 > 5)"
   ]
  },
  {
   "cell_type": "code",
   "execution_count": 1263,
   "id": "f528c98c-de17-4fe1-854f-4cb3aa428d55",
   "metadata": {},
   "outputs": [
    {
     "data": {
      "text/plain": [
       "true"
      ]
     },
     "execution_count": 1263,
     "metadata": {},
     "output_type": "execute_result"
    }
   ],
   "source": [
    "(6 == 6)"
   ]
  },
  {
   "cell_type": "code",
   "execution_count": 1264,
   "id": "d96104e3-26fc-4abe-8348-06f74aa298df",
   "metadata": {},
   "outputs": [
    {
     "data": {
      "text/plain": [
       "true"
      ]
     },
     "execution_count": 1264,
     "metadata": {},
     "output_type": "execute_result"
    }
   ],
   "source": [
    "(8 > 5)"
   ]
  },
  {
   "cell_type": "markdown",
   "id": "15fb40aa-881e-4cfa-a3dc-e7a07e615399",
   "metadata": {},
   "source": [
    "#### Number of true inputs is odd\n",
    "\n",
    "<p>One true input.</p>"
   ]
  },
  {
   "cell_type": "code",
   "execution_count": 1265,
   "id": "2e0ebf76-2d96-4428-9592-2b6a491c014b",
   "metadata": {},
   "outputs": [
    {
     "data": {
      "text/plain": [
       "true"
      ]
     },
     "execution_count": 1265,
     "metadata": {},
     "output_type": "execute_result"
    }
   ],
   "source": [
    "(5 != 5)  ⊻ (5 > 5) ⊻ (6 == 6)"
   ]
  },
  {
   "cell_type": "markdown",
   "id": "fc80923b-f8a1-4f3f-a1d9-e1c94df0a5bd",
   "metadata": {},
   "source": [
    "<p>Three true inputs.</p>"
   ]
  },
  {
   "cell_type": "code",
   "execution_count": 1266,
   "id": "9fe68c32-68be-4c48-8f8d-63e974b27cc7",
   "metadata": {},
   "outputs": [
    {
     "data": {
      "text/plain": [
       "true"
      ]
     },
     "execution_count": 1266,
     "metadata": {},
     "output_type": "execute_result"
    }
   ],
   "source": [
    "(5 != 5)  ⊻ (5 > 5) ⊻ (6 == 6) ⊻ (8 > 5) ⊻ (4 < 9)"
   ]
  },
  {
   "cell_type": "code",
   "execution_count": 1267,
   "id": "19f69490-5f2a-47fc-84ad-ddbfd96e2cd5",
   "metadata": {},
   "outputs": [],
   "source": [
    "#### Number of true inputs is even (2)"
   ]
  },
  {
   "cell_type": "code",
   "execution_count": 1268,
   "id": "2157067d-225f-4ce6-af65-966fb9dca447",
   "metadata": {},
   "outputs": [
    {
     "data": {
      "text/plain": [
       "false"
      ]
     },
     "execution_count": 1268,
     "metadata": {},
     "output_type": "execute_result"
    }
   ],
   "source": [
    "(5 != 5)  ⊻ (5 > 5) ⊻ (6 == 6) ⊻ (8 > 5)"
   ]
  },
  {
   "cell_type": "markdown",
   "id": "7bfe0a32-f37b-4b98-b523-ad686a3617dc",
   "metadata": {},
   "source": [
    "#### The pipe operator"
   ]
  },
  {
   "cell_type": "code",
   "execution_count": 1269,
   "id": "df9e77af-ac09-4c97-b56a-9a880d7dc87a",
   "metadata": {},
   "outputs": [
    {
     "data": {
      "text/plain": [
       "2115"
      ]
     },
     "execution_count": 1269,
     "metadata": {},
     "output_type": "execute_result"
    }
   ],
   "source": [
    "\n",
    "ad |> (t -> sum(t))"
   ]
  },
  {
   "cell_type": "markdown",
   "id": "6d61c394-bb59-4aee-a5ce-fdf488a2152e",
   "metadata": {},
   "source": [
    "### Calculating"
   ]
  },
  {
   "cell_type": "code",
   "execution_count": 1270,
   "id": "f7c82f6a-742f-4306-a9ef-7711792b616a",
   "metadata": {},
   "outputs": [
    {
     "name": "stdout",
     "output_type": "stream",
     "text": [
      "Velocity: 492.5\n"
     ]
    }
   ],
   "source": [
    "#=  \n",
    "Velocity\n",
    "a=v-u / t\n",
    "=#\n",
    "\n",
    "v=500\n",
    "u=150\n",
    "t=20\n",
    "\n",
    "a=v-u / t\n",
    "println(\"Velocity: \", a)"
   ]
  },
  {
   "cell_type": "code",
   "execution_count": 1271,
   "id": "dbc814c7-ed43-4bad-b1f7-6875720c404c",
   "metadata": {},
   "outputs": [
    {
     "name": "stdout",
     "output_type": "stream",
     "text": [
      "Density: 0.1347517730496454\n"
     ]
    }
   ],
   "source": [
    "#=\n",
    "Density\n",
    "p=m/v\n",
    "=#\n",
    "\n",
    "m=133\n",
    "v=987\n",
    "p = m / v\n",
    "println(\"Density: \", p)"
   ]
  },
  {
   "cell_type": "code",
   "execution_count": 1272,
   "id": "f0834999-e01e-431c-a336-9d060b1c6e0d",
   "metadata": {},
   "outputs": [
    {
     "name": "stdout",
     "output_type": "stream",
     "text": [
      "Force: 65502.5\n"
     ]
    }
   ],
   "source": [
    "#= \n",
    "Newton’s Second Law\n",
    "f=m*a\n",
    "=#\n",
    "\n",
    "f=m*a\n",
    "println(\"Force: \", f)"
   ]
  },
  {
   "cell_type": "code",
   "execution_count": 1273,
   "id": "3b6e4346-272f-4c7e-adf9-85979ce91cb3",
   "metadata": {},
   "outputs": [
    {
     "name": "stdout",
     "output_type": "stream",
     "text": [
      "Kinetic energy: 6.47822385e7\n"
     ]
    }
   ],
   "source": [
    "#=\n",
    "Kinetic enery\n",
    "e=1/2 * m*v^2\n",
    "=#\n",
    "\n",
    "\n",
    "e=1/2 * m*v^2\n",
    "println(\"Kinetic energy: \", e)"
   ]
  },
  {
   "cell_type": "markdown",
   "id": "fc84fb94-c2ed-45cc-885a-72433acec4c5",
   "metadata": {},
   "source": [
    "### Data types\n",
    "\n",
    "<a href=\"https://docs.julialang.org/en/v1/manual/types/\">doc</a>\n",
    "\n",
    "<p>\n",
    "\"Type systems have traditionally fallen into two quite different camps: static type systems, where every program expression must have a type computable before the execution of the program, and dynamic type systems, where nothing is known about types until run time, when the actual values manipulated by the program are available. Object orientation allows some flexibility in statically typed languages by letting code be written without the precise types of values being known at compile time. The ability to write code that can operate on different types is called polymorphism. All code in classic dynamically typed languages is polymorphic: only by explicitly checking types, or when objects fail to support operations at run-time, are the types of any values ever restricted.\n",
    "</p>\n",
    "    \n",
    "<p>\n",
    "Julia's type system is dynamic, but gains some of the advantages of static type systems by making it possible to indicate that certain values are of specific types. This can be of great assistance in generating efficient code, but even more significantly, it allows method dispatch on the types of function arguments to be deeply integrated with the language. \"\n",
    "</p>\n"
   ]
  },
  {
   "cell_type": "code",
   "execution_count": 1274,
   "id": "cef2b39b-158b-418b-8276-93e60e22ccc3",
   "metadata": {},
   "outputs": [
    {
     "name": "stdout",
     "output_type": "stream",
     "text": [
      "Int64"
     ]
    }
   ],
   "source": [
    "int_i = 110\n",
    "print(typeof(int_i))"
   ]
  },
  {
   "cell_type": "code",
   "execution_count": 1275,
   "id": "7ed05fc6-5eb6-4265-856f-cc532bf79dcc",
   "metadata": {},
   "outputs": [
    {
     "name": "stdout",
     "output_type": "stream",
     "text": [
      "Float64"
     ]
    }
   ],
   "source": [
    "float_f = 9.87\n",
    "print(typeof(float_f))"
   ]
  },
  {
   "cell_type": "code",
   "execution_count": 1276,
   "id": "dca40e26-0fc8-455a-ab47-16ff233e6f03",
   "metadata": {},
   "outputs": [
    {
     "name": "stdout",
     "output_type": "stream",
     "text": [
      "Bool\n"
     ]
    }
   ],
   "source": [
    "bool_b = false\n",
    "println(typeof(bool_b))"
   ]
  },
  {
   "cell_type": "code",
   "execution_count": 1277,
   "id": "521cec70-80bd-4cf5-85ec-39ed6d9e842a",
   "metadata": {},
   "outputs": [
    {
     "name": "stdout",
     "output_type": "stream",
     "text": [
      "String\n"
     ]
    }
   ],
   "source": [
    "string_s = \"Type systems have traditionally fallen into two quite different camps: static type systems.\"\n",
    "println(typeof(string_s))"
   ]
  },
  {
   "cell_type": "markdown",
   "id": "32f0906e-df3f-46e6-a227-24425ce20072",
   "metadata": {},
   "source": [
    "### Mixing up data types"
   ]
  },
  {
   "cell_type": "code",
   "execution_count": 1278,
   "id": "196bbbc0-3855-4ebc-bc0c-a2c66eec2487",
   "metadata": {},
   "outputs": [
    {
     "name": "stdout",
     "output_type": "stream",
     "text": [
      "12\n",
      "Int64\n"
     ]
    }
   ],
   "source": [
    "# Ohms law\n",
    "\n",
    "i = 3\n",
    "r = 4\n",
    "\n",
    "volt_1 = i * r\n",
    "\n",
    "println(volt_1)\n",
    "println(typeof(volt_1))\n",
    "\n"
   ]
  },
  {
   "cell_type": "code",
   "execution_count": 1279,
   "id": "5fb71005-3084-4e9e-8ce9-6f90a274c892",
   "metadata": {},
   "outputs": [
    {
     "name": "stdout",
     "output_type": "stream",
     "text": [
      "12.8Float64\n"
     ]
    }
   ],
   "source": [
    "#int + float = float\n",
    "i_2= 3.2\n",
    "\n",
    "volt_2 = i_2 * r\n",
    "\n",
    "print(volt_2)\n",
    "println(typeof(volt_2))"
   ]
  },
  {
   "cell_type": "code",
   "execution_count": 1280,
   "id": "55abb8a8-8092-4f06-ad2c-5a858e2b2094",
   "metadata": {},
   "outputs": [
    {
     "data": {
      "text/plain": [
       "\"Julia's type system is dynamic,but gains some of the advantages of static type systems.\""
      ]
     },
     "execution_count": 1280,
     "metadata": {},
     "output_type": "execute_result"
    }
   ],
   "source": [
    "dynamic = \"Julia's type system is dynamic,\" \n",
    "advantages = \"but gains some of the advantages of static type systems.\"\n",
    "\n",
    "dynamic_advantages = dynamic * advantages"
   ]
  },
  {
   "cell_type": "markdown",
   "id": "dd78902d-f70b-41d7-9db7-5b1ffbdc5257",
   "metadata": {},
   "source": [
    "#### Using the $ sign in print to declare a variable"
   ]
  },
  {
   "cell_type": "code",
   "execution_count": 1281,
   "id": "4b519ec6-52a7-43be-aeef-2a2a6fd1161f",
   "metadata": {},
   "outputs": [
    {
     "name": "stdout",
     "output_type": "stream",
     "text": [
      "Explain the type system of Julia? Julia's type system is dynamic, but gains some of the advantages of static type systems.\n"
     ]
    }
   ],
   "source": [
    "println(\"Explain the type system of Julia? $dynamic $advantages\")"
   ]
  },
  {
   "cell_type": "code",
   "execution_count": 1282,
   "id": "a1bd0376-c42d-4ccb-b3f8-f8748f05ef20",
   "metadata": {},
   "outputs": [
    {
     "name": "stdout",
     "output_type": "stream",
     "text": [
      "2.90.6 nmString"
     ]
    }
   ],
   "source": [
    "# frequency = velocity * wavelength\n",
    "\n",
    "velocity = \"2.9\"\n",
    "wavelength = 0.6\n",
    "\n",
    "#frequency = velocity * wavelength\n",
    "# Throws an error: MethodError: no method matching *(::String, ::Float64)\n",
    "\n",
    "velocity_str = \"2.9\"\n",
    "wavelength_str = \"0.6 nm\"\n",
    "\n",
    "frequency_2 = velocity_str * wavelength_str\n",
    "\n",
    "print(frequency_2)\n",
    "print(typeof(frequency_2))"
   ]
  },
  {
   "cell_type": "markdown",
   "id": "62b95b02-ce42-420d-894a-460b2e1186aa",
   "metadata": {},
   "source": [
    "### Converting data types\n",
    "\n",
    "#### Float to int"
   ]
  },
  {
   "cell_type": "code",
   "execution_count": 1283,
   "id": "b840f27a-b939-4326-ac52-ca20f88e60d7",
   "metadata": {},
   "outputs": [
    {
     "name": "stdout",
     "output_type": "stream",
     "text": [
      "Float64\n",
      "3.0\n",
      "Data type:Int64:3\n"
     ]
    }
   ],
   "source": [
    "t = 3.44\n",
    "println(typeof(t))\n",
    "\n",
    "# d = Int64(t)\n",
    "# println(typeof(d))\n",
    "# Throws an error: InexactError: Int64(3.44)\n",
    "\n",
    "u = 3.0\n",
    "println(u)\n",
    "u_2 = Int64(u)\n",
    "println(\"Data type:\", typeof(u_2), \":\", u_2)"
   ]
  },
  {
   "cell_type": "code",
   "execution_count": 1284,
   "id": "343174f2-4b40-45aa-b441-acae191358e5",
   "metadata": {},
   "outputs": [
    {
     "data": {
      "text/plain": [
       "3"
      ]
     },
     "execution_count": 1284,
     "metadata": {},
     "output_type": "execute_result"
    }
   ],
   "source": [
    "# Using the convert func\n",
    "ttt= convert(Int64, u)"
   ]
  },
  {
   "cell_type": "markdown",
   "id": "213d8306-2611-4bc8-af94-6384aab1bf0a",
   "metadata": {},
   "source": [
    "Int to float"
   ]
  },
  {
   "cell_type": "code",
   "execution_count": 1285,
   "id": "c1ca5b3b-0e9d-4aec-814b-18c351965ac9",
   "metadata": {},
   "outputs": [
    {
     "name": "stdout",
     "output_type": "stream",
     "text": [
      "Int64: 12\n",
      "Float64: 12.0\n"
     ]
    }
   ],
   "source": [
    "z = 12\n",
    "println(typeof(z), \": \",z)\n",
    "\n",
    "k = Float64(z)\n",
    "println(typeof(k),\": \", k)"
   ]
  },
  {
   "cell_type": "markdown",
   "id": "16c3a2c5-bce3-401d-8e80-78ef93e74bf9",
   "metadata": {},
   "source": [
    "Int to Str"
   ]
  },
  {
   "cell_type": "code",
   "execution_count": 1286,
   "id": "a9657e13-bc15-4355-b55a-a966c6c6dda6",
   "metadata": {},
   "outputs": [
    {
     "name": "stdout",
     "output_type": "stream",
     "text": [
      "String: 23\n"
     ]
    }
   ],
   "source": [
    "n = 23\n",
    "mm = string(n)\n",
    "println(typeof(mm), \": \", mm)"
   ]
  },
  {
   "cell_type": "markdown",
   "id": "a45450a8-f0c2-4646-957c-b73ef0e1b4c5",
   "metadata": {},
   "source": [
    "Str to int"
   ]
  },
  {
   "cell_type": "code",
   "execution_count": 1287,
   "id": "0ff162a6-a52e-4e7e-aa8c-05e06528d96c",
   "metadata": {},
   "outputs": [
    {
     "name": "stdout",
     "output_type": "stream",
     "text": [
      "Int64: 23"
     ]
    }
   ],
   "source": [
    "jj = parse(Int64, mm)\n",
    "print(typeof(jj), \": \", jj)"
   ]
  },
  {
   "cell_type": "markdown",
   "id": "015c387a-5a50-4fb3-b738-67a169897687",
   "metadata": {
    "tags": []
   },
   "source": [
    "## String manipulation in Julia\n",
    "\n",
    "<p>\n",
    "Strings work with double quotes and the length is not limited.<br>\n",
    "Single quotes throw errors.\n",
    "</p>"
   ]
  },
  {
   "cell_type": "code",
   "execution_count": 1288,
   "id": "1a6a2cf4-512a-4a08-b3a7-7b365d579a4f",
   "metadata": {},
   "outputs": [
    {
     "name": "stdout",
     "output_type": "stream",
     "text": [
      "All states, all powers, that have held and hold rule over men have been and are either republics or principalities.\n",
      "String"
     ]
    }
   ],
   "source": [
    "machi_lesson_1 = \"All states, all powers, that have held and hold rule over men have been and are either republics or principalities.\"\n",
    "\n",
    "println(machi_lesson_1)\n",
    "print(typeof(machi_lesson_1))"
   ]
  },
  {
   "cell_type": "markdown",
   "id": "43d72188-6358-4e4d-99dd-1b8083665ad1",
   "metadata": {},
   "source": [
    "<p>\n",
    "Line breaks are displayed by Jupyter automatically.\n",
    "</p>"
   ]
  },
  {
   "cell_type": "code",
   "execution_count": 1289,
   "id": "8b22a50e-10a3-4c70-9f04-c47c73d122a5",
   "metadata": {},
   "outputs": [
    {
     "name": "stdout",
     "output_type": "stream",
     "text": [
      "\n",
      "We have in Italy, for example, the Duke of Ferrara, who could not have withstood the \n",
      "attacks of the Venetians in ’84, \n",
      "nor those of Pope Julius in ’10, unless he had been long established in his dominions.\n"
     ]
    }
   ],
   "source": [
    "dom_3 =\"\n",
    "We have in Italy, for example, the Duke of Ferrara, who could not have withstood the \n",
    "attacks of the Venetians in ’84, \n",
    "nor those of Pope Julius in ’10, unless he had been long established in his dominions.\"\n",
    "\n",
    "println(dom_3)"
   ]
  },
  {
   "cell_type": "markdown",
   "id": "4fb7b2a8-9a3d-44b8-98d5-df922500f954",
   "metadata": {},
   "source": [
    "<p>\n",
    "Triple quotes display line breaks:<br>\n",
    "\"These types of strings have special behaviors in Julia which are helpful to create long blocks of text.<br>\n",
    "Triple-quoted strings are useful to use in codes that are indented because they recognize new lines.\"\n",
    "</p>\n",
    "\n",
    "<a href=\"https://www.geeksforgeeks.org/quoted-interpolated-and-escaped-strings-in-julia/\">geeks</a>"
   ]
  },
  {
   "cell_type": "code",
   "execution_count": 1290,
   "id": "32c80798-2672-43dc-be9d-aa7ad61caf77",
   "metadata": {},
   "outputs": [
    {
     "data": {
      "text/plain": [
       "\"Principalities are either hereditary, in which the family has been long established; \\nor they are new. \\nThe new are either entirely new, as was Milan to Francesco Sforza, or they are, as it were, \\nmembers annexed to the hereditary state of the prince who has acquired them, as was the kingdom of Naples \\nto that of the King of Spain. \\n\\n\""
      ]
     },
     "execution_count": 1290,
     "metadata": {},
     "output_type": "execute_result"
    }
   ],
   "source": [
    "machi_lesson_2 = \"\"\"\n",
    "                Principalities are either hereditary, in which the family has been long established; \n",
    "                or they are new. \n",
    "                The new are either entirely new, as was Milan to Francesco Sforza, or they are, as it were, \n",
    "                members annexed to the hereditary state of the prince who has acquired them, as was the kingdom of Naples \n",
    "                to that of the King of Spain. \n",
    "\n",
    "                \"\"\""
   ]
  },
  {
   "cell_type": "markdown",
   "id": "e2c43d9f-947a-4833-8095-06ef743ebaff",
   "metadata": {},
   "source": [
    "#### Split string into elements"
   ]
  },
  {
   "cell_type": "code",
   "execution_count": 1291,
   "id": "a05e1df8-1e9b-47fe-8255-ff93bd3365f3",
   "metadata": {},
   "outputs": [
    {
     "data": {
      "text/plain": [
       "12-element Vector{SubString{String}}:\n",
       " \"King\"\n",
       " \"Louis\"\n",
       " \"was\"\n",
       " \"brought\"\n",
       " \"into\"\n",
       " \"Italy\"\n",
       " \"by\"\n",
       " \"the\"\n",
       " \"ambition\"\n",
       " \"of\"\n",
       " \"the\"\n",
       " \"Venetians.\""
      ]
     },
     "execution_count": 1291,
     "metadata": {},
     "output_type": "execute_result"
    }
   ],
   "source": [
    "louis = \"King Louis was brought into Italy by the ambition of the Venetians.\"\n",
    "split(louis)"
   ]
  },
  {
   "cell_type": "markdown",
   "id": "0df95b5b-b280-47c0-ad3e-920cf6c3641f",
   "metadata": {},
   "source": [
    "### String concatenation\n",
    "with *"
   ]
  },
  {
   "cell_type": "code",
   "execution_count": 1292,
   "id": "d7eb28e2-f573-468a-ac5a-af3d6343fe74",
   "metadata": {},
   "outputs": [
    {
     "name": "stdout",
     "output_type": "stream",
     "text": [
      "Such dominions thus acquired are either accustomed to live under a prince, or to live in freedom; and are acquired either by the arms of the prince himself, or of others, or else by fortune or by ability.\n",
      "String"
     ]
    }
   ],
   "source": [
    "dom_1 = \"Such dominions thus acquired are either accustomed to live under a prince, or to live in freedom\"\n",
    "\n",
    "semi =\"; \"\n",
    "\n",
    "dom_2 = \"and are acquired either by the arms of the prince himself, or of others, or else by fortune or by ability.\"\n",
    "\n",
    "concat_1 = dom_1*semi*dom_2\n",
    "\n",
    "println(concat_1)\n",
    "print(typeof(concat_1))"
   ]
  },
  {
   "cell_type": "code",
   "execution_count": 1293,
   "id": "2aee8faa-ef70-47a4-acd7-06d9a9e9ab2d",
   "metadata": {},
   "outputs": [
    {
     "data": {
      "text/plain": [
       "\"The Duke of Ferrara who could not have withstood theattacks of the Venetians in ’84\""
      ]
     },
     "execution_count": 1293,
     "metadata": {},
     "output_type": "execute_result"
    }
   ],
   "source": [
    "\"The Duke of Ferrara \" * \"who could not have withstood the\" * \"attacks of the Venetians in ’84\""
   ]
  },
  {
   "cell_type": "markdown",
   "id": "906ab4b5-5eea-4b4e-a724-8c5b427a3317",
   "metadata": {},
   "source": [
    "#### Repeat"
   ]
  },
  {
   "cell_type": "code",
   "execution_count": 1294,
   "id": "b572eb7f-a314-494c-a185-61c4e2c7e10e",
   "metadata": {},
   "outputs": [
    {
     "data": {
      "text/plain": [
       "\"The Duke of Ferrara The Duke of Ferrara The Duke of Ferrara \""
      ]
     },
     "execution_count": 1294,
     "metadata": {},
     "output_type": "execute_result"
    }
   ],
   "source": [
    "\"The Duke of Ferrara \" ^ 3"
   ]
  },
  {
   "cell_type": "markdown",
   "id": "7ec0721c-9c0d-4bf8-bed8-2a16800e85a9",
   "metadata": {},
   "source": [
    "### String interpolation\n",
    "with a $ sign adds a variable to the string."
   ]
  },
  {
   "cell_type": "code",
   "execution_count": 1295,
   "id": "3cef6456-32d0-4549-9b7c-6c615c911c60",
   "metadata": {},
   "outputs": [
    {
     "name": "stdout",
     "output_type": "stream",
     "text": [
      "\n",
      "We have in Italy, for example, the Duke of Ferrara, who could not have withstood the \n",
      "attacks of the Venetians in ’84, \n",
      "nor those of Pope Julius in ’10, unless he had been long established in his dominions.\n"
     ]
    }
   ],
   "source": [
    "str_var_italy=\"Italy\"\n",
    "str_var_duke=\"Duke of Ferrara\"\n",
    "str_var_pope=\"Pope Julius\"\n",
    "\n",
    "\n",
    "dom_3 =\"\n",
    "We have in $str_var_italy, for example, the $str_var_duke, who could not have withstood the \n",
    "attacks of the Venetians in ’84, \n",
    "nor those of $str_var_pope in ’10, unless he had been long established in his dominions.\"\n",
    "\n",
    "println(dom_3)\n",
    "    "
   ]
  },
  {
   "cell_type": "code",
   "execution_count": 1296,
   "id": "4e56dd83-4cb3-4a38-a910-420b7e8ed77b",
   "metadata": {},
   "outputs": [
    {
     "data": {
      "text/plain": [
       "\"Principalities are either hereditary, like the Collona.\""
      ]
     },
     "execution_count": 1296,
     "metadata": {},
     "output_type": "execute_result"
    }
   ],
   "source": [
    "old_feudal_family = \"Collona\"\n",
    "\n",
    "\"Principalities are either hereditary, like the $old_feudal_family.\""
   ]
  },
  {
   "cell_type": "markdown",
   "id": "c3e55eb3-e110-4c1a-bea1-48d6adfa74c1",
   "metadata": {},
   "source": [
    "<p>\n",
    "Adding math ops to the string.\n",
    "</p>\n"
   ]
  },
  {
   "cell_type": "code",
   "execution_count": 1297,
   "id": "31ceaf5f-5fec-418d-93c9-e596ab3dd085",
   "metadata": {},
   "outputs": [
    {
     "name": "stdout",
     "output_type": "stream",
     "text": [
      "59201\n",
      "Int64\n"
     ]
    },
    {
     "data": {
      "text/plain": [
       "\"The Duke of Ferrara collected 15200 gold coins from the peasants and 44001 gold coins from the merchants,\\nwhich makes in sum 59201 gold coins.\""
      ]
     },
     "execution_count": 1297,
     "metadata": {},
     "output_type": "execute_result"
    }
   ],
   "source": [
    "\n",
    "peasants_tax=15200\n",
    "merchants_tax=44001\n",
    "sum_taxes = peasants_tax + merchants_tax\n",
    "println(sum_taxes)\n",
    "println(typeof(sum_taxes))\n",
    "\n",
    "str_var_duke_2=\"\"\"The Duke of Ferrara collected $peasants_tax gold coins from the peasants and $merchants_tax gold coins from the merchants,\n",
    "                which makes in sum $(peasants_tax + merchants_tax) gold coins.\"\"\"\n",
    "\n"
   ]
  },
  {
   "cell_type": "markdown",
   "id": "616a6864-f576-4e79-9fe7-b4d89455815a",
   "metadata": {},
   "source": [
    "### Indexing strings\n",
    "<p>\n",
    "or grabbing characters from a string using the index.<br>\n",
    "Other than in Python the index starts with 1 like in R.<br>\n",
    "The end keyword returns from the end like the - in Python.\n",
    "</p>\n"
   ]
  },
  {
   "cell_type": "code",
   "execution_count": 1298,
   "id": "bcec1072-e50f-4fe1-bcc0-77e4603f7615",
   "metadata": {},
   "outputs": [
    {
     "name": "stdout",
     "output_type": "stream",
     "text": [
      "I say at once there are fewer difficulties in holding hereditary states.\n",
      "I"
     ]
    },
    {
     "data": {
      "text/plain": [
       "'.': ASCII/Unicode U+002E (category Po: Punctuation, other)"
      ]
     },
     "execution_count": 1298,
     "metadata": {},
     "output_type": "execute_result"
    }
   ],
   "source": [
    "states_1=\"I say at once there are fewer difficulties in holding hereditary states.\"\n",
    "println(states_1)\n",
    "\n",
    "first_char=states_1[1]\n",
    "print(first_char)\n",
    "\n",
    "last_char=states_1[end]\n"
   ]
  },
  {
   "cell_type": "markdown",
   "id": "5e80d77f-a837-4c29-98b5-ee0517fdb89c",
   "metadata": {},
   "source": [
    "#### Slicing strings with colons\n",
    "allows to grab multiple chars."
   ]
  },
  {
   "cell_type": "code",
   "execution_count": 1299,
   "id": "435d6c9d-900e-4eef-9a98-d500646d0e77",
   "metadata": {},
   "outputs": [
    {
     "name": "stdout",
     "output_type": "stream",
     "text": [
      "I say at\n",
      "say\n"
     ]
    }
   ],
   "source": [
    "first_8_chars=states_1[1:8]\n",
    "println(first_8_chars)\n",
    "\n",
    "second_word=states_1[3:5]\n",
    "println(second_word)"
   ]
  },
  {
   "cell_type": "markdown",
   "id": "918d16a1-5d0d-4cbb-8b14-e9147a01b189",
   "metadata": {},
   "source": [
    "<p>\n",
    "Select last chars from the end.\n",
    "</p>"
   ]
  },
  {
   "cell_type": "code",
   "execution_count": 1300,
   "id": "49e344c1-390e-42a2-8dff-4d8b6e8f17a7",
   "metadata": {},
   "outputs": [
    {
     "name": "stdout",
     "output_type": "stream",
     "text": [
      "hereditary states.\n"
     ]
    }
   ],
   "source": [
    "last_two_words_1=states_1[end-17:end]\n",
    "println(last_two_words_1)"
   ]
  },
  {
   "cell_type": "markdown",
   "id": "1c06502b-e62f-43d6-bf12-19aea9ebcf0e",
   "metadata": {},
   "source": [
    "#### length() of a string"
   ]
  },
  {
   "cell_type": "code",
   "execution_count": 1301,
   "id": "7a874b13-f302-4f5e-9c8f-274bfc756b9c",
   "metadata": {},
   "outputs": [
    {
     "data": {
      "text/plain": [
       "72"
      ]
     },
     "execution_count": 1301,
     "metadata": {},
     "output_type": "execute_result"
    }
   ],
   "source": [
    "len_states_1=length(states_1)"
   ]
  },
  {
   "cell_type": "code",
   "execution_count": 1302,
   "id": "e5d947cd-aa31-48ce-95d7-d630dbec4b41",
   "metadata": {},
   "outputs": [
    {
     "data": {
      "text/plain": [
       "\"hereditary states.\""
      ]
     },
     "execution_count": 1302,
     "metadata": {},
     "output_type": "execute_result"
    }
   ],
   "source": [
    "states_1[len_states_1-17:len_states_1]"
   ]
  },
  {
   "cell_type": "markdown",
   "id": "bdd9835f-747e-46c4-86e8-f60e951f1087",
   "metadata": {},
   "source": [
    "### String functions"
   ]
  },
  {
   "cell_type": "code",
   "execution_count": 1303,
   "id": "35768cec-ffe2-471b-834e-e3e476ad39a4",
   "metadata": {},
   "outputs": [
    {
     "data": {
      "text/plain": [
       "\"KING LOUIS\""
      ]
     },
     "execution_count": 1303,
     "metadata": {},
     "output_type": "execute_result"
    }
   ],
   "source": [
    "uppercase(\"king louis\")"
   ]
  },
  {
   "cell_type": "code",
   "execution_count": 1304,
   "id": "b2e234a7-55f9-4051-968f-051240d72fc7",
   "metadata": {},
   "outputs": [
    {
     "data": {
      "text/plain": [
       "\"king louis\""
      ]
     },
     "execution_count": 1304,
     "metadata": {},
     "output_type": "execute_result"
    }
   ],
   "source": [
    "lowercase(\"KING LOUIS\")"
   ]
  },
  {
   "cell_type": "code",
   "execution_count": 1305,
   "id": "32ef325d-8740-4853-a698-9ef9a3b3ddf6",
   "metadata": {},
   "outputs": [
    {
     "data": {
      "text/plain": [
       "\"King Louis\""
      ]
     },
     "execution_count": 1305,
     "metadata": {},
     "output_type": "execute_result"
    }
   ],
   "source": [
    "titlecase(\"king louis\")"
   ]
  },
  {
   "cell_type": "code",
   "execution_count": 1306,
   "id": "dba32e9b-a2b3-4769-9b27-0dc9d6430260",
   "metadata": {},
   "outputs": [],
   "source": [
    "# replace(\"King Louis\", \"Louis\" -> \"Francis\")"
   ]
  },
  {
   "cell_type": "code",
   "execution_count": 1307,
   "id": "8c938f23-fb50-444f-91c3-f9f8d0a0f94a",
   "metadata": {},
   "outputs": [
    {
     "data": {
      "text/plain": [
       "64:68"
      ]
     },
     "execution_count": 1307,
     "metadata": {},
     "output_type": "execute_result"
    }
   ],
   "source": [
    "rom = \"King Louis yielded the Romagna to Alexander and the kingdom to Spain to avoid war.\"\n",
    "\n",
    "findfirst(\"Spain\", rom)"
   ]
  },
  {
   "cell_type": "code",
   "execution_count": 1308,
   "id": "ac44b0bd-4e01-4129-8b44-61bdc7b6f36a",
   "metadata": {},
   "outputs": [
    {
     "data": {
      "text/plain": [
       "true"
      ]
     },
     "execution_count": 1308,
     "metadata": {},
     "output_type": "execute_result"
    }
   ],
   "source": [
    "occursin(\"to\", rom)"
   ]
  },
  {
   "cell_type": "markdown",
   "id": "ae85a771-2ec0-4dea-9a57-920c53026c17",
   "metadata": {},
   "source": [
    "### Slicing order data\n",
    "for an armory merchant of the princes of Italy."
   ]
  },
  {
   "cell_type": "code",
   "execution_count": 1309,
   "id": "d943f982-a2a1-454e-a2e9-cfe6ed42f973",
   "metadata": {},
   "outputs": [
    {
     "data": {
      "text/plain": [
       "\"customer: Duke of Ferrara | customer_id: 1215 | order: broad sword | quantity: 5 | oder_id: 34002\""
      ]
     },
     "execution_count": 1309,
     "metadata": {},
     "output_type": "execute_result"
    }
   ],
   "source": [
    "order_1=\"customer: Duke of Ferrara | customer_id: 1215 | order: broad sword | quantity: 5 | oder_id: 34002\""
   ]
  },
  {
   "cell_type": "code",
   "execution_count": 1310,
   "id": "a3a4318e-b4d8-4adf-8bca-10b920ea3d30",
   "metadata": {},
   "outputs": [
    {
     "name": "stdout",
     "output_type": "stream",
     "text": [
      " Duke of Ferrara \n",
      " 34002\n"
     ]
    }
   ],
   "source": [
    "customer_name=order_1[10:26]\n",
    "println(customer_name)\n",
    "\n",
    "order_id=order_1[end-5:end]\n",
    "println(order_id)\n"
   ]
  },
  {
   "cell_type": "markdown",
   "id": "04f61922-8daa-428f-80ca-ff130a824e2f",
   "metadata": {},
   "source": [
    "### Vectors"
   ]
  },
  {
   "cell_type": "code",
   "execution_count": 1311,
   "id": "99c7a571-7238-4d71-9006-f15f8979f1e2",
   "metadata": {},
   "outputs": [
    {
     "data": {
      "text/plain": [
       "3-element Vector{Int64}:\n",
       " 1\n",
       " 2\n",
       " 3"
      ]
     },
     "execution_count": 1311,
     "metadata": {},
     "output_type": "execute_result"
    }
   ],
   "source": [
    "xt = [1,2,3]"
   ]
  },
  {
   "cell_type": "code",
   "execution_count": 1312,
   "id": "14d1dfd7-1e72-4298-8d9c-d0244cb51a8a",
   "metadata": {},
   "outputs": [
    {
     "data": {
      "text/plain": [
       "3-element Vector{Float64}:\n",
       " 1.0\n",
       " 2.0\n",
       " 3.0"
      ]
     },
     "execution_count": 1312,
     "metadata": {},
     "output_type": "execute_result"
    }
   ],
   "source": [
    "Vector{Float64}([1,2,3])"
   ]
  },
  {
   "cell_type": "code",
   "execution_count": 1313,
   "id": "ee19f89b-1f56-4b96-ab2b-f3fc71c6eea2",
   "metadata": {},
   "outputs": [
    {
     "data": {
      "text/plain": [
       "100:110"
      ]
     },
     "execution_count": 1313,
     "metadata": {},
     "output_type": "execute_result"
    }
   ],
   "source": [
    "100:110"
   ]
  },
  {
   "cell_type": "code",
   "execution_count": 1314,
   "id": "80ecee4a-4c2b-41cf-883a-4d2a19b4f924",
   "metadata": {},
   "outputs": [
    {
     "name": "stdout",
     "output_type": "stream",
     "text": [
      "1:2:109\n"
     ]
    }
   ],
   "source": [
    "c=1:2:110\n",
    "println(c)"
   ]
  },
  {
   "cell_type": "markdown",
   "id": "a637bed3-bbe2-4326-9962-897417077e63",
   "metadata": {},
   "source": [
    "<p>\n",
    "Repeat each element 2 times inner and outer 3 times.\n",
    "</p>"
   ]
  },
  {
   "cell_type": "code",
   "execution_count": 1315,
   "id": "9293572b-f196-4ad0-bedd-6b4daa9d7e71",
   "metadata": {},
   "outputs": [
    {
     "data": {
      "text/plain": [
       "18-element Vector{Int64}:\n",
       " 1\n",
       " 1\n",
       " 2\n",
       " 2\n",
       " 3\n",
       " 3\n",
       " 1\n",
       " 1\n",
       " 2\n",
       " 2\n",
       " 3\n",
       " 3\n",
       " 1\n",
       " 1\n",
       " 2\n",
       " 2\n",
       " 3\n",
       " 3"
      ]
     },
     "execution_count": 1315,
     "metadata": {},
     "output_type": "execute_result"
    }
   ],
   "source": [
    "repeat(xt, inner=2, outer=3)\n"
   ]
  },
  {
   "cell_type": "markdown",
   "id": "2a00a327-0c53-4dec-a4b6-935c7adfd164",
   "metadata": {},
   "source": [
    "<p>\n",
    "Some vector functions.\n",
    "</p>"
   ]
  },
  {
   "cell_type": "code",
   "execution_count": 1316,
   "id": "b3cc5214-9376-4be3-b221-fca55ef58d75",
   "metadata": {},
   "outputs": [
    {
     "data": {
      "text/plain": [
       "4-element Vector{Int64}:\n",
       "  12\n",
       " 456\n",
       " 678\n",
       " 756"
      ]
     },
     "execution_count": 1316,
     "metadata": {},
     "output_type": "execute_result"
    }
   ],
   "source": [
    "q = [456, 12, 678, 756]\n",
    "sort(q)"
   ]
  },
  {
   "cell_type": "code",
   "execution_count": 1317,
   "id": "66630d4f-b427-4aba-b4d3-2a7ca2df00e7",
   "metadata": {},
   "outputs": [
    {
     "data": {
      "text/plain": [
       "4-element Vector{Int64}:\n",
       " 9234\n",
       "  667\n",
       "   45\n",
       "  334"
      ]
     },
     "execution_count": 1317,
     "metadata": {},
     "output_type": "execute_result"
    }
   ],
   "source": [
    "qq = [334, 45, 667, 9234]\n",
    "reverse(qq)"
   ]
  },
  {
   "cell_type": "code",
   "execution_count": 1318,
   "id": "f37e8b71-ef78-4cc4-82ae-5d9de9c4b900",
   "metadata": {},
   "outputs": [
    {
     "data": {
      "text/plain": [
       "4-element Vector{Int64}:\n",
       " 9234\n",
       "  667\n",
       "   45\n",
       "  334"
      ]
     },
     "execution_count": 1318,
     "metadata": {},
     "output_type": "execute_result"
    }
   ],
   "source": [
    "reverse!(qq)"
   ]
  },
  {
   "cell_type": "code",
   "execution_count": 1319,
   "id": "0d5c3beb-d972-42aa-8703-dee2a940537c",
   "metadata": {},
   "outputs": [
    {
     "data": {
      "text/plain": [
       "3-element Vector{Int64}:\n",
       "  12\n",
       "  13\n",
       " 222"
      ]
     },
     "execution_count": 1319,
     "metadata": {},
     "output_type": "execute_result"
    }
   ],
   "source": [
    "qqe = [12, 12, 12, 13, 13, 222, 222]\n",
    "unique(qqe)\n"
   ]
  },
  {
   "cell_type": "markdown",
   "id": "5740812e-7ca6-441d-a9e5-fee3d6b8946f",
   "metadata": {},
   "source": [
    "## Arrays\n",
    "\n",
    "is the general term for organizing data as tables.\n",
    "\n",
    "<ul>\n",
    "<li>Vector: 1 dim</li>\n",
    "<li>Matrice: 2 dims</li>\n",
    "<li>Array: more than 2 dims</li>\n",
    "</ul>\n",
    "\n",
    "<p>\n",
    "An overview of arrays is given in the doc:<br>\n",
    "<a href=\"https://docs.julialang.org/en/v1/manual/arrays/\">julialang.org</a>\n",
    "</p>\n",
    "\n",
    "\n",
    "<p>\n",
    "Arrays are embedded into the core Julia and \"derives its performance from the compiler\".<br>\n",
    "Other than in Py-Numpy.<br>\n",
    "\n",
    "<p>\n",
    "Constructing a one-dim array or vector.\n",
    "</p>"
   ]
  },
  {
   "cell_type": "code",
   "execution_count": 1320,
   "id": "d4269a5f-1e00-40b1-a647-b3ceacf7af4a",
   "metadata": {},
   "outputs": [
    {
     "data": {
      "text/plain": [
       "4-element Vector{Int64}:\n",
       "  1200\n",
       " 14001\n",
       " 13010\n",
       "  8900"
      ]
     },
     "execution_count": 1320,
     "metadata": {},
     "output_type": "execute_result"
    }
   ],
   "source": [
    "tax_collection=[1200, 14001, 13010, 8900]"
   ]
  },
  {
   "cell_type": "code",
   "execution_count": 1321,
   "id": "d278a507-34bc-451e-b831-12031c679a5e",
   "metadata": {},
   "outputs": [
    {
     "name": "stdout",
     "output_type": "stream",
     "text": [
      "Int64\n",
      "Vector{Int64}\n",
      "(4,)\n"
     ]
    }
   ],
   "source": [
    "println(eltype(tax_collection))\n",
    "println(typeof(tax_collection))\n",
    "println(size(tax_collection))"
   ]
  },
  {
   "cell_type": "markdown",
   "id": "b29d1183-a969-4562-9e25-a5700fa67d85",
   "metadata": {},
   "source": [
    "<p>\n",
    "Loosing the comma creates a matrix.\n",
    "</p>"
   ]
  },
  {
   "cell_type": "code",
   "execution_count": 1322,
   "id": "f092379b-20f8-4597-b1eb-30e621389b5e",
   "metadata": {},
   "outputs": [
    {
     "data": {
      "text/plain": [
       "1×4 Matrix{Int64}:\n",
       " 1200  14001  13010  8900"
      ]
     },
     "execution_count": 1322,
     "metadata": {},
     "output_type": "execute_result"
    }
   ],
   "source": [
    "tax_collection_2=[1200 14001 13010 8900]"
   ]
  },
  {
   "cell_type": "code",
   "execution_count": 1323,
   "id": "5dd5c974-2aea-492d-945e-de4e4ca75634",
   "metadata": {},
   "outputs": [
    {
     "name": "stdout",
     "output_type": "stream",
     "text": [
      "Int64\n",
      "Matrix{Int64}\n",
      "(1, 4)\n"
     ]
    }
   ],
   "source": [
    "println(eltype(tax_collection_2))\n",
    "println(typeof(tax_collection_2))\n",
    "println(size(tax_collection_2))"
   ]
  },
  {
   "cell_type": "markdown",
   "id": "c38884d6-8c99-4ee2-995a-ddc60bbb07fc",
   "metadata": {},
   "source": [
    "<p>\n",
    "Type of give the type of the data structure and the type of the elements at once.\n",
    "</p>"
   ]
  },
  {
   "cell_type": "raw",
   "id": "6364a931-ef23-4cab-a735-e5c26d508eb8",
   "metadata": {},
   "source": [
    "eltype(tax_collection)"
   ]
  },
  {
   "cell_type": "code",
   "execution_count": 1324,
   "id": "37ff4cb8-9ff1-4ce0-8f70-b825ebe054c0",
   "metadata": {},
   "outputs": [
    {
     "name": "stdout",
     "output_type": "stream",
     "text": [
      "Vector{String}\n"
     ]
    }
   ],
   "source": [
    "tax_debtors=[\"Ferrara\", \"Argento\", \"Emilia–Romagna\",\"Comacchio\"]\n",
    "println(typeof(tax_debtors))"
   ]
  },
  {
   "cell_type": "markdown",
   "id": "d4c5baaa-bfab-4466-a7a2-135eeb5af279",
   "metadata": {},
   "source": [
    "<p>\n",
    "Bad practice:<br>\n",
    "mix up element types, while possible.<br>\n",
    "It reduces execution speed and Julia is all about speed.\n",
    "</p>"
   ]
  },
  {
   "cell_type": "code",
   "execution_count": 1325,
   "id": "b5365baf-d092-4e66-b8c6-dcac83924d39",
   "metadata": {},
   "outputs": [
    {
     "data": {
      "text/plain": [
       "3-element Vector{Any}:\n",
       "     \"Ferrara\"\n",
       " 1000\n",
       " true"
      ]
     },
     "execution_count": 1325,
     "metadata": {},
     "output_type": "execute_result"
    }
   ],
   "source": [
    "mixed_up=[\"Ferrara\", 1000, true]\n"
   ]
  },
  {
   "cell_type": "code",
   "execution_count": 1326,
   "id": "52f1cfac-80cd-4762-9be9-6bf2c755f569",
   "metadata": {},
   "outputs": [
    {
     "name": "stdout",
     "output_type": "stream",
     "text": [
      "Vector{Any}"
     ]
    }
   ],
   "source": [
    "print(typeof(mixed_up))"
   ]
  },
  {
   "cell_type": "markdown",
   "id": "6b5f5b07-75cb-4cad-aa0e-45ca6530c221",
   "metadata": {},
   "source": [
    "<p>\n",
    "Using spaces & semicolons for construction of vector arrays.\n",
    "</p>"
   ]
  },
  {
   "cell_type": "code",
   "execution_count": 1327,
   "id": "fc8084c0-0e96-4459-b688-5986bda8042c",
   "metadata": {},
   "outputs": [
    {
     "data": {
      "text/plain": [
       "8-element Vector{Int64}:\n",
       " 1\n",
       " 2\n",
       " 3\n",
       " 4\n",
       " 5\n",
       " 6\n",
       " 7\n",
       " 8"
      ]
     },
     "execution_count": 1327,
     "metadata": {},
     "output_type": "execute_result"
    }
   ],
   "source": [
    "t = [[1, 2, 3, 4]; [5, 6, 7, 8]]"
   ]
  },
  {
   "cell_type": "markdown",
   "id": "add73a8e-3fc8-4640-afdb-ca941f0831a3",
   "metadata": {},
   "source": [
    "<p>\n",
    "Creating 2 multidimensional arrays or matrices.<br>\n",
    "The dimensions of the array are shaped by the syntax.<br>\n",
    "An array can be created as 4x2 or 2x4 matrix.<br>\n",
    "This import for matrix multiplication.\n",
    "</p>"
   ]
  },
  {
   "cell_type": "code",
   "execution_count": 1328,
   "id": "d378c34d-8944-4d81-a08b-11aaba05b77f",
   "metadata": {},
   "outputs": [
    {
     "data": {
      "text/plain": [
       "4×2 Matrix{Int64}:\n",
       " 1  5\n",
       " 2  6\n",
       " 3  7\n",
       " 4  8"
      ]
     },
     "execution_count": 1328,
     "metadata": {},
     "output_type": "execute_result"
    }
   ],
   "source": [
    "tti = [[1, 2, 3, 4] [5, 6, 7, 8]]\n"
   ]
  },
  {
   "cell_type": "code",
   "execution_count": 1329,
   "id": "262e5d08-ae7f-494e-86bb-b949a97cde4b",
   "metadata": {},
   "outputs": [
    {
     "name": "stdout",
     "output_type": "stream",
     "text": [
      "Matrix{Int64}(4, 2)\n",
      "[1 5; 2 6; 3 7; 4 8]\n"
     ]
    }
   ],
   "source": [
    "print(typeof(tti))\n",
    "println(size(tti))\n",
    "println(tti)\n"
   ]
  },
  {
   "cell_type": "code",
   "execution_count": 1330,
   "id": "95918be3-87f2-4537-86f3-3b8c927d9b44",
   "metadata": {},
   "outputs": [
    {
     "data": {
      "text/plain": [
       "3×2 Matrix{Int64}:\n",
       " 3  8\n",
       " 3  3\n",
       " 4  9"
      ]
     },
     "execution_count": 1330,
     "metadata": {},
     "output_type": "execute_result"
    }
   ],
   "source": [
    "qq = [[3, 3, 4];; [8 ,3, 9]]"
   ]
  },
  {
   "cell_type": "code",
   "execution_count": 1331,
   "id": "93fcfc64-6924-4ecb-8194-d422ecd7df51",
   "metadata": {},
   "outputs": [
    {
     "data": {
      "text/plain": [
       "2×4 Matrix{Int64}:\n",
       " 1  2  3  4\n",
       " 5  6  7  8"
      ]
     },
     "execution_count": 1331,
     "metadata": {},
     "output_type": "execute_result"
    }
   ],
   "source": [
    "sdf = [1 2 3 4 ; 5 6 7 8]"
   ]
  },
  {
   "cell_type": "code",
   "execution_count": 1332,
   "id": "c9432efd-1f51-4a8d-b1c0-cf402f6db565",
   "metadata": {},
   "outputs": [
    {
     "name": "stdout",
     "output_type": "stream",
     "text": [
      "Matrix{Int64}(2, 4)\n",
      "[1 2 3 4; 5 6 7 8]\n"
     ]
    }
   ],
   "source": [
    "print(typeof(sdf))\n",
    "println(size(sdf))\n",
    "println(sdf)"
   ]
  },
  {
   "cell_type": "code",
   "execution_count": 1333,
   "id": "865ffedf-fe87-4e1f-98e4-3c889bd4b432",
   "metadata": {},
   "outputs": [
    {
     "data": {
      "text/plain": [
       "4×2 Matrix{Int64}:\n",
       " 1  5\n",
       " 2  6\n",
       " 3  7\n",
       " 4  8"
      ]
     },
     "execution_count": 1333,
     "metadata": {},
     "output_type": "execute_result"
    }
   ],
   "source": [
    "trt = [[1, 2, 3, 4] ;; [5, 6, 7, 8]]"
   ]
  },
  {
   "cell_type": "markdown",
   "id": "5ec24662-7065-42d4-a968-031bc529c07e",
   "metadata": {},
   "source": [
    "<p>\n",
    "Concatenating elements.\n",
    "</p>"
   ]
  },
  {
   "cell_type": "code",
   "execution_count": 1334,
   "id": "a7242cda-c7b2-43bf-8891-d140dfcea906",
   "metadata": {},
   "outputs": [
    {
     "data": {
      "text/plain": [
       "2-element Vector{UnitRange{Int64}}:\n",
       " 1:4\n",
       " 5:9"
      ]
     },
     "execution_count": 1334,
     "metadata": {},
     "output_type": "execute_result"
    }
   ],
   "source": [
    "g =  [1:4, 5:9]\n",
    "# No concat"
   ]
  },
  {
   "cell_type": "code",
   "execution_count": 1335,
   "id": "5ed50eab-b64b-43b0-affd-ed95f2b930ca",
   "metadata": {},
   "outputs": [
    {
     "data": {
      "text/plain": [
       "9-element Vector{Int64}:\n",
       " 1\n",
       " 2\n",
       " 3\n",
       " 4\n",
       " 5\n",
       " 6\n",
       " 7\n",
       " 8\n",
       " 9"
      ]
     },
     "execution_count": 1335,
     "metadata": {},
     "output_type": "execute_result"
    }
   ],
   "source": [
    "gt =  [1:4 ;5:9]"
   ]
  },
  {
   "cell_type": "code",
   "execution_count": 1336,
   "id": "7f55deef-1c5e-4c8c-8f9a-1921d8fb2974",
   "metadata": {},
   "outputs": [
    {
     "name": "stdout",
     "output_type": "stream",
     "text": [
      "UnitRange{Int64}[10:11, 100:101]\n",
      "Vector{UnitRange{Int64}}\n"
     ]
    }
   ],
   "source": [
    "gtz = [10:11, 100:101]\n",
    "\n",
    "println(gtz)\n",
    "println(typeof(gtz))"
   ]
  },
  {
   "cell_type": "code",
   "execution_count": 1337,
   "id": "b66cdc5e-bc0d-451b-99b7-c43081875217",
   "metadata": {},
   "outputs": [
    {
     "data": {
      "text/plain": [
       "1×3 Matrix{UnitRange{Int64}}:\n",
       " 10:11  12:13  14:15"
      ]
     },
     "execution_count": 1337,
     "metadata": {},
     "output_type": "execute_result"
    }
   ],
   "source": [
    "gto = [[10:11] [12:13] [14:15]]"
   ]
  },
  {
   "cell_type": "markdown",
   "id": "381eb25f-546b-4f11-a685-1985a43c0bce",
   "metadata": {},
   "source": [
    "### Creating arrays of specific types"
   ]
  },
  {
   "cell_type": "code",
   "execution_count": 1338,
   "id": "556f947d-6b76-417b-9880-b0100d0eb271",
   "metadata": {},
   "outputs": [
    {
     "data": {
      "text/plain": [
       "5-element Vector{Int64}:\n",
       "    5\n",
       "   95\n",
       "   17\n",
       "  343\n",
       " 2393"
      ]
     },
     "execution_count": 1338,
     "metadata": {},
     "output_type": "execute_result"
    }
   ],
   "source": [
    "d = Int64[5, 95, 17, 343, 2393]\n",
    "\n"
   ]
  },
  {
   "cell_type": "markdown",
   "id": "23ca03a1-37c4-4c86-9558-df2458aa088e",
   "metadata": {},
   "source": [
    "<p>\n",
    "The float array converts the ints.\n",
    "</p>\n",
    "\n",
    "<p>\n",
    "This is not the case for the int array.<br>\n",
    "i = Int64[5, 9.4, 7.1, 10, 343, 2393]<br>\n",
    "InexactError: Int64(9.5)\n",
    "</p>"
   ]
  },
  {
   "cell_type": "code",
   "execution_count": 1339,
   "id": "e667e9e3-e170-4896-9247-fd4060ccf4f7",
   "metadata": {},
   "outputs": [
    {
     "data": {
      "text/plain": [
       "6-element Vector{Float64}:\n",
       "    5.0\n",
       "    9.5\n",
       "    7.1\n",
       "   10.0\n",
       "  343.0\n",
       " 2393.0"
      ]
     },
     "execution_count": 1339,
     "metadata": {},
     "output_type": "execute_result"
    }
   ],
   "source": [
    "i = Float64[5, 9.5, 7.1,10, 343, 2393]"
   ]
  },
  {
   "cell_type": "code",
   "execution_count": 1340,
   "id": "da843cc9-9ed0-44e6-9b9f-bc0dc02e9cbb",
   "metadata": {},
   "outputs": [
    {
     "data": {
      "text/plain": [
       "1×6 Matrix{Float64}:\n",
       " 5.0  9.5  7.11  0.0  343.0  2393.0"
      ]
     },
     "execution_count": 1340,
     "metadata": {},
     "output_type": "execute_result"
    }
   ],
   "source": [
    "i22 = Float64[5 9.5 7.11 0 343 2393]"
   ]
  },
  {
   "cell_type": "markdown",
   "id": "325636d1-e4e5-4fc4-821d-5ba603e7bc5c",
   "metadata": {},
   "source": [
    "### Empty arrays"
   ]
  },
  {
   "cell_type": "code",
   "execution_count": 1341,
   "id": "d0af032f-1a86-4bc4-a2b4-4fec35c360b4",
   "metadata": {},
   "outputs": [
    {
     "data": {
      "text/plain": [
       "5-element Vector{Float64}:\n",
       " 0.0\n",
       " 0.0\n",
       " 0.0\n",
       " 0.0\n",
       " 0.0"
      ]
     },
     "execution_count": 1341,
     "metadata": {},
     "output_type": "execute_result"
    }
   ],
   "source": [
    "ar_zeros = zeros(Float64, 5)"
   ]
  },
  {
   "cell_type": "code",
   "execution_count": 1342,
   "id": "5fd0a1d9-4684-4224-aa3a-a682df93ff13",
   "metadata": {},
   "outputs": [
    {
     "name": "stdout",
     "output_type": "stream",
     "text": [
      "[6666.0, 0.0, 0.0, 0.0, 0.0]\n"
     ]
    }
   ],
   "source": [
    "ar_zeros[1] = 6666\n",
    "println(ar_zeros)"
   ]
  },
  {
   "cell_type": "code",
   "execution_count": 1343,
   "id": "6152ac83-b8e3-4150-bd8c-9dd626aa9997",
   "metadata": {},
   "outputs": [
    {
     "name": "stdout",
     "output_type": "stream",
     "text": [
      "[6666.0, 100.0, 101.0, 103.0, 0.0]\n"
     ]
    }
   ],
   "source": [
    "ar_zeros[2:4] = [100.0, 101.0, 103.0]\n",
    "println(ar_zeros)"
   ]
  },
  {
   "cell_type": "markdown",
   "id": "dbd5fb7b-c6d2-4dde-b1b7-3c61202eed18",
   "metadata": {},
   "source": [
    "### Manipulating arrays\n",
    "\n",
    "<p>\n",
    "with funcs. Such modifying funcs using an ! at the end.\n",
    "The func push! extends the array.\n",
    "</p>\n",
    " \n"
   ]
  },
  {
   "cell_type": "code",
   "execution_count": 1344,
   "id": "174b2abd-7c00-4463-b9e2-2a705fc98b34",
   "metadata": {},
   "outputs": [
    {
     "name": "stdout",
     "output_type": "stream",
     "text": [
      "[234, 4555, 668, 900000000]\n",
      "Vector{Int64}\n"
     ]
    }
   ],
   "source": [
    "p = [234, 4555, 668]\n",
    "\n",
    "push!(p, 900000000)\n",
    "\n",
    "println(p)\n",
    "println(typeof(p))"
   ]
  },
  {
   "cell_type": "code",
   "execution_count": 1345,
   "id": "ce202336-97e9-44ad-8e20-98b35c23a4b6",
   "metadata": {},
   "outputs": [
    {
     "data": {
      "text/plain": [
       "6-element Vector{Int64}:\n",
       "       234\n",
       "      4555\n",
       "       668\n",
       " 900000000\n",
       "       777\n",
       "       999"
      ]
     },
     "execution_count": 1345,
     "metadata": {},
     "output_type": "execute_result"
    }
   ],
   "source": [
    "push!(p, 777, 999)"
   ]
  },
  {
   "cell_type": "code",
   "execution_count": 1346,
   "id": "2749e0d3-855d-4624-844d-10203fcc8682",
   "metadata": {},
   "outputs": [
    {
     "data": {
      "text/plain": [
       "9-element Vector{Int64}:\n",
       "       234\n",
       "      4555\n",
       "       668\n",
       " 900000000\n",
       "       777\n",
       "       999\n",
       "      1666\n",
       "      1777\n",
       "      1888"
      ]
     },
     "execution_count": 1346,
     "metadata": {},
     "output_type": "execute_result"
    }
   ],
   "source": [
    "append!(p,  [1666, 1777, 1888])"
   ]
  },
  {
   "cell_type": "markdown",
   "id": "848b42ae-514e-4e8b-a2c8-0a1679f038b3",
   "metadata": {},
   "source": []
  },
  {
   "cell_type": "code",
   "execution_count": 1347,
   "id": "059b666b-c3e3-468b-a3c2-1a39cbd5a757",
   "metadata": {},
   "outputs": [
    {
     "name": "stdout",
     "output_type": "stream",
     "text": [
      "[222, 333, 444, 555, 666]\n",
      "[222, 333, 444, 555]\n",
      "[222, 333, 444, 555, 666]\n",
      "666\n",
      "[222, 333, 444, 555]\n"
     ]
    }
   ],
   "source": [
    "op = [222, 333, 444, 555, 666]\n",
    "println(op)\n",
    "\n",
    "remove_last_e = op[1:end-1]\n",
    "println(remove_last_e)\n",
    "println(op)\n",
    "\n",
    "# Pop removes from the original list\n",
    "get_last_e_with_pop = pop!(op)\n",
    "println(get_last_e_with_pop)\n",
    "println(op)"
   ]
  },
  {
   "cell_type": "code",
   "execution_count": 1348,
   "id": "cfb996b9-e4a2-418e-ad07-684063bb8610",
   "metadata": {},
   "outputs": [
    {
     "data": {
      "text/plain": [
       "pwd (generic function with 1 method)"
      ]
     },
     "execution_count": 1348,
     "metadata": {},
     "output_type": "execute_result"
    }
   ],
   "source": [
    "pwd"
   ]
  },
  {
   "cell_type": "markdown",
   "id": "5d5a0a2e-c3ba-4a94-93c4-a902d5e353c8",
   "metadata": {},
   "source": [
    "#### Simple array functions"
   ]
  },
  {
   "cell_type": "code",
   "execution_count": 1349,
   "id": "74f73d55-f260-4e53-b330-04dd88d8f519",
   "metadata": {},
   "outputs": [
    {
     "data": {
      "text/plain": [
       "11-element Vector{String}:\n",
       " \"The\"\n",
       " \"entire\"\n",
       " \"monarchy\"\n",
       " \"of\"\n",
       " \"the\"\n",
       " \"Turk\"\n",
       " \"is\"\n",
       " \"governed\"\n",
       " \"by\"\n",
       " \"one\"\n",
       " \"lord.\""
      ]
     },
     "execution_count": 1349,
     "metadata": {},
     "output_type": "execute_result"
    }
   ],
   "source": [
    "turk = [\"The\", \"entire\",  \"monarchy\", \"of\",  \"the\",  \"Turk\",  \"is\" , \"governed\", \"by\",  \"one\",  \"lord.\"]"
   ]
  },
  {
   "cell_type": "code",
   "execution_count": 1350,
   "id": "076c5fd8-c996-424d-8d03-56824bbad38d",
   "metadata": {},
   "outputs": [
    {
     "name": "stdout",
     "output_type": "stream",
     "text": [
      "[\"The\", \"entire\", \"monarchy\", \"of\", \"the\", \"Turk\", \"is\", \"governed\", \"by\", \"one\", \"lord.\"]\n",
      "[\"The\", \"Turk\", \"by\", \"entire\", \"governed\", \"is\", \"lord.\", \"monarchy\", \"of\", \"one\", \"the\"]\n"
     ]
    }
   ],
   "source": [
    "turk_sorted = sort(turk)\n",
    "\n",
    "println(turk)\n",
    "println(turk_sorted)"
   ]
  },
  {
   "cell_type": "code",
   "execution_count": 1351,
   "id": "59032e73-13e1-4e8c-9b34-f5e3e7fdb529",
   "metadata": {},
   "outputs": [
    {
     "name": "stdout",
     "output_type": "stream",
     "text": [
      "[889, 23, 23, 23, 12122, 4556, 78, 78]\n",
      "[23, 23, 23, 78, 78, 889, 4556, 12122]\n"
     ]
    }
   ],
   "source": [
    "n_23 = [889, 23, 23, 23, 12122, 4556, 78, 78]\n",
    "\n",
    "n_23_sorted = sort(n_23)\n",
    "\n",
    "println(n_23)\n",
    "println(n_23_sorted)"
   ]
  },
  {
   "cell_type": "code",
   "execution_count": 1352,
   "id": "e7b5950c-c3ee-4fbd-8192-54f214b5c003",
   "metadata": {},
   "outputs": [
    {
     "name": "stdout",
     "output_type": "stream",
     "text": [
      "[889, 23, 23, 23, 12122, 4556, 78, 78]\n",
      "[78, 78, 4556, 12122, 23, 23, 23, 889]\n"
     ]
    }
   ],
   "source": [
    "println(n_23)\n",
    "println(reverse(n_23))"
   ]
  },
  {
   "cell_type": "code",
   "execution_count": 1353,
   "id": "f33dfcf8-89f7-4310-8886-e19630b15f90",
   "metadata": {},
   "outputs": [
    {
     "data": {
      "text/plain": [
       "5-element Vector{Int64}:\n",
       "   889\n",
       "    23\n",
       " 12122\n",
       "  4556\n",
       "    78"
      ]
     },
     "execution_count": 1353,
     "metadata": {},
     "output_type": "execute_result"
    }
   ],
   "source": [
    "unique(n_23)"
   ]
  },
  {
   "cell_type": "markdown",
   "id": "bafc5e53-a05c-4ad5-b243-7d5b004578af",
   "metadata": {},
   "source": [
    "### Scalar vector operations\n",
    "\n",
    "<p>\n",
    "The . before the sign + signals a vector operations.<br>\n",
    "The scalar is added to each element in the vector.<br>\n",
    "</p>\n"
   ]
  },
  {
   "cell_type": "code",
   "execution_count": 1354,
   "id": "9c99c1fe-94bc-4c22-8cb0-278ca9c8d603",
   "metadata": {},
   "outputs": [
    {
     "name": "stdout",
     "output_type": "stream",
     "text": [
      "[1, 2, 3, 4, 5, 6, 7, 8, 9, 10]\n",
      "[6, 7, 8, 9, 10, 11, 12, 13, 14, 15]\n"
     ]
    }
   ],
   "source": [
    "nn = [1, 2, 3, 4, 5,6, 7, 8, 9, 10]\n",
    "\n",
    "add_scalar = 5\n",
    "# adding needs the .+ syntax\n",
    "nn_sum = nn .+ add_scalar\n",
    "\n",
    "println(nn)\n",
    "println(nn_sum)"
   ]
  },
  {
   "cell_type": "code",
   "execution_count": 1355,
   "id": "7ee96d8f-f142-4b19-9142-635470ac7179",
   "metadata": {},
   "outputs": [
    {
     "name": "stdout",
     "output_type": "stream",
     "text": [
      "Vector{Int64}\n",
      "[1, 2, 3, 4, 5, 6, 7, 8, 9, 10]\n"
     ]
    }
   ],
   "source": [
    "println(typeof(nn))\n",
    "println(nn)"
   ]
  },
  {
   "cell_type": "code",
   "execution_count": 1356,
   "id": "2798b5fe-7f3e-4957-8880-72ef22df3b49",
   "metadata": {},
   "outputs": [
    {
     "name": "stdout",
     "output_type": "stream",
     "text": [
      "[1, 2, 3, 4, 5, 6, 7, 8, 9, 10]\n",
      "[-5, -4, -3, -2, -1, 0, 1, 2, 3, 4]\n"
     ]
    }
   ],
   "source": [
    "difference = nn .- 6\n",
    "\n",
    "println(nn)\n",
    "println(difference)"
   ]
  },
  {
   "cell_type": "code",
   "execution_count": 1357,
   "id": "d3b31bae-5c4f-4e10-b098-cf93aa40dea8",
   "metadata": {},
   "outputs": [
    {
     "name": "stdout",
     "output_type": "stream",
     "text": [
      "[1, 2, 3, 4, 5, 6, 7, 8, 9, 10]\n",
      "[3, 6, 9, 12, 15, 18, 21, 24, 27, 30]\n"
     ]
    }
   ],
   "source": [
    "scalar = 3\n",
    "# the .* is optional\n",
    "product = nn * scalar\n",
    "\n",
    "println(nn)\n",
    "println(product)"
   ]
  },
  {
   "cell_type": "code",
   "execution_count": 1358,
   "id": "fc597401-eb74-418b-ba82-0961c2064b66",
   "metadata": {},
   "outputs": [
    {
     "name": "stdout",
     "output_type": "stream",
     "text": [
      "[1, 2, 3, 4, 5, 6, 7, 8, 9, 10]\n",
      "[0.5, 1.0, 1.5, 2.0, 2.5, 3.0, 3.5, 4.0, 4.5, 5.0]\n"
     ]
    }
   ],
   "source": [
    "quotient = nn ./ 2\n",
    "\n",
    "println(nn)\n",
    "println(quotient)"
   ]
  },
  {
   "cell_type": "markdown",
   "id": "a874b4a9-5a80-4de1-a665-f36da99daa68",
   "metadata": {},
   "source": [
    "### Matrices operations\n",
    "\n",
    "<p>\n",
    "The . before the sign +/*/- signals matrice or array operations.<br>\n",
    "The operations are based on linear algebra.<br>\n",
    "Linear algebra is fundamental for machine learning.<br>\n",
    "With matrices operations, coefficients or weights stored in one table are multiplied with variables in another table.<br>\n",
    "The outputs are raw predictions.\n",
    "The difference between these predictions and the actual values are the errors.<br>    \n",
    "The errors are in turn optimized, for example with Gradient Descent calculus algorithm.<br>\n",
    "The goal is to minimize the error by finding the combination of weights with the lowest error.\n",
    "</p>\n",
    "\n",
    "<a href = \"https://www.mathsisfun.com/algebra/matrix-introduction.html\" targt=_blank>mathsisfun</a>\n",
    "\n",
    "\n",
    "\n",
    "\n",
    "\n"
   ]
  },
  {
   "cell_type": "code",
   "execution_count": 1359,
   "id": "d6333b2d-82cc-4c8d-a5e3-02f0df04cd7d",
   "metadata": {},
   "outputs": [
    {
     "name": "stdout",
     "output_type": "stream",
     "text": [
      "Matrix{Int64}\n",
      "(1, 2)\n",
      "Vector{Int64}\n",
      "(2,)\n"
     ]
    },
    {
     "data": {
      "text/plain": [
       "2×2 Matrix{Int64}:\n",
       "  8  12\n",
       " 10  15"
      ]
     },
     "execution_count": 1359,
     "metadata": {},
     "output_type": "execute_result"
    }
   ],
   "source": [
    "ff = [2 3]\n",
    "println(typeof(ff))\n",
    "println(size(ff))\n",
    "\n",
    "tt = [4, 5]\n",
    "println(typeof(tt))\n",
    "println(size(tt))\n",
    "\n",
    "tt .* ff"
   ]
  },
  {
   "cell_type": "code",
   "execution_count": 1360,
   "id": "2b9f535a-3b79-4ce9-a80c-390bf35890da",
   "metadata": {},
   "outputs": [
    {
     "data": {
      "text/plain": [
       "2×2 Matrix{Int64}:\n",
       " 6  7\n",
       " 7  8"
      ]
     },
     "execution_count": 1360,
     "metadata": {},
     "output_type": "execute_result"
    }
   ],
   "source": [
    "tt .+ ff"
   ]
  },
  {
   "cell_type": "markdown",
   "id": "8bc3d52e-6091-4cc4-927a-ca6c2e91d274",
   "metadata": {},
   "source": [
    "#### Matrix multiplication"
   ]
  },
  {
   "cell_type": "code",
   "execution_count": 1361,
   "id": "d510cc9b-29f8-4b62-a430-d26a4aa93ea4",
   "metadata": {},
   "outputs": [
    {
     "name": "stdout",
     "output_type": "stream",
     "text": [
      "[6 9; 5 7]\n",
      "[2 3]\n"
     ]
    }
   ],
   "source": [
    "rr = [6 9; 5 7]\n",
    "\n",
    "println(rr)\n",
    "println(ff)"
   ]
  },
  {
   "cell_type": "code",
   "execution_count": 1362,
   "id": "f8b5f77c-19d3-494c-bb93-14d4c86047e8",
   "metadata": {},
   "outputs": [
    {
     "data": {
      "text/plain": [
       "2×2 Matrix{Int64}:\n",
       " 12  27\n",
       " 10  21"
      ]
     },
     "execution_count": 1362,
     "metadata": {},
     "output_type": "execute_result"
    }
   ],
   "source": [
    "rr .* ff"
   ]
  },
  {
   "cell_type": "code",
   "execution_count": 1363,
   "id": "96dca836-0272-4a73-aaff-ee52aa9bc5bc",
   "metadata": {},
   "outputs": [
    {
     "data": {
      "text/plain": [
       "2×2 Matrix{Int64}:\n",
       " 8  12\n",
       " 7  10"
      ]
     },
     "execution_count": 1363,
     "metadata": {},
     "output_type": "execute_result"
    }
   ],
   "source": [
    "rr .+ ff"
   ]
  },
  {
   "cell_type": "code",
   "execution_count": 1364,
   "id": "1cf00456-7484-4e11-9514-6cd9c951fecb",
   "metadata": {},
   "outputs": [
    {
     "name": "stdout",
     "output_type": "stream",
     "text": [
      "[4 6 2; 6 7 8]\n",
      "[2 3]\n"
     ]
    }
   ],
   "source": [
    "ee = [4 6 2 ;  6 7 8]\n",
    "\n",
    "println(ee)\n",
    "println(ff)"
   ]
  },
  {
   "cell_type": "code",
   "execution_count": 1365,
   "id": "7b639000-a9e8-4f64-97db-9a3b51ad3b59",
   "metadata": {},
   "outputs": [
    {
     "data": {
      "text/plain": [
       "1×3 Matrix{Int64}:\n",
       " 26  33  28"
      ]
     },
     "metadata": {},
     "output_type": "display_data"
    }
   ],
   "source": [
    "display(*(ff , ee))"
   ]
  },
  {
   "cell_type": "code",
   "execution_count": 1366,
   "id": "c60ae629-3815-4503-bf4d-7c2fe29d5eb6",
   "metadata": {},
   "outputs": [
    {
     "data": {
      "text/plain": [
       "3×2 Matrix{Int64}:\n",
       " 3  8\n",
       " 3  3\n",
       " 4  9"
      ]
     },
     "execution_count": 1366,
     "metadata": {},
     "output_type": "execute_result"
    }
   ],
   "source": [
    "ww = [[3, 3, 4] ;; [8, 3, 9]]"
   ]
  },
  {
   "cell_type": "code",
   "execution_count": 1367,
   "id": "08f4771d-ca0e-4f27-ab47-7ad210551b36",
   "metadata": {},
   "outputs": [
    {
     "data": {
      "text/plain": [
       "3×3 Matrix{Int64}:\n",
       " 60  74  70\n",
       " 30  39  30\n",
       " 70  87  80"
      ]
     },
     "execution_count": 1367,
     "metadata": {},
     "output_type": "execute_result"
    }
   ],
   "source": [
    "*(ww, ee)"
   ]
  },
  {
   "cell_type": "code",
   "execution_count": 1368,
   "id": "cafce86d-3add-4b8c-90bb-32484893ce81",
   "metadata": {},
   "outputs": [
    {
     "data": {
      "text/plain": [
       "3×3 Matrix{Int64}:\n",
       " 60  74  70\n",
       " 30  39  30\n",
       " 70  87  80"
      ]
     },
     "execution_count": 1368,
     "metadata": {},
     "output_type": "execute_result"
    }
   ],
   "source": [
    "ww * ee"
   ]
  },
  {
   "cell_type": "markdown",
   "id": "ea76b8b9-c8d7-4b87-8622-6d7c21f30c15",
   "metadata": {},
   "source": [
    "#### Broadcasting"
   ]
  },
  {
   "cell_type": "code",
   "execution_count": 1369,
   "id": "ce972705-d19a-4a8d-a849-1c8c9b3e399c",
   "metadata": {},
   "outputs": [
    {
     "data": {
      "text/plain": [
       "4×2 Matrix{Int64}:\n",
       "  6   8\n",
       "  8  10\n",
       " 10  12\n",
       " 12  14"
      ]
     },
     "execution_count": 1369,
     "metadata": {},
     "output_type": "execute_result"
    }
   ],
   "source": [
    "A = [1 2];  \n",
    "B = [5 6; 7 8; 9 10; 11 12]; \n",
    "broadcast(+, A, B)\n"
   ]
  },
  {
   "cell_type": "markdown",
   "id": "1b72e4cf-be3f-493a-813e-c3aa5790bd92",
   "metadata": {},
   "source": [
    "#### Dot product operations\n",
    "\n",
    "<a href=\"https://www.mathsisfun.com/algebra/vectors-dot-product.html\">\n",
    "www.mathsisfun.com\n",
    "</a>"
   ]
  },
  {
   "cell_type": "code",
   "execution_count": 1370,
   "id": "5307a485-6e46-4947-83fb-64fdbe5c0568",
   "metadata": {},
   "outputs": [
    {
     "name": "stdout",
     "output_type": "stream",
     "text": [
      "1.0\n",
      "0.5403023058681398\n",
      "0.15425144988758405\n",
      "-0.4480736161291702\n"
     ]
    }
   ],
   "source": [
    "println(cos(abs(0)))\n",
    "println(cos(abs(1)))\n",
    "println(cos(abs(30)))\n",
    "println(cos(abs(90)))\n"
   ]
  },
  {
   "cell_type": "markdown",
   "id": "b8311bbe-46d5-4268-ba8b-fdced2742b01",
   "metadata": {},
   "source": [
    "#### cosd: It returns the calculated cosine of the specified value in degrees."
   ]
  },
  {
   "cell_type": "code",
   "execution_count": 1371,
   "id": "427fcdcb-460a-47ad-93ac-50ec6307feb6",
   "metadata": {},
   "outputs": [
    {
     "data": {
      "text/plain": [
       "0.5075383629607042"
      ]
     },
     "execution_count": 1371,
     "metadata": {},
     "output_type": "execute_result"
    }
   ],
   "source": [
    "cosd(abs(59.5))"
   ]
  },
  {
   "cell_type": "code",
   "execution_count": 1372,
   "id": "f8597984-9143-438a-a5c3-ab14b2873c8c",
   "metadata": {},
   "outputs": [
    {
     "name": "stdout",
     "output_type": "stream",
     "text": [
      "66.0\n"
     ]
    }
   ],
   "source": [
    "fg=abs(10)\n",
    "gh=abs(13)\n",
    "\n",
    "dot_prod_1 = fg*gh*cosd(59.5)\n",
    "println(round(dot_prod_1))"
   ]
  },
  {
   "cell_type": "code",
   "execution_count": 1373,
   "id": "fb86e41b-bf8f-4360-9d07-027fe3089c68",
   "metadata": {},
   "outputs": [
    {
     "name": "stdout",
     "output_type": "stream",
     "text": [
      "66\n"
     ]
    }
   ],
   "source": [
    "#a · b = -6 × 5 + 8 × 12\n",
    "dot_prod_2 = -6*5 + 8*12\n",
    "println(dot_prod_2)"
   ]
  },
  {
   "cell_type": "markdown",
   "id": "d8108bbe-c287-4fc1-bc7f-b7740798494a",
   "metadata": {},
   "source": [
    "#### With Julia"
   ]
  },
  {
   "cell_type": "code",
   "execution_count": 1374,
   "id": "e3752b4b-3461-4535-9a80-3c6492d0e77d",
   "metadata": {},
   "outputs": [
    {
     "data": {
      "text/plain": [
       "66"
      ]
     },
     "execution_count": 1374,
     "metadata": {},
     "output_type": "execute_result"
    }
   ],
   "source": [
    "LinearAlgebra.dot([8,-6], [12,5])"
   ]
  },
  {
   "cell_type": "code",
   "execution_count": 1375,
   "id": "fec3ac00-7e46-402a-bd32-8e27c237c45c",
   "metadata": {},
   "outputs": [
    {
     "data": {
      "text/plain": [
       "188"
      ]
     },
     "execution_count": 1375,
     "metadata": {},
     "output_type": "execute_result"
    }
   ],
   "source": [
    "LinearAlgebra.dot(ww, ee)"
   ]
  },
  {
   "cell_type": "markdown",
   "id": "3853fa4a-941b-4dfa-ace5-fadf39d577f3",
   "metadata": {},
   "source": [
    "## Conditional Control flows\n",
    "\n",
    "<p>\n",
    "are fundamental to coding.\n",
    "</p>\n",
    "\n",
    "<p>\n",
    "\"Computer programs also make decisions, using Boolean expressions (true/false) inside conditionals (if/else). <br>\n",
    "Thanks to conditionals, programs can respond differently based on different inputs and parameters.\" (Khan Academy)\n",
    "</p>\n",
    "\n",
    "<p>\n",
    "Operators = and >\n",
    "</p>"
   ]
  },
  {
   "cell_type": "markdown",
   "id": "d1c3b99f-0d83-404a-bd6f-b1f9b01016af",
   "metadata": {},
   "source": [
    "#### Other operators\n",
    "\n",
    "\n",
    "<a href=\"https://www.geeksforgeeks.org/operators-in-julia/\">\n",
    "coperators-in-julia/\n",
    "</a>"
   ]
  },
  {
   "cell_type": "code",
   "execution_count": 1376,
   "id": "91058f22-2c82-46ef-90b0-f8d01cfe5064",
   "metadata": {},
   "outputs": [
    {
     "data": {
      "text/plain": [
       "false"
      ]
     },
     "execution_count": 1376,
     "metadata": {},
     "output_type": "execute_result"
    }
   ],
   "source": [
    "100 == 2000"
   ]
  },
  {
   "cell_type": "code",
   "execution_count": 1377,
   "id": "a9a7c0d6-8e3a-4ff8-8999-b568e66b2232",
   "metadata": {},
   "outputs": [
    {
     "data": {
      "text/plain": [
       "true"
      ]
     },
     "execution_count": 1377,
     "metadata": {},
     "output_type": "execute_result"
    }
   ],
   "source": [
    "100 != 2000"
   ]
  },
  {
   "cell_type": "code",
   "execution_count": 1378,
   "id": "c1604df4-26f2-42a5-bcc0-ed9fe118b4c0",
   "metadata": {},
   "outputs": [
    {
     "data": {
      "text/plain": [
       "true"
      ]
     },
     "execution_count": 1378,
     "metadata": {},
     "output_type": "execute_result"
    }
   ],
   "source": [
    "100 <= 100"
   ]
  },
  {
   "cell_type": "code",
   "execution_count": 1379,
   "id": "5bcf8724-134c-4b03-a8c2-3927f5f8faec",
   "metadata": {},
   "outputs": [
    {
     "name": "stdout",
     "output_type": "stream",
     "text": [
      "true\n",
      "false\n"
     ]
    }
   ],
   "source": [
    "a=234\n",
    "\n",
    "println(typeof(a) == Int64)\n",
    "println(typeof(a) == Float64)"
   ]
  },
  {
   "cell_type": "code",
   "execution_count": 1380,
   "id": "f59cd612-b0c1-4558-b0b4-14fc863eaa35",
   "metadata": {},
   "outputs": [
    {
     "data": {
      "text/plain": [
       "32"
      ]
     },
     "execution_count": 1380,
     "metadata": {},
     "output_type": "execute_result"
    }
   ],
   "source": [
    "100 & 50"
   ]
  },
  {
   "cell_type": "code",
   "execution_count": 1381,
   "id": "ea90486b-d00e-4a30-bbd4-fcca038ac0d4",
   "metadata": {},
   "outputs": [
    {
     "name": "stdout",
     "output_type": "stream",
     "text": [
      "How can I serve you, my duke!\n"
     ]
    }
   ],
   "source": [
    "is_duke = true\n",
    "\n",
    "if is_duke\n",
    "    # no colon here!\n",
    "    println(\"How can I serve you, my duke!\")\n",
    "end"
   ]
  },
  {
   "cell_type": "code",
   "execution_count": 1382,
   "id": "fa0abed9-525f-4ade-8a1a-2292ec8a162a",
   "metadata": {},
   "outputs": [
    {
     "name": "stdout",
     "output_type": "stream",
     "text": [
      "What do you want, beggar?\n"
     ]
    }
   ],
   "source": [
    "is_duke = false\n",
    "\n",
    "if is_duke\n",
    "    # no colon here!\n",
    "    println(\"How can I serve you, my duke!\")\n",
    "else    \n",
    "    println(\"What do you want, beggar?\")\n",
    "end"
   ]
  },
  {
   "cell_type": "code",
   "execution_count": 1383,
   "id": "7b15c75a-1f5a-46e4-aefa-ff37c9d2b62b",
   "metadata": {},
   "outputs": [
    {
     "name": "stdout",
     "output_type": "stream",
     "text": [
      "Buy flowers for Catherina Sforza!\n"
     ]
    }
   ],
   "source": [
    "treasure = 70\n",
    "\n",
    "if treasure > 80\n",
    "    println(\"Buy the diadem for Catherina Sforza!\")\n",
    "    \n",
    "else\n",
    "    println(\"Buy flowers for Catherina Sforza!\")\n",
    "        \n",
    "end"
   ]
  },
  {
   "cell_type": "code",
   "execution_count": null,
   "id": "d62c6ecb-a1b1-47f7-99a8-28f2fed296d3",
   "metadata": {},
   "outputs": [],
   "source": []
  },
  {
   "cell_type": "code",
   "execution_count": 1384,
   "id": "a2c6e035-71d4-4704-882a-ba62eb32e8e9",
   "metadata": {},
   "outputs": [
    {
     "name": "stdout",
     "output_type": "stream",
     "text": [
      "Buy a silver necklace for Catherina Sforza!\n"
     ]
    }
   ],
   "source": [
    "treasure = 67\n",
    "\n",
    "if treasure > 80\n",
    "    println(\"Buy the diadem for Catherina Sforza!\")\n",
    "    \n",
    "elseif treasure > 60 && treasure < 80\n",
    "    println(\"Buy a silver necklace for Catherina Sforza!\")\n",
    "    \n",
    "else\n",
    "    println(\"Buy flowers for Catherina Sforza!\")\n",
    "    \n",
    "end"
   ]
  },
  {
   "cell_type": "markdown",
   "id": "fca9fc59-302a-4182-af7b-e873cc4334c7",
   "metadata": {},
   "source": [
    "## Functions\n",
    "\n",
    "<p>customized, self defined like:<br>\n",
    "lb = kg * 2.2046</p>"
   ]
  },
  {
   "cell_type": "code",
   "execution_count": 1385,
   "id": "5e659780-7f08-4b5a-bb58-65eac6bf9034",
   "metadata": {},
   "outputs": [
    {
     "data": {
      "text/plain": [
       "kilo_to_pound (generic function with 1 method)"
      ]
     },
     "execution_count": 1385,
     "metadata": {},
     "output_type": "execute_result"
    }
   ],
   "source": [
    "# func declaration\n",
    "function kilo_to_pound(kg)\n",
    "    # function body\n",
    "    lb = kg  * 2.2046\n",
    "    # return statement\n",
    "    return round(lb, digits=2)\n",
    "end"
   ]
  },
  {
   "cell_type": "code",
   "execution_count": 1386,
   "id": "212aa5b8-7af9-4fde-b67e-1865f5b230bc",
   "metadata": {},
   "outputs": [
    {
     "name": "stdout",
     "output_type": "stream",
     "text": [
      "8.82\n"
     ]
    }
   ],
   "source": [
    "pound_2=kilo_to_pound(4)\n",
    "println(pound_2)"
   ]
  },
  {
   "cell_type": "code",
   "execution_count": 1387,
   "id": "711b778b-6641-44a1-861a-f009ce5564df",
   "metadata": {},
   "outputs": [
    {
     "name": "stdout",
     "output_type": "stream",
     "text": [
      "909.04\n"
     ]
    }
   ],
   "source": [
    "pound_2=kilo_to_pound(412.34)\n",
    "println(pound_2)"
   ]
  },
  {
   "cell_type": "code",
   "execution_count": 1388,
   "id": "1556d465-a658-47e4-bde4-865458265efc",
   "metadata": {},
   "outputs": [
    {
     "data": {
      "text/plain": [
       "buy_presents_2 (generic function with 1 method)"
      ]
     },
     "execution_count": 1388,
     "metadata": {},
     "output_type": "execute_result"
    }
   ],
   "source": [
    "\n",
    "function buy_presents_2(treasure)\n",
    "    \n",
    "\n",
    "    if treasure > 80\n",
    "        println(\"Buy the diadem for Catherina Sforza!\")\n",
    "\n",
    "    elseif treasure > 60 && treasure < 80\n",
    "        println(\"Buy a silver necklace for Catherina Sforza!\")\n",
    "\n",
    "    else\n",
    "        println(\"Buy flowers for Catherina Sforza!\")\n",
    "\n",
    "    end\n",
    "end\n"
   ]
  },
  {
   "cell_type": "code",
   "execution_count": 1389,
   "id": "7104d487-ef30-43a5-bc25-db0ae17a5304",
   "metadata": {},
   "outputs": [
    {
     "name": "stdout",
     "output_type": "stream",
     "text": [
      "Buy a silver necklace for Catherina Sforza!\n"
     ]
    }
   ],
   "source": [
    "buy_presents_2(76)"
   ]
  },
  {
   "cell_type": "code",
   "execution_count": 1390,
   "id": "688adbc2-4b34-40d6-a248-b5d1e9679475",
   "metadata": {},
   "outputs": [
    {
     "name": "stdout",
     "output_type": "stream",
     "text": [
      "Buy flowers for Catherina Sforza!\n"
     ]
    }
   ],
   "source": [
    "buy_presents_2(12)"
   ]
  },
  {
   "cell_type": "code",
   "execution_count": 1391,
   "id": "65055c74-2b8f-4932-a618-1369b37bea08",
   "metadata": {},
   "outputs": [
    {
     "name": "stdout",
     "output_type": "stream",
     "text": [
      "Buy the diadem for Catherina Sforza!\n"
     ]
    }
   ],
   "source": [
    "buy_presents_2(200)"
   ]
  },
  {
   "cell_type": "markdown",
   "id": "6dee415a-024f-4db3-8113-f53669ba35f5",
   "metadata": {},
   "source": [
    "### Multiple arguments\n",
    "\n",
    "<p>\n",
    "Formula for Velocity:<br>\n",
    "In simple way, it is<br>\n",
    "V=d/t<br>\n",
    "d = X2 - X1\n",
    "</p>"
   ]
  },
  {
   "cell_type": "code",
   "execution_count": 1392,
   "id": "0be423da-33cb-4baa-b5f6-46f4b5aa8bcc",
   "metadata": {},
   "outputs": [
    {
     "data": {
      "text/plain": [
       "velocity_33 (generic function with 1 method)"
      ]
     },
     "execution_count": 1392,
     "metadata": {},
     "output_type": "execute_result"
    }
   ],
   "source": [
    "function velocity_33(X1, X2, t)\n",
    "    V = X1 - X2 / t\n",
    "    return round(V, digits=2)\n",
    "end"
   ]
  },
  {
   "cell_type": "code",
   "execution_count": 1393,
   "id": "d407e68d-7f8b-44a6-b496-54964eca9f01",
   "metadata": {},
   "outputs": [
    {
     "name": "stdout",
     "output_type": "stream",
     "text": [
      "92.0\n"
     ]
    }
   ],
   "source": [
    "velocity_33_1 = velocity_33(100, 80, 10)\n",
    "println(velocity_33_1)"
   ]
  },
  {
   "cell_type": "code",
   "execution_count": 1394,
   "id": "7cb19d27-cabd-4449-9eb2-97bbcaad56f5",
   "metadata": {},
   "outputs": [
    {
     "name": "stdout",
     "output_type": "stream",
     "text": [
      "776.38\n"
     ]
    }
   ],
   "source": [
    "velocity_33_2 = velocity_33(777.34, 12.5, 13)\n",
    "println(velocity_33_2)"
   ]
  },
  {
   "cell_type": "markdown",
   "id": "65c6ea4b-9162-46cb-85c1-9bbdbfdbc38d",
   "metadata": {},
   "source": [
    "### Funcs with broadcasting"
   ]
  },
  {
   "cell_type": "code",
   "execution_count": 1395,
   "id": "e04ea90c-acfc-4b44-ac1a-3726bfd2f778",
   "metadata": {},
   "outputs": [
    {
     "data": {
      "text/plain": [
       "3-element Vector{Float64}:\n",
       "  173.88888888888889\n",
       " 1950.5555555555557\n",
       "   -6.111111111111111"
      ]
     },
     "execution_count": 1395,
     "metadata": {},
     "output_type": "execute_result"
    }
   ],
   "source": [
    "function fahrenheit2celsius(temp)\n",
    "    return (temp - 32) * 5/9\n",
    "    end\n",
    "temps_f = [345, 3543, 21]\n",
    "# Function not written to work with arrays\n",
    "temps_c = fahrenheit2celsius.(temps_f)\n"
   ]
  },
  {
   "cell_type": "markdown",
   "id": "c5163be2-e708-4478-994d-b2d98f9b0bd4",
   "metadata": {},
   "source": [
    "### Broadcasting with multiple arguments"
   ]
  },
  {
   "cell_type": "code",
   "execution_count": 1396,
   "id": "18480055-754d-4ea4-8834-e371fbf311ff",
   "metadata": {},
   "outputs": [
    {
     "data": {
      "text/plain": [
       "3-element Vector{Float64}:\n",
       " 776.38\n",
       "  32.5\n",
       " 995.0"
      ]
     },
     "execution_count": 1396,
     "metadata": {},
     "output_type": "execute_result"
    }
   ],
   "source": [
    "x1_1 = [777.34, 35, 1000]\n",
    "x2_1 = [12.5, 25, 500]\n",
    "t_1 = [13, 10, 100]\n",
    "\n",
    "velocity_33.(x1_1, x2_1, t_1)"
   ]
  },
  {
   "cell_type": "markdown",
   "id": "ef65ae4d-a678-4a26-a30b-8f1f5b779b9a",
   "metadata": {},
   "source": [
    "## Data Frames"
   ]
  },
  {
   "cell_type": "code",
   "execution_count": 1397,
   "id": "d10728dd-cdc2-4981-844d-35c96b02ba83",
   "metadata": {},
   "outputs": [
    {
     "data": {
      "text/plain": [
       "2-element Vector{Int64}:\n",
       " 1013866888796304765\n",
       " 3863243386836771372"
      ]
     },
     "execution_count": 1397,
     "metadata": {},
     "output_type": "execute_result"
    }
   ],
   "source": [
    "rand(Int, 2)"
   ]
  },
  {
   "cell_type": "code",
   "execution_count": 1398,
   "id": "40d59783-ecf8-42b9-8299-e1dbe704ee67",
   "metadata": {},
   "outputs": [
    {
     "data": {
      "text/plain": [
       "4774458712049649936"
      ]
     },
     "execution_count": 1398,
     "metadata": {},
     "output_type": "execute_result"
    }
   ],
   "source": [
    "rand(Int64)"
   ]
  },
  {
   "cell_type": "code",
   "execution_count": 1399,
   "id": "4e707ab7-2000-43fe-8b18-50ab755d1834",
   "metadata": {},
   "outputs": [
    {
     "data": {
      "text/plain": [
       "10-element Vector{Int64}:\n",
       " 10\n",
       "  5\n",
       "  7\n",
       "  9\n",
       "  1\n",
       "  7\n",
       "  5\n",
       "  4\n",
       "  7\n",
       "  3"
      ]
     },
     "execution_count": 1399,
     "metadata": {},
     "output_type": "execute_result"
    }
   ],
   "source": [
    "rand(1:10, 10)"
   ]
  },
  {
   "cell_type": "code",
   "execution_count": 1400,
   "id": "e4d96f00-7a62-4f3d-96bb-ed464bef38c6",
   "metadata": {},
   "outputs": [
    {
     "name": "stdout",
     "output_type": "stream",
     "text": [
      "\u001b[1m5×5 DataFrame\u001b[0m\n",
      "\u001b[1m Row \u001b[0m│\u001b[1m Gold_Ducats \u001b[0m\u001b[1m Silver_Coins \u001b[0m\u001b[1m Jewels \u001b[0m\u001b[1m Villages   \u001b[0m\u001b[1m Subject_to_Taxation \u001b[0m\n",
      "     │\u001b[90m Int64       \u001b[0m\u001b[90m Int64        \u001b[0m\u001b[90m Int64  \u001b[0m\u001b[90m String     \u001b[0m\u001b[90m Bool                \u001b[0m\n",
      "─────┼────────────────────────────────────────────────────────────────────\n",
      "   1 │         522           913       4  Bergamo                    true\n",
      "   2 │         260           265      17  Arcumeggia                 true\n",
      "   3 │         598           469      11  Monza                      true\n",
      "   4 │         327           678       4  Angera                    false\n",
      "   5 │         573           300      17  Pavia                      true\n"
     ]
    }
   ],
   "source": [
    "medici_treasure = DataFrames.DataFrame(\n",
    "    \n",
    "    Gold_Ducats=rand(200:600, 5),\n",
    "    Silver_Coins=rand(200:1000, 5),\n",
    "    Jewels=rand(1:20, 5),\n",
    "    Villages=[\"Bergamo\", \"Arcumeggia\", \"Monza\", \"Angera\", \"Pavia\"],\n",
    "    Subject_to_Taxation = [true, true, true, false, true]\n",
    ")\n",
    "\n",
    "println(medici_treasure)"
   ]
  },
  {
   "cell_type": "markdown",
   "id": "75336f3e-4f09-4e08-81f7-53745fe17586",
   "metadata": {},
   "source": [
    "### Names & size"
   ]
  },
  {
   "cell_type": "code",
   "execution_count": 1401,
   "id": "b7fbf28e-4ed4-42a3-aac2-095303451d65",
   "metadata": {},
   "outputs": [
    {
     "name": "stdout",
     "output_type": "stream",
     "text": [
      "[\"Gold_Ducats\", \"Silver_Coins\", \"Jewels\", \"Villages\", \"Subject_to_Taxation\"]\n"
     ]
    }
   ],
   "source": [
    "# colnames\n",
    "println(names(medici_treasure))"
   ]
  },
  {
   "cell_type": "code",
   "execution_count": 1402,
   "id": "00f0e86a-2c4e-46fd-9611-bfe5836cbb60",
   "metadata": {},
   "outputs": [
    {
     "name": "stdout",
     "output_type": "stream",
     "text": [
      "(5, 5)\n"
     ]
    }
   ],
   "source": [
    "println(size(medici_treasure))"
   ]
  },
  {
   "cell_type": "markdown",
   "id": "83f056da-6b81-4d6b-8543-7c2d8331bca3",
   "metadata": {},
   "source": [
    "### Import a CSV file"
   ]
  },
  {
   "cell_type": "code",
   "execution_count": 1403,
   "id": "cbab41d3-1e33-4fd9-a7db-14d0a38d4e68",
   "metadata": {},
   "outputs": [
    {
     "name": "stdout",
     "output_type": "stream",
     "text": [
      "CSV.File(\"files/breast-cancer-wisconsin.csv\"):\n",
      "Size: 698 x 11\n",
      "Tables.Schema:\n",
      " Symbol(\"1000025\")  Int64\n",
      " Symbol(\"5\")        Int64\n",
      " Symbol(\"1\")        Int64\n",
      " Symbol(\"1_1\")      Int64\n",
      " Symbol(\"1_2\")      Int64\n",
      " Symbol(\"2\")        Int64\n",
      " Symbol(\"1_3\")      String3\n",
      " Symbol(\"3\")        Int64\n",
      " Symbol(\"1_4\")      Int64\n",
      " Symbol(\"1_5\")      Int64\n",
      " Symbol(\"2_1\")      Int64\n"
     ]
    }
   ],
   "source": [
    "breast_cancer=CSV.File(\"files/breast-cancer-wisconsin.csv\")\n",
    "println(breast_cancer)"
   ]
  },
  {
   "cell_type": "markdown",
   "id": "e187189d-2c44-4ffe-a9ac-b6a5868aaad3",
   "metadata": {},
   "source": [
    "### Convert csv files into data frames"
   ]
  },
  {
   "cell_type": "code",
   "execution_count": 1404,
   "id": "946a4feb-dd48-4e07-8ed1-b52324431896",
   "metadata": {},
   "outputs": [
    {
     "name": "stdout",
     "output_type": "stream",
     "text": [
      "\u001b[1m5×11 DataFrame\u001b[0m\n",
      "\u001b[1m Row \u001b[0m│\u001b[1m 1000025 \u001b[0m\u001b[1m 5     \u001b[0m\u001b[1m 1     \u001b[0m\u001b[1m 1_1   \u001b[0m\u001b[1m 1_2   \u001b[0m\u001b[1m 2     \u001b[0m\u001b[1m 1_3     \u001b[0m\u001b[1m 3     \u001b[0m\u001b[1m 1_4   \u001b[0m\u001b[1m 1_5   \u001b[0m\u001b[1m 2_1   \u001b[0m\n",
      "     │\u001b[90m Int64   \u001b[0m\u001b[90m Int64 \u001b[0m\u001b[90m Int64 \u001b[0m\u001b[90m Int64 \u001b[0m\u001b[90m Int64 \u001b[0m\u001b[90m Int64 \u001b[0m\u001b[90m String3 \u001b[0m\u001b[90m Int64 \u001b[0m\u001b[90m Int64 \u001b[0m\u001b[90m Int64 \u001b[0m\u001b[90m Int64 \u001b[0m\n",
      "─────┼─────────────────────────────────────────────────────────────────────────────────\n",
      "   1 │ 1002945      5      4      4      5      7  10           3      2      1      2\n",
      "   2 │ 1015425      3      1      1      1      2  2            3      1      1      2\n",
      "   3 │ 1016277      6      8      8      1      3  4            3      7      1      2\n",
      "   4 │ 1017023      4      1      1      3      2  1            3      1      1      2\n",
      "   5 │ 1017122      8     10     10      8      7  10           9      7      1      4\n"
     ]
    }
   ],
   "source": [
    "using DataFrames\n",
    "breast_cancer_df = DataFrame(breast_cancer)\n",
    "\n",
    "println(first(breast_cancer_df,5))\n",
    "# comparable to head in R or Python"
   ]
  },
  {
   "cell_type": "markdown",
   "id": "aac0c751-ee6c-457a-be0e-4d667faeaddf",
   "metadata": {},
   "source": [
    "<p>Bank file</p>"
   ]
  },
  {
   "cell_type": "code",
   "execution_count": 1405,
   "id": "e067066a-d545-4fa2-a002-45d114851f54",
   "metadata": {
    "tags": []
   },
   "outputs": [
    {
     "name": "stdout",
     "output_type": "stream",
     "text": [
      "\u001b[1m5×17 DataFrame\u001b[0m\n",
      "\u001b[1m Row \u001b[0m│\u001b[1m age   \u001b[0m\u001b[1m job         \u001b[0m\u001b[1m marital  \u001b[0m\u001b[1m education \u001b[0m\u001b[1m default \u001b[0m\u001b[1m balance \u001b[0m\u001b[1m housing \u001b[0m\u001b[1m loan    \u001b[0m\u001b[1m contact  \u001b[0m\u001b[1m day   \u001b[0m\u001b[1m month   \u001b[0m\u001b[1m duration \u001b[0m\u001b[1m campaign \u001b[0m\u001b[1m pdays \u001b[0m\u001b[1m previous \u001b[0m\u001b[1m poutcome \u001b[0m\u001b[1m y       \u001b[0m\n",
      "     │\u001b[90m Int64 \u001b[0m\u001b[90m String15    \u001b[0m\u001b[90m String15 \u001b[0m\u001b[90m String15  \u001b[0m\u001b[90m String3 \u001b[0m\u001b[90m Int64   \u001b[0m\u001b[90m String3 \u001b[0m\u001b[90m String3 \u001b[0m\u001b[90m String15 \u001b[0m\u001b[90m Int64 \u001b[0m\u001b[90m String3 \u001b[0m\u001b[90m Int64    \u001b[0m\u001b[90m Int64    \u001b[0m\u001b[90m Int64 \u001b[0m\u001b[90m Int64    \u001b[0m\u001b[90m String7  \u001b[0m\u001b[90m String3 \u001b[0m\n",
      "─────┼───────────────────────────────────────────────────────────────────────────────────────────────────────────────────────────────────────────────────────────────\n",
      "   1 │    30  unemployed   married   primary    no          1787  no       no       cellular     19  oct            79         1     -1         0  unknown   no\n",
      "   2 │    33  services     married   secondary  no          4789  yes      yes      cellular     11  may           220         1    339         4  failure   no\n",
      "   3 │    35  management   single    tertiary   no          1350  yes      no       cellular     16  apr           185         1    330         1  failure   no\n",
      "   4 │    30  management   married   tertiary   no          1476  yes      yes      unknown       3  jun           199         4     -1         0  unknown   no\n",
      "   5 │    59  blue-collar  married   secondary  no             0  yes      no       unknown       5  may           226         1     -1         0  unknown   no\n"
     ]
    }
   ],
   "source": [
    "bank=CSV.File(\"files/bank.csv\")\n",
    "bank_df=DataFrame(bank)\n",
    "println(first(bank_df, 5))"
   ]
  },
  {
   "cell_type": "markdown",
   "id": "0b4683cb-f49c-4226-a009-f7e7f9eb4af9",
   "metadata": {},
   "source": [
    "### Subsetting data frames"
   ]
  },
  {
   "cell_type": "code",
   "execution_count": 1406,
   "id": "87d46ece-8cc9-41b4-9516-bddb4c647894",
   "metadata": {},
   "outputs": [
    {
     "data": {
      "text/html": [
       "<div><div style = \"float: left;\"><span>DataFrameRow (17 columns)</span></div><div style = \"clear: both;\"></div></div><div class = \"data-frame\" style = \"overflow-x: scroll;\"><table class = \"data-frame\" style = \"margin-bottom: 6px;\"><thead><tr class = \"header\"><th class = \"rowLabel\" style = \"font-weight: bold; text-align: right;\">Row</th><th style = \"text-align: left;\">age</th><th style = \"text-align: left;\">job</th><th style = \"text-align: left;\">marital</th><th style = \"text-align: left;\">education</th><th style = \"text-align: left;\">default</th><th style = \"text-align: left;\">balance</th><th style = \"text-align: left;\">housing</th><th style = \"text-align: left;\">loan</th><th style = \"text-align: left;\">contact</th><th style = \"text-align: left;\">day</th><th style = \"text-align: left;\">month</th><th style = \"text-align: left;\">duration</th><th style = \"text-align: left;\">campaign</th><th style = \"text-align: left;\">pdays</th><th style = \"text-align: left;\">previous</th><th style = \"text-align: left;\">poutcome</th><th style = \"text-align: left;\">y</th></tr><tr class = \"subheader headerLastRow\"><th class = \"rowLabel\" style = \"font-weight: bold; text-align: right;\"></th><th title = \"Int64\" style = \"text-align: left;\">Int64</th><th title = \"String15\" style = \"text-align: left;\">String15</th><th title = \"String15\" style = \"text-align: left;\">String15</th><th title = \"String15\" style = \"text-align: left;\">String15</th><th title = \"String3\" style = \"text-align: left;\">String3</th><th title = \"Int64\" style = \"text-align: left;\">Int64</th><th title = \"String3\" style = \"text-align: left;\">String3</th><th title = \"String3\" style = \"text-align: left;\">String3</th><th title = \"String15\" style = \"text-align: left;\">String15</th><th title = \"Int64\" style = \"text-align: left;\">Int64</th><th title = \"String3\" style = \"text-align: left;\">String3</th><th title = \"Int64\" style = \"text-align: left;\">Int64</th><th title = \"Int64\" style = \"text-align: left;\">Int64</th><th title = \"Int64\" style = \"text-align: left;\">Int64</th><th title = \"Int64\" style = \"text-align: left;\">Int64</th><th title = \"String7\" style = \"text-align: left;\">String7</th><th title = \"String3\" style = \"text-align: left;\">String3</th></tr></thead><tbody><tr><td class = \"rowLabel\" style = \"font-weight: bold; text-align: right;\">1</td><td style = \"text-align: right;\">30</td><td style = \"text-align: left;\">unemployed</td><td style = \"text-align: left;\">married</td><td style = \"text-align: left;\">primary</td><td style = \"text-align: left;\">no</td><td style = \"text-align: right;\">1787</td><td style = \"text-align: left;\">no</td><td style = \"text-align: left;\">no</td><td style = \"text-align: left;\">cellular</td><td style = \"text-align: right;\">19</td><td style = \"text-align: left;\">oct</td><td style = \"text-align: right;\">79</td><td style = \"text-align: right;\">1</td><td style = \"text-align: right;\">-1</td><td style = \"text-align: right;\">0</td><td style = \"text-align: left;\">unknown</td><td style = \"text-align: left;\">no</td></tr></tbody></table></div>"
      ],
      "text/latex": [
       "\\begin{tabular}{r|cccccccccc}\n",
       "\t& age & job & marital & education & default & balance & housing & loan & contact & \\\\\n",
       "\t\\hline\n",
       "\t& Int64 & String15 & String15 & String15 & String3 & Int64 & String3 & String3 & String15 & \\\\\n",
       "\t\\hline\n",
       "\t1 & 30 & unemployed & married & primary & no & 1787 & no & no & cellular & $\\dots$ \\\\\n",
       "\\end{tabular}\n"
      ],
      "text/plain": [
       "\u001b[1mDataFrameRow\u001b[0m\n",
       "\u001b[1m Row \u001b[0m│\u001b[1m age   \u001b[0m\u001b[1m job        \u001b[0m\u001b[1m marital  \u001b[0m\u001b[1m education \u001b[0m\u001b[1m default \u001b[0m\u001b[1m balance \u001b[0m\u001b[1m housing \u001b[0m\u001b[1m loan\u001b[0m ⋯\n",
       "     │\u001b[90m Int64 \u001b[0m\u001b[90m String15   \u001b[0m\u001b[90m String15 \u001b[0m\u001b[90m String15  \u001b[0m\u001b[90m String3 \u001b[0m\u001b[90m Int64   \u001b[0m\u001b[90m String3 \u001b[0m\u001b[90m Stri\u001b[0m ⋯\n",
       "─────┼──────────────────────────────────────────────────────────────────────────\n",
       "   1 │    30  unemployed  married   primary    no          1787  no       no   ⋯\n",
       "\u001b[36m                                                              10 columns omitted\u001b[0m"
      ]
     },
     "execution_count": 1406,
     "metadata": {},
     "output_type": "execute_result"
    }
   ],
   "source": [
    "bank_df[1,:]"
   ]
  },
  {
   "cell_type": "code",
   "execution_count": 1407,
   "id": "3d86d6af-daaa-4373-8a79-0bbc01196c0d",
   "metadata": {},
   "outputs": [
    {
     "data": {
      "text/html": [
       "<div><div style = \"float: left;\"><span>2×3 DataFrame</span></div><div style = \"clear: both;\"></div></div><div class = \"data-frame\" style = \"overflow-x: scroll;\"><table class = \"data-frame\" style = \"margin-bottom: 6px;\"><thead><tr class = \"header\"><th class = \"rowNumber\" style = \"font-weight: bold; text-align: right;\">Row</th><th style = \"text-align: left;\">age</th><th style = \"text-align: left;\">job</th><th style = \"text-align: left;\">marital</th></tr><tr class = \"subheader headerLastRow\"><th class = \"rowNumber\" style = \"font-weight: bold; text-align: right;\"></th><th title = \"Int64\" style = \"text-align: left;\">Int64</th><th title = \"String15\" style = \"text-align: left;\">String15</th><th title = \"String15\" style = \"text-align: left;\">String15</th></tr></thead><tbody><tr><td class = \"rowNumber\" style = \"font-weight: bold; text-align: right;\">1</td><td style = \"text-align: right;\">30</td><td style = \"text-align: left;\">unemployed</td><td style = \"text-align: left;\">married</td></tr><tr><td class = \"rowNumber\" style = \"font-weight: bold; text-align: right;\">2</td><td style = \"text-align: right;\">33</td><td style = \"text-align: left;\">services</td><td style = \"text-align: left;\">married</td></tr></tbody></table></div>"
      ],
      "text/latex": [
       "\\begin{tabular}{r|ccc}\n",
       "\t& age & job & marital\\\\\n",
       "\t\\hline\n",
       "\t& Int64 & String15 & String15\\\\\n",
       "\t\\hline\n",
       "\t1 & 30 & unemployed & married \\\\\n",
       "\t2 & 33 & services & married \\\\\n",
       "\\end{tabular}\n"
      ],
      "text/plain": [
       "\u001b[1m2×3 DataFrame\u001b[0m\n",
       "\u001b[1m Row \u001b[0m│\u001b[1m age   \u001b[0m\u001b[1m job        \u001b[0m\u001b[1m marital  \u001b[0m\n",
       "     │\u001b[90m Int64 \u001b[0m\u001b[90m String15   \u001b[0m\u001b[90m String15 \u001b[0m\n",
       "─────┼─────────────────────────────\n",
       "   1 │    30  unemployed  married\n",
       "   2 │    33  services    married"
      ]
     },
     "execution_count": 1407,
     "metadata": {},
     "output_type": "execute_result"
    }
   ],
   "source": [
    "first(bank_df[:, 1:3], 2)"
   ]
  },
  {
   "cell_type": "code",
   "execution_count": 1408,
   "id": "bcfd343d-ea2d-4848-8d2e-4984ed0d8fb6",
   "metadata": {},
   "outputs": [
    {
     "data": {
      "text/html": [
       "<div><div style = \"float: left;\"><span>DataFrameRow (3 columns)</span></div><div style = \"clear: both;\"></div></div><div class = \"data-frame\" style = \"overflow-x: scroll;\"><table class = \"data-frame\" style = \"margin-bottom: 6px;\"><thead><tr class = \"header\"><th class = \"rowLabel\" style = \"font-weight: bold; text-align: right;\">Row</th><th style = \"text-align: left;\">age</th><th style = \"text-align: left;\">job</th><th style = \"text-align: left;\">marital</th></tr><tr class = \"subheader headerLastRow\"><th class = \"rowLabel\" style = \"font-weight: bold; text-align: right;\"></th><th title = \"Int64\" style = \"text-align: left;\">Int64</th><th title = \"String15\" style = \"text-align: left;\">String15</th><th title = \"String15\" style = \"text-align: left;\">String15</th></tr></thead><tbody><tr><td class = \"rowLabel\" style = \"font-weight: bold; text-align: right;\">2</td><td style = \"text-align: right;\">33</td><td style = \"text-align: left;\">services</td><td style = \"text-align: left;\">married</td></tr></tbody></table></div>"
      ],
      "text/latex": [
       "\\begin{tabular}{r|ccc}\n",
       "\t& age & job & marital\\\\\n",
       "\t\\hline\n",
       "\t& Int64 & String15 & String15\\\\\n",
       "\t\\hline\n",
       "\t2 & 33 & services & married \\\\\n",
       "\\end{tabular}\n"
      ],
      "text/plain": [
       "\u001b[1mDataFrameRow\u001b[0m\n",
       "\u001b[1m Row \u001b[0m│\u001b[1m age   \u001b[0m\u001b[1m job      \u001b[0m\u001b[1m marital  \u001b[0m\n",
       "     │\u001b[90m Int64 \u001b[0m\u001b[90m String15 \u001b[0m\u001b[90m String15 \u001b[0m\n",
       "─────┼───────────────────────────\n",
       "   2 │    33  services  married"
      ]
     },
     "execution_count": 1408,
     "metadata": {},
     "output_type": "execute_result"
    }
   ],
   "source": [
    "bank_df[2, 1:3]"
   ]
  },
  {
   "cell_type": "code",
   "execution_count": 1409,
   "id": "69514516-221d-40c1-9938-e04e39cfb4f1",
   "metadata": {},
   "outputs": [
    {
     "data": {
      "text/plain": [
       "2-element PooledArrays.PooledVector{String15, UInt32, Vector{UInt32}}:\n",
       " \"unemployed\"\n",
       " \"services\""
      ]
     },
     "execution_count": 1409,
     "metadata": {},
     "output_type": "execute_result"
    }
   ],
   "source": [
    "first(bank_df[:, \"job\"], 2)"
   ]
  },
  {
   "cell_type": "code",
   "execution_count": 1410,
   "id": "bed0b58e-d1a7-4e3d-9b43-904f2842f52a",
   "metadata": {},
   "outputs": [
    {
     "data": {
      "text/html": [
       "<div><div style = \"float: left;\"><span>2×2 DataFrame</span></div><div style = \"clear: both;\"></div></div><div class = \"data-frame\" style = \"overflow-x: scroll;\"><table class = \"data-frame\" style = \"margin-bottom: 6px;\"><thead><tr class = \"header\"><th class = \"rowNumber\" style = \"font-weight: bold; text-align: right;\">Row</th><th style = \"text-align: left;\">job</th><th style = \"text-align: left;\">marital</th></tr><tr class = \"subheader headerLastRow\"><th class = \"rowNumber\" style = \"font-weight: bold; text-align: right;\"></th><th title = \"String15\" style = \"text-align: left;\">String15</th><th title = \"String15\" style = \"text-align: left;\">String15</th></tr></thead><tbody><tr><td class = \"rowNumber\" style = \"font-weight: bold; text-align: right;\">1</td><td style = \"text-align: left;\">unemployed</td><td style = \"text-align: left;\">married</td></tr><tr><td class = \"rowNumber\" style = \"font-weight: bold; text-align: right;\">2</td><td style = \"text-align: left;\">services</td><td style = \"text-align: left;\">married</td></tr></tbody></table></div>"
      ],
      "text/latex": [
       "\\begin{tabular}{r|cc}\n",
       "\t& job & marital\\\\\n",
       "\t\\hline\n",
       "\t& String15 & String15\\\\\n",
       "\t\\hline\n",
       "\t1 & unemployed & married \\\\\n",
       "\t2 & services & married \\\\\n",
       "\\end{tabular}\n"
      ],
      "text/plain": [
       "\u001b[1m2×2 DataFrame\u001b[0m\n",
       "\u001b[1m Row \u001b[0m│\u001b[1m job        \u001b[0m\u001b[1m marital  \u001b[0m\n",
       "     │\u001b[90m String15   \u001b[0m\u001b[90m String15 \u001b[0m\n",
       "─────┼──────────────────────\n",
       "   1 │ unemployed  married\n",
       "   2 │ services    married"
      ]
     },
     "execution_count": 1410,
     "metadata": {},
     "output_type": "execute_result"
    }
   ],
   "source": [
    "first(bank_df[:, [\"job\", \"marital\"]], 2)"
   ]
  },
  {
   "cell_type": "code",
   "execution_count": 1411,
   "id": "b634c635-8c3a-4bbf-a66e-a8340d32363a",
   "metadata": {},
   "outputs": [
    {
     "data": {
      "text/html": [
       "<div><div style = \"float: left;\"><span>4×3 DataFrame</span></div><div style = \"clear: both;\"></div></div><div class = \"data-frame\" style = \"overflow-x: scroll;\"><table class = \"data-frame\" style = \"margin-bottom: 6px;\"><thead><tr class = \"header\"><th class = \"rowNumber\" style = \"font-weight: bold; text-align: right;\">Row</th><th style = \"text-align: left;\">education</th><th style = \"text-align: left;\">job</th><th style = \"text-align: left;\">marital</th></tr><tr class = \"subheader headerLastRow\"><th class = \"rowNumber\" style = \"font-weight: bold; text-align: right;\"></th><th title = \"String15\" style = \"text-align: left;\">String15</th><th title = \"String15\" style = \"text-align: left;\">String15</th><th title = \"String15\" style = \"text-align: left;\">String15</th></tr></thead><tbody><tr><td class = \"rowNumber\" style = \"font-weight: bold; text-align: right;\">1</td><td style = \"text-align: left;\">tertiary</td><td style = \"text-align: left;\">self-employed</td><td style = \"text-align: left;\">married</td></tr><tr><td class = \"rowNumber\" style = \"font-weight: bold; text-align: right;\">2</td><td style = \"text-align: left;\">secondary</td><td style = \"text-align: left;\">technician</td><td style = \"text-align: left;\">married</td></tr><tr><td class = \"rowNumber\" style = \"font-weight: bold; text-align: right;\">3</td><td style = \"text-align: left;\">secondary</td><td style = \"text-align: left;\">blue-collar</td><td style = \"text-align: left;\">married</td></tr><tr><td class = \"rowNumber\" style = \"font-weight: bold; text-align: right;\">4</td><td style = \"text-align: left;\">tertiary</td><td style = \"text-align: left;\">entrepreneur</td><td style = \"text-align: left;\">single</td></tr></tbody></table></div>"
      ],
      "text/latex": [
       "\\begin{tabular}{r|ccc}\n",
       "\t& education & job & marital\\\\\n",
       "\t\\hline\n",
       "\t& String15 & String15 & String15\\\\\n",
       "\t\\hline\n",
       "\t1 & tertiary & self-employed & married \\\\\n",
       "\t2 & secondary & technician & married \\\\\n",
       "\t3 & secondary & blue-collar & married \\\\\n",
       "\t4 & tertiary & entrepreneur & single \\\\\n",
       "\\end{tabular}\n"
      ],
      "text/plain": [
       "\u001b[1m4×3 DataFrame\u001b[0m\n",
       "\u001b[1m Row \u001b[0m│\u001b[1m education \u001b[0m\u001b[1m job           \u001b[0m\u001b[1m marital  \u001b[0m\n",
       "     │\u001b[90m String15  \u001b[0m\u001b[90m String15      \u001b[0m\u001b[90m String15 \u001b[0m\n",
       "─────┼────────────────────────────────────\n",
       "   1 │ tertiary   self-employed  married\n",
       "   2 │ secondary  technician     married\n",
       "   3 │ secondary  blue-collar    married\n",
       "   4 │ tertiary   entrepreneur   single"
      ]
     },
     "execution_count": 1411,
     "metadata": {},
     "output_type": "execute_result"
    }
   ],
   "source": [
    "bank_df[end-3:end,[\"education\", \"job\", \"marital\"]]"
   ]
  },
  {
   "cell_type": "code",
   "execution_count": 1412,
   "id": "a1df2e10-9a34-4b67-a33a-64deb12926f6",
   "metadata": {},
   "outputs": [
    {
     "data": {
      "text/plain": [
       "3-element PooledArrays.PooledVector{String15, UInt32, Vector{UInt32}}:\n",
       " \"primary\"\n",
       " \"secondary\"\n",
       " \"tertiary\""
      ]
     },
     "execution_count": 1412,
     "metadata": {},
     "output_type": "execute_result"
    }
   ],
   "source": [
    "first(bank_df.education, 3)"
   ]
  },
  {
   "cell_type": "code",
   "execution_count": 1413,
   "id": "3375595f-1c63-4ad9-b9b6-92da8760ee65",
   "metadata": {},
   "outputs": [
    {
     "data": {
      "text/plain": [
       "\"tertiary\""
      ]
     },
     "execution_count": 1413,
     "metadata": {},
     "output_type": "execute_result"
    }
   ],
   "source": [
    "bank_df.education[6]"
   ]
  },
  {
   "cell_type": "code",
   "execution_count": 1414,
   "id": "3c3d3447-e401-4180-83c5-00f85a32db78",
   "metadata": {},
   "outputs": [
    {
     "data": {
      "text/plain": [
       "6-element PooledArrays.PooledVector{String15, UInt32, Vector{UInt32}}:\n",
       " \"secondary\"\n",
       " \"tertiary\"\n",
       " \"tertiary\"\n",
       " \"secondary\"\n",
       " \"tertiary\"\n",
       " \"primary\""
      ]
     },
     "execution_count": 1414,
     "metadata": {},
     "output_type": "execute_result"
    }
   ],
   "source": [
    "bank_df.education[5:10]"
   ]
  },
  {
   "cell_type": "code",
   "execution_count": 1415,
   "id": "b03cec1a-2d2c-405a-b068-28b8d0c6eb36",
   "metadata": {},
   "outputs": [
    {
     "data": {
      "text/html": [
       "<div><div style = \"float: left;\"><span>3×5 DataFrame</span></div><div style = \"clear: both;\"></div></div><div class = \"data-frame\" style = \"overflow-x: scroll;\"><table class = \"data-frame\" style = \"margin-bottom: 6px;\"><thead><tr class = \"header\"><th class = \"rowNumber\" style = \"font-weight: bold; text-align: right;\">Row</th><th style = \"text-align: left;\">age</th><th style = \"text-align: left;\">job</th><th style = \"text-align: left;\">marital</th><th style = \"text-align: left;\">education</th><th style = \"text-align: left;\">default</th></tr><tr class = \"subheader headerLastRow\"><th class = \"rowNumber\" style = \"font-weight: bold; text-align: right;\"></th><th title = \"Int64\" style = \"text-align: left;\">Int64</th><th title = \"String15\" style = \"text-align: left;\">String15</th><th title = \"String15\" style = \"text-align: left;\">String15</th><th title = \"String15\" style = \"text-align: left;\">String15</th><th title = \"String3\" style = \"text-align: left;\">String3</th></tr></thead><tbody><tr><td class = \"rowNumber\" style = \"font-weight: bold; text-align: right;\">1</td><td style = \"text-align: right;\">43</td><td style = \"text-align: left;\">admin.</td><td style = \"text-align: left;\">married</td><td style = \"text-align: left;\">secondary</td><td style = \"text-align: left;\">no</td></tr><tr><td class = \"rowNumber\" style = \"font-weight: bold; text-align: right;\">2</td><td style = \"text-align: right;\">32</td><td style = \"text-align: left;\">technician</td><td style = \"text-align: left;\">married</td><td style = \"text-align: left;\">tertiary</td><td style = \"text-align: left;\">no</td></tr><tr><td class = \"rowNumber\" style = \"font-weight: bold; text-align: right;\">3</td><td style = \"text-align: right;\">37</td><td style = \"text-align: left;\">management</td><td style = \"text-align: left;\">married</td><td style = \"text-align: left;\">tertiary</td><td style = \"text-align: left;\">no</td></tr></tbody></table></div>"
      ],
      "text/latex": [
       "\\begin{tabular}{r|ccccc}\n",
       "\t& age & job & marital & education & default\\\\\n",
       "\t\\hline\n",
       "\t& Int64 & String15 & String15 & String15 & String3\\\\\n",
       "\t\\hline\n",
       "\t1 & 43 & admin. & married & secondary & no \\\\\n",
       "\t2 & 32 & technician & married & tertiary & no \\\\\n",
       "\t3 & 37 & management & married & tertiary & no \\\\\n",
       "\\end{tabular}\n"
      ],
      "text/plain": [
       "\u001b[1m3×5 DataFrame\u001b[0m\n",
       "\u001b[1m Row \u001b[0m│\u001b[1m age   \u001b[0m\u001b[1m job        \u001b[0m\u001b[1m marital  \u001b[0m\u001b[1m education \u001b[0m\u001b[1m default \u001b[0m\n",
       "     │\u001b[90m Int64 \u001b[0m\u001b[90m String15   \u001b[0m\u001b[90m String15 \u001b[0m\u001b[90m String15  \u001b[0m\u001b[90m String3 \u001b[0m\n",
       "─────┼─────────────────────────────────────────────────\n",
       "   1 │    43  admin.      married   secondary  no\n",
       "   2 │    32  technician  married   tertiary   no\n",
       "   3 │    37  management  married   tertiary   no"
      ]
     },
     "execution_count": 1415,
     "metadata": {},
     "output_type": "execute_result"
    }
   ],
   "source": [
    "bank_df[[12, 44, 85], 1:5]"
   ]
  },
  {
   "cell_type": "markdown",
   "id": "7799eaf8-51c8-4181-9578-097199833941",
   "metadata": {},
   "source": [
    "### Sort and unique"
   ]
  },
  {
   "cell_type": "code",
   "execution_count": 1416,
   "id": "e2b0c373-47dd-4a61-bcbf-242a708f0343",
   "metadata": {},
   "outputs": [
    {
     "data": {
      "text/html": [
       "<div><div style = \"float: left;\"><span>3×5 DataFrame</span></div><div style = \"clear: both;\"></div></div><div class = \"data-frame\" style = \"overflow-x: scroll;\"><table class = \"data-frame\" style = \"margin-bottom: 6px;\"><thead><tr class = \"header\"><th class = \"rowNumber\" style = \"font-weight: bold; text-align: right;\">Row</th><th style = \"text-align: left;\">age</th><th style = \"text-align: left;\">job</th><th style = \"text-align: left;\">marital</th><th style = \"text-align: left;\">education</th><th style = \"text-align: left;\">default</th></tr><tr class = \"subheader headerLastRow\"><th class = \"rowNumber\" style = \"font-weight: bold; text-align: right;\"></th><th title = \"Int64\" style = \"text-align: left;\">Int64</th><th title = \"String15\" style = \"text-align: left;\">String15</th><th title = \"String15\" style = \"text-align: left;\">String15</th><th title = \"String15\" style = \"text-align: left;\">String15</th><th title = \"String3\" style = \"text-align: left;\">String3</th></tr></thead><tbody><tr><td class = \"rowNumber\" style = \"font-weight: bold; text-align: right;\">1</td><td style = \"text-align: right;\">43</td><td style = \"text-align: left;\">admin.</td><td style = \"text-align: left;\">married</td><td style = \"text-align: left;\">secondary</td><td style = \"text-align: left;\">no</td></tr><tr><td class = \"rowNumber\" style = \"font-weight: bold; text-align: right;\">2</td><td style = \"text-align: right;\">37</td><td style = \"text-align: left;\">admin.</td><td style = \"text-align: left;\">single</td><td style = \"text-align: left;\">tertiary</td><td style = \"text-align: left;\">no</td></tr><tr><td class = \"rowNumber\" style = \"font-weight: bold; text-align: right;\">3</td><td style = \"text-align: right;\">53</td><td style = \"text-align: left;\">admin.</td><td style = \"text-align: left;\">married</td><td style = \"text-align: left;\">secondary</td><td style = \"text-align: left;\">no</td></tr></tbody></table></div>"
      ],
      "text/latex": [
       "\\begin{tabular}{r|ccccc}\n",
       "\t& age & job & marital & education & default\\\\\n",
       "\t\\hline\n",
       "\t& Int64 & String15 & String15 & String15 & String3\\\\\n",
       "\t\\hline\n",
       "\t1 & 43 & admin. & married & secondary & no \\\\\n",
       "\t2 & 37 & admin. & single & tertiary & no \\\\\n",
       "\t3 & 53 & admin. & married & secondary & no \\\\\n",
       "\\end{tabular}\n"
      ],
      "text/plain": [
       "\u001b[1m3×5 DataFrame\u001b[0m\n",
       "\u001b[1m Row \u001b[0m│\u001b[1m age   \u001b[0m\u001b[1m job      \u001b[0m\u001b[1m marital  \u001b[0m\u001b[1m education \u001b[0m\u001b[1m default \u001b[0m\n",
       "     │\u001b[90m Int64 \u001b[0m\u001b[90m String15 \u001b[0m\u001b[90m String15 \u001b[0m\u001b[90m String15  \u001b[0m\u001b[90m String3 \u001b[0m\n",
       "─────┼───────────────────────────────────────────────\n",
       "   1 │    43  admin.    married   secondary  no\n",
       "   2 │    37  admin.    single    tertiary   no\n",
       "   3 │    53  admin.    married   secondary  no"
      ]
     },
     "execution_count": 1416,
     "metadata": {},
     "output_type": "execute_result"
    }
   ],
   "source": [
    "bank_df_job = sort(bank_df, \"job\")\n",
    "\n",
    "bank_df_job[1:3, 1:5]"
   ]
  },
  {
   "cell_type": "code",
   "execution_count": 1417,
   "id": "8552f3ae-f2f7-4ec8-8ddc-ea76f084dc53",
   "metadata": {},
   "outputs": [
    {
     "data": {
      "text/html": [
       "<div><div style = \"float: left;\"><span>3×5 DataFrame</span></div><div style = \"clear: both;\"></div></div><div class = \"data-frame\" style = \"overflow-x: scroll;\"><table class = \"data-frame\" style = \"margin-bottom: 6px;\"><thead><tr class = \"header\"><th class = \"rowNumber\" style = \"font-weight: bold; text-align: right;\">Row</th><th style = \"text-align: left;\">age</th><th style = \"text-align: left;\">job</th><th style = \"text-align: left;\">marital</th><th style = \"text-align: left;\">education</th><th style = \"text-align: left;\">default</th></tr><tr class = \"subheader headerLastRow\"><th class = \"rowNumber\" style = \"font-weight: bold; text-align: right;\"></th><th title = \"Int64\" style = \"text-align: left;\">Int64</th><th title = \"String15\" style = \"text-align: left;\">String15</th><th title = \"String15\" style = \"text-align: left;\">String15</th><th title = \"String15\" style = \"text-align: left;\">String15</th><th title = \"String3\" style = \"text-align: left;\">String3</th></tr></thead><tbody><tr><td class = \"rowNumber\" style = \"font-weight: bold; text-align: right;\">1</td><td style = \"text-align: right;\">41</td><td style = \"text-align: left;\">unknown</td><td style = \"text-align: left;\">single</td><td style = \"text-align: left;\">tertiary</td><td style = \"text-align: left;\">no</td></tr><tr><td class = \"rowNumber\" style = \"font-weight: bold; text-align: right;\">2</td><td style = \"text-align: right;\">37</td><td style = \"text-align: left;\">unknown</td><td style = \"text-align: left;\">married</td><td style = \"text-align: left;\">unknown</td><td style = \"text-align: left;\">no</td></tr><tr><td class = \"rowNumber\" style = \"font-weight: bold; text-align: right;\">3</td><td style = \"text-align: right;\">52</td><td style = \"text-align: left;\">unknown</td><td style = \"text-align: left;\">married</td><td style = \"text-align: left;\">secondary</td><td style = \"text-align: left;\">no</td></tr></tbody></table></div>"
      ],
      "text/latex": [
       "\\begin{tabular}{r|ccccc}\n",
       "\t& age & job & marital & education & default\\\\\n",
       "\t\\hline\n",
       "\t& Int64 & String15 & String15 & String15 & String3\\\\\n",
       "\t\\hline\n",
       "\t1 & 41 & unknown & single & tertiary & no \\\\\n",
       "\t2 & 37 & unknown & married & unknown & no \\\\\n",
       "\t3 & 52 & unknown & married & secondary & no \\\\\n",
       "\\end{tabular}\n"
      ],
      "text/plain": [
       "\u001b[1m3×5 DataFrame\u001b[0m\n",
       "\u001b[1m Row \u001b[0m│\u001b[1m age   \u001b[0m\u001b[1m job      \u001b[0m\u001b[1m marital  \u001b[0m\u001b[1m education \u001b[0m\u001b[1m default \u001b[0m\n",
       "     │\u001b[90m Int64 \u001b[0m\u001b[90m String15 \u001b[0m\u001b[90m String15 \u001b[0m\u001b[90m String15  \u001b[0m\u001b[90m String3 \u001b[0m\n",
       "─────┼───────────────────────────────────────────────\n",
       "   1 │    41  unknown   single    tertiary   no\n",
       "   2 │    37  unknown   married   unknown    no\n",
       "   3 │    52  unknown   married   secondary  no"
      ]
     },
     "execution_count": 1417,
     "metadata": {},
     "output_type": "execute_result"
    }
   ],
   "source": [
    "bank_df_job_2 = sort(bank_df, \"job\", rev=true)\n",
    "\n",
    "bank_df_job_2[1:3, 1:5]"
   ]
  },
  {
   "cell_type": "code",
   "execution_count": 1418,
   "id": "2be8a8f5-4667-41a6-83b2-85e37aa85b63",
   "metadata": {},
   "outputs": [
    {
     "data": {
      "text/plain": [
       "12-element Vector{String15}:\n",
       " \"unemployed\"\n",
       " \"services\"\n",
       " \"management\"\n",
       " \"blue-collar\"\n",
       " \"self-employed\"\n",
       " \"technician\"\n",
       " \"entrepreneur\"\n",
       " \"admin.\"\n",
       " \"student\"\n",
       " \"housemaid\"\n",
       " \"retired\"\n",
       " \"unknown\""
      ]
     },
     "execution_count": 1418,
     "metadata": {},
     "output_type": "execute_result"
    }
   ],
   "source": [
    "unique(bank_df.job)"
   ]
  },
  {
   "cell_type": "code",
   "execution_count": 1419,
   "id": "fab843fe-bd85-4d41-93c8-100b9a65cb4e",
   "metadata": {},
   "outputs": [
    {
     "data": {
      "text/plain": [
       "4-element Vector{String15}:\n",
       " \"primary\"\n",
       " \"secondary\"\n",
       " \"tertiary\"\n",
       " \"unknown\""
      ]
     },
     "execution_count": 1419,
     "metadata": {},
     "output_type": "execute_result"
    }
   ],
   "source": [
    "unique(bank_df.education)"
   ]
  },
  {
   "cell_type": "markdown",
   "id": "5e95a71d-e1e2-4ee7-82f4-0982e1bebfa5",
   "metadata": {},
   "source": [
    "### Some descriptive Statistics\n",
    "\n",
    "<p>\n",
    "describe works best on strings.\n",
    "</p>\n",
    "\n"
   ]
  },
  {
   "cell_type": "code",
   "execution_count": 1420,
   "id": "2930199c-83d1-4a19-b1de-cefb4c6027f9",
   "metadata": {},
   "outputs": [],
   "source": [
    "using Statistics"
   ]
  },
  {
   "cell_type": "code",
   "execution_count": 1421,
   "id": "6aaf4296-28ac-43de-8341-d64a33286c4b",
   "metadata": {},
   "outputs": [
    {
     "data": {
      "text/html": [
       "<div><div style = \"float: left;\"><span>9×7 DataFrame</span></div><div style = \"clear: both;\"></div></div><div class = \"data-frame\" style = \"overflow-x: scroll;\"><table class = \"data-frame\" style = \"margin-bottom: 6px;\"><thead><tr class = \"header\"><th class = \"rowNumber\" style = \"font-weight: bold; text-align: right;\">Row</th><th style = \"text-align: left;\">variable</th><th style = \"text-align: left;\">mean</th><th style = \"text-align: left;\">min</th><th style = \"text-align: left;\">median</th><th style = \"text-align: left;\">max</th><th style = \"text-align: left;\">nmissing</th><th style = \"text-align: left;\">eltype</th></tr><tr class = \"subheader headerLastRow\"><th class = \"rowNumber\" style = \"font-weight: bold; text-align: right;\"></th><th title = \"Symbol\" style = \"text-align: left;\">Symbol</th><th title = \"Union{Nothing, Float64}\" style = \"text-align: left;\">Union…</th><th title = \"Any\" style = \"text-align: left;\">Any</th><th title = \"Union{Nothing, Float64}\" style = \"text-align: left;\">Union…</th><th title = \"Any\" style = \"text-align: left;\">Any</th><th title = \"Int64\" style = \"text-align: left;\">Int64</th><th title = \"DataType\" style = \"text-align: left;\">DataType</th></tr></thead><tbody><tr><td class = \"rowNumber\" style = \"font-weight: bold; text-align: right;\">1</td><td style = \"text-align: left;\">age</td><td style = \"text-align: left;\">41.1701</td><td style = \"text-align: left;\">19</td><td style = \"text-align: left;\">39.0</td><td style = \"text-align: left;\">87</td><td style = \"text-align: right;\">0</td><td style = \"text-align: left;\">Int64</td></tr><tr><td class = \"rowNumber\" style = \"font-weight: bold; text-align: right;\">2</td><td style = \"text-align: left;\">job</td><td style = \"font-style: italic; text-align: left;\"></td><td style = \"text-align: left;\">admin.</td><td style = \"font-style: italic; text-align: left;\"></td><td style = \"text-align: left;\">unknown</td><td style = \"text-align: right;\">0</td><td style = \"text-align: left;\">String15</td></tr><tr><td class = \"rowNumber\" style = \"font-weight: bold; text-align: right;\">3</td><td style = \"text-align: left;\">marital</td><td style = \"font-style: italic; text-align: left;\"></td><td style = \"text-align: left;\">divorced</td><td style = \"font-style: italic; text-align: left;\"></td><td style = \"text-align: left;\">single</td><td style = \"text-align: right;\">0</td><td style = \"text-align: left;\">String15</td></tr><tr><td class = \"rowNumber\" style = \"font-weight: bold; text-align: right;\">4</td><td style = \"text-align: left;\">education</td><td style = \"font-style: italic; text-align: left;\"></td><td style = \"text-align: left;\">primary</td><td style = \"font-style: italic; text-align: left;\"></td><td style = \"text-align: left;\">unknown</td><td style = \"text-align: right;\">0</td><td style = \"text-align: left;\">String15</td></tr><tr><td class = \"rowNumber\" style = \"font-weight: bold; text-align: right;\">5</td><td style = \"text-align: left;\">default</td><td style = \"font-style: italic; text-align: left;\"></td><td style = \"text-align: left;\">no</td><td style = \"font-style: italic; text-align: left;\"></td><td style = \"text-align: left;\">yes</td><td style = \"text-align: right;\">0</td><td style = \"text-align: left;\">String3</td></tr><tr><td class = \"rowNumber\" style = \"font-weight: bold; text-align: right;\">6</td><td style = \"text-align: left;\">balance</td><td style = \"text-align: left;\">1422.66</td><td style = \"text-align: left;\">-3313</td><td style = \"text-align: left;\">444.0</td><td style = \"text-align: left;\">71188</td><td style = \"text-align: right;\">0</td><td style = \"text-align: left;\">Int64</td></tr><tr><td class = \"rowNumber\" style = \"font-weight: bold; text-align: right;\">7</td><td style = \"text-align: left;\">housing</td><td style = \"font-style: italic; text-align: left;\"></td><td style = \"text-align: left;\">no</td><td style = \"font-style: italic; text-align: left;\"></td><td style = \"text-align: left;\">yes</td><td style = \"text-align: right;\">0</td><td style = \"text-align: left;\">String3</td></tr><tr><td class = \"rowNumber\" style = \"font-weight: bold; text-align: right;\">8</td><td style = \"text-align: left;\">loan</td><td style = \"font-style: italic; text-align: left;\"></td><td style = \"text-align: left;\">no</td><td style = \"font-style: italic; text-align: left;\"></td><td style = \"text-align: left;\">yes</td><td style = \"text-align: right;\">0</td><td style = \"text-align: left;\">String3</td></tr><tr><td class = \"rowNumber\" style = \"font-weight: bold; text-align: right;\">9</td><td style = \"text-align: left;\">contact</td><td style = \"font-style: italic; text-align: left;\"></td><td style = \"text-align: left;\">cellular</td><td style = \"font-style: italic; text-align: left;\"></td><td style = \"text-align: left;\">unknown</td><td style = \"text-align: right;\">0</td><td style = \"text-align: left;\">String15</td></tr></tbody></table></div>"
      ],
      "text/latex": [
       "\\begin{tabular}{r|ccccccc}\n",
       "\t& variable & mean & min & median & max & nmissing & eltype\\\\\n",
       "\t\\hline\n",
       "\t& Symbol & Union… & Any & Union… & Any & Int64 & DataType\\\\\n",
       "\t\\hline\n",
       "\t1 & age & 41.1701 & 19 & 39.0 & 87 & 0 & Int64 \\\\\n",
       "\t2 & job &  & admin. &  & unknown & 0 & String15 \\\\\n",
       "\t3 & marital &  & divorced &  & single & 0 & String15 \\\\\n",
       "\t4 & education &  & primary &  & unknown & 0 & String15 \\\\\n",
       "\t5 & default &  & no &  & yes & 0 & String3 \\\\\n",
       "\t6 & balance & 1422.66 & -3313 & 444.0 & 71188 & 0 & Int64 \\\\\n",
       "\t7 & housing &  & no &  & yes & 0 & String3 \\\\\n",
       "\t8 & loan &  & no &  & yes & 0 & String3 \\\\\n",
       "\t9 & contact &  & cellular &  & unknown & 0 & String15 \\\\\n",
       "\\end{tabular}\n"
      ],
      "text/plain": [
       "\u001b[1m9×7 DataFrame\u001b[0m\n",
       "\u001b[1m Row \u001b[0m│\u001b[1m variable  \u001b[0m\u001b[1m mean    \u001b[0m\u001b[1m min      \u001b[0m\u001b[1m median \u001b[0m\u001b[1m max     \u001b[0m\u001b[1m nmissing \u001b[0m\u001b[1m eltype   \u001b[0m\n",
       "     │\u001b[90m Symbol    \u001b[0m\u001b[90m Union…  \u001b[0m\u001b[90m Any      \u001b[0m\u001b[90m Union… \u001b[0m\u001b[90m Any     \u001b[0m\u001b[90m Int64    \u001b[0m\u001b[90m DataType \u001b[0m\n",
       "─────┼───────────────────────────────────────────────────────────────────\n",
       "   1 │ age        41.1701  19        39.0    87              0  Int64\n",
       "   2 │ job       \u001b[90m         \u001b[0m admin.   \u001b[90m        \u001b[0m unknown         0  String15\n",
       "   3 │ marital   \u001b[90m         \u001b[0m divorced \u001b[90m        \u001b[0m single          0  String15\n",
       "   4 │ education \u001b[90m         \u001b[0m primary  \u001b[90m        \u001b[0m unknown         0  String15\n",
       "   5 │ default   \u001b[90m         \u001b[0m no       \u001b[90m        \u001b[0m yes             0  String3\n",
       "   6 │ balance    1422.66  -3313     444.0   71188           0  Int64\n",
       "   7 │ housing   \u001b[90m         \u001b[0m no       \u001b[90m        \u001b[0m yes             0  String3\n",
       "   8 │ loan      \u001b[90m         \u001b[0m no       \u001b[90m        \u001b[0m yes             0  String3\n",
       "   9 │ contact   \u001b[90m         \u001b[0m cellular \u001b[90m        \u001b[0m unknown         0  String15"
      ]
     },
     "execution_count": 1421,
     "metadata": {},
     "output_type": "execute_result"
    }
   ],
   "source": [
    "describe(bank_df[:, 1:9])"
   ]
  },
  {
   "cell_type": "code",
   "execution_count": 1422,
   "id": "f5767dd8-a289-4cb3-8e6d-ad5ddbfb538e",
   "metadata": {},
   "outputs": [
    {
     "data": {
      "text/html": [
       "<div><div style = \"float: left;\"><span>11×7 DataFrame</span></div><div style = \"clear: both;\"></div></div><div class = \"data-frame\" style = \"overflow-x: scroll;\"><table class = \"data-frame\" style = \"margin-bottom: 6px;\"><thead><tr class = \"header\"><th class = \"rowNumber\" style = \"font-weight: bold; text-align: right;\">Row</th><th style = \"text-align: left;\">variable</th><th style = \"text-align: left;\">mean</th><th style = \"text-align: left;\">min</th><th style = \"text-align: left;\">median</th><th style = \"text-align: left;\">max</th><th style = \"text-align: left;\">nmissing</th><th style = \"text-align: left;\">eltype</th></tr><tr class = \"subheader headerLastRow\"><th class = \"rowNumber\" style = \"font-weight: bold; text-align: right;\"></th><th title = \"Symbol\" style = \"text-align: left;\">Symbol</th><th title = \"Union{Nothing, Float64}\" style = \"text-align: left;\">Union…</th><th title = \"Any\" style = \"text-align: left;\">Any</th><th title = \"Union{Nothing, Float64}\" style = \"text-align: left;\">Union…</th><th title = \"Any\" style = \"text-align: left;\">Any</th><th title = \"Int64\" style = \"text-align: left;\">Int64</th><th title = \"DataType\" style = \"text-align: left;\">DataType</th></tr></thead><tbody><tr><td class = \"rowNumber\" style = \"font-weight: bold; text-align: right;\">1</td><td style = \"text-align: left;\">1000025</td><td style = \"text-align: left;\">1.07181e6</td><td style = \"text-align: left;\">61634</td><td style = \"text-align: left;\">1.17171e6</td><td style = \"text-align: left;\">13454352</td><td style = \"text-align: right;\">0</td><td style = \"text-align: left;\">Int64</td></tr><tr><td class = \"rowNumber\" style = \"font-weight: bold; text-align: right;\">2</td><td style = \"text-align: left;\">5</td><td style = \"text-align: left;\">4.41691</td><td style = \"text-align: left;\">1</td><td style = \"text-align: left;\">4.0</td><td style = \"text-align: left;\">10</td><td style = \"text-align: right;\">0</td><td style = \"text-align: left;\">Int64</td></tr><tr><td class = \"rowNumber\" style = \"font-weight: bold; text-align: right;\">3</td><td style = \"text-align: left;\">1</td><td style = \"text-align: left;\">3.13754</td><td style = \"text-align: left;\">1</td><td style = \"text-align: left;\">1.0</td><td style = \"text-align: left;\">10</td><td style = \"text-align: right;\">0</td><td style = \"text-align: left;\">Int64</td></tr><tr><td class = \"rowNumber\" style = \"font-weight: bold; text-align: right;\">4</td><td style = \"text-align: left;\">1_1</td><td style = \"text-align: left;\">3.2106</td><td style = \"text-align: left;\">1</td><td style = \"text-align: left;\">1.0</td><td style = \"text-align: left;\">10</td><td style = \"text-align: right;\">0</td><td style = \"text-align: left;\">Int64</td></tr><tr><td class = \"rowNumber\" style = \"font-weight: bold; text-align: right;\">5</td><td style = \"text-align: left;\">1_2</td><td style = \"text-align: left;\">2.80946</td><td style = \"text-align: left;\">1</td><td style = \"text-align: left;\">1.0</td><td style = \"text-align: left;\">10</td><td style = \"text-align: right;\">0</td><td style = \"text-align: left;\">Int64</td></tr><tr><td class = \"rowNumber\" style = \"font-weight: bold; text-align: right;\">6</td><td style = \"text-align: left;\">2</td><td style = \"text-align: left;\">3.21777</td><td style = \"text-align: left;\">1</td><td style = \"text-align: left;\">2.0</td><td style = \"text-align: left;\">10</td><td style = \"text-align: right;\">0</td><td style = \"text-align: left;\">Int64</td></tr><tr><td class = \"rowNumber\" style = \"font-weight: bold; text-align: right;\">7</td><td style = \"text-align: left;\">1_3</td><td style = \"font-style: italic; text-align: left;\"></td><td style = \"text-align: left;\">1</td><td style = \"font-style: italic; text-align: left;\"></td><td style = \"text-align: left;\">?</td><td style = \"text-align: right;\">0</td><td style = \"text-align: left;\">String3</td></tr><tr><td class = \"rowNumber\" style = \"font-weight: bold; text-align: right;\">8</td><td style = \"text-align: left;\">3</td><td style = \"text-align: left;\">3.4384</td><td style = \"text-align: left;\">1</td><td style = \"text-align: left;\">3.0</td><td style = \"text-align: left;\">10</td><td style = \"text-align: right;\">0</td><td style = \"text-align: left;\">Int64</td></tr><tr><td class = \"rowNumber\" style = \"font-weight: bold; text-align: right;\">9</td><td style = \"text-align: left;\">1_4</td><td style = \"text-align: left;\">2.86963</td><td style = \"text-align: left;\">1</td><td style = \"text-align: left;\">1.0</td><td style = \"text-align: left;\">10</td><td style = \"text-align: right;\">0</td><td style = \"text-align: left;\">Int64</td></tr><tr><td class = \"rowNumber\" style = \"font-weight: bold; text-align: right;\">10</td><td style = \"text-align: left;\">1_5</td><td style = \"text-align: left;\">1.59026</td><td style = \"text-align: left;\">1</td><td style = \"text-align: left;\">1.0</td><td style = \"text-align: left;\">10</td><td style = \"text-align: right;\">0</td><td style = \"text-align: left;\">Int64</td></tr><tr><td class = \"rowNumber\" style = \"font-weight: bold; text-align: right;\">11</td><td style = \"text-align: left;\">2_1</td><td style = \"text-align: left;\">2.69054</td><td style = \"text-align: left;\">2</td><td style = \"text-align: left;\">2.0</td><td style = \"text-align: left;\">4</td><td style = \"text-align: right;\">0</td><td style = \"text-align: left;\">Int64</td></tr></tbody></table></div>"
      ],
      "text/latex": [
       "\\begin{tabular}{r|ccccccc}\n",
       "\t& variable & mean & min & median & max & nmissing & eltype\\\\\n",
       "\t\\hline\n",
       "\t& Symbol & Union… & Any & Union… & Any & Int64 & DataType\\\\\n",
       "\t\\hline\n",
       "\t1 & 1000025 & 1.07181e6 & 61634 & 1.17171e6 & 13454352 & 0 & Int64 \\\\\n",
       "\t2 & 5 & 4.41691 & 1 & 4.0 & 10 & 0 & Int64 \\\\\n",
       "\t3 & 1 & 3.13754 & 1 & 1.0 & 10 & 0 & Int64 \\\\\n",
       "\t4 & 1\\_1 & 3.2106 & 1 & 1.0 & 10 & 0 & Int64 \\\\\n",
       "\t5 & 1\\_2 & 2.80946 & 1 & 1.0 & 10 & 0 & Int64 \\\\\n",
       "\t6 & 2 & 3.21777 & 1 & 2.0 & 10 & 0 & Int64 \\\\\n",
       "\t7 & 1\\_3 &  & 1 &  & ? & 0 & String3 \\\\\n",
       "\t8 & 3 & 3.4384 & 1 & 3.0 & 10 & 0 & Int64 \\\\\n",
       "\t9 & 1\\_4 & 2.86963 & 1 & 1.0 & 10 & 0 & Int64 \\\\\n",
       "\t10 & 1\\_5 & 1.59026 & 1 & 1.0 & 10 & 0 & Int64 \\\\\n",
       "\t11 & 2\\_1 & 2.69054 & 2 & 2.0 & 4 & 0 & Int64 \\\\\n",
       "\\end{tabular}\n"
      ],
      "text/plain": [
       "\u001b[1m11×7 DataFrame\u001b[0m\n",
       "\u001b[1m Row \u001b[0m│\u001b[1m variable \u001b[0m\u001b[1m mean      \u001b[0m\u001b[1m min   \u001b[0m\u001b[1m median    \u001b[0m\u001b[1m max      \u001b[0m\u001b[1m nmissing \u001b[0m\u001b[1m eltype   \u001b[0m\n",
       "     │\u001b[90m Symbol   \u001b[0m\u001b[90m Union…    \u001b[0m\u001b[90m Any   \u001b[0m\u001b[90m Union…    \u001b[0m\u001b[90m Any      \u001b[0m\u001b[90m Int64    \u001b[0m\u001b[90m DataType \u001b[0m\n",
       "─────┼─────────────────────────────────────────────────────────────────────\n",
       "   1 │ 1000025   1.07181e6  61634  1.17171e6  13454352         0  Int64\n",
       "   2 │ 5         4.41691    1      4.0        10               0  Int64\n",
       "   3 │ 1         3.13754    1      1.0        10               0  Int64\n",
       "   4 │ 1_1       3.2106     1      1.0        10               0  Int64\n",
       "   5 │ 1_2       2.80946    1      1.0        10               0  Int64\n",
       "   6 │ 2         3.21777    1      2.0        10               0  Int64\n",
       "   7 │ 1_3      \u001b[90m           \u001b[0m 1     \u001b[90m           \u001b[0m ?                0  String3\n",
       "   8 │ 3         3.4384     1      3.0        10               0  Int64\n",
       "   9 │ 1_4       2.86963    1      1.0        10               0  Int64\n",
       "  10 │ 1_5       1.59026    1      1.0        10               0  Int64\n",
       "  11 │ 2_1       2.69054    2      2.0        4                0  Int64"
      ]
     },
     "execution_count": 1422,
     "metadata": {},
     "output_type": "execute_result"
    }
   ],
   "source": [
    "describe(breast_cancer_df)"
   ]
  },
  {
   "cell_type": "code",
   "execution_count": 1423,
   "id": "ed8fa8f6-0300-40d5-9c29-ed65cb9a2d80",
   "metadata": {},
   "outputs": [
    {
     "data": {
      "text/plain": [
       "4.416905444126074"
      ]
     },
     "execution_count": 1423,
     "metadata": {},
     "output_type": "execute_result"
    }
   ],
   "source": [
    "mean(breast_cancer_df[:, \"5\"])"
   ]
  },
  {
   "cell_type": "code",
   "execution_count": 1424,
   "id": "4410a57f-feaf-4b18-93d0-9040b1f7bb08",
   "metadata": {},
   "outputs": [
    {
     "data": {
      "text/plain": [
       "2.8176733983653137"
      ]
     },
     "execution_count": 1424,
     "metadata": {},
     "output_type": "execute_result"
    }
   ],
   "source": [
    "std(breast_cancer_df[:, \"5\"])"
   ]
  },
  {
   "cell_type": "code",
   "execution_count": 1425,
   "id": "b38e630f-3746-4da8-be4a-b6db229a90d3",
   "metadata": {},
   "outputs": [
    {
     "data": {
      "text/plain": [
       "1"
      ]
     },
     "execution_count": 1425,
     "metadata": {},
     "output_type": "execute_result"
    }
   ],
   "source": [
    "minimum(breast_cancer_df[:, \"5\"])"
   ]
  },
  {
   "cell_type": "code",
   "execution_count": 1426,
   "id": "afc1ab7f-6f16-4710-81f4-2ded5f65898e",
   "metadata": {},
   "outputs": [
    {
     "data": {
      "text/plain": [
       "10"
      ]
     },
     "execution_count": 1426,
     "metadata": {},
     "output_type": "execute_result"
    }
   ],
   "source": [
    "maximum(breast_cancer_df[:, \"5\"])"
   ]
  },
  {
   "cell_type": "code",
   "execution_count": 1427,
   "id": "68fc6ba0-3b4e-4a4d-821c-84a759797891",
   "metadata": {},
   "outputs": [
    {
     "data": {
      "text/plain": [
       "3083"
      ]
     },
     "execution_count": 1427,
     "metadata": {},
     "output_type": "execute_result"
    }
   ],
   "source": [
    "sum(breast_cancer_df[:, \"5\"])"
   ]
  },
  {
   "cell_type": "markdown",
   "id": "fd47e6a2-8c2d-4eb9-8b45-9d3641cb0a18",
   "metadata": {},
   "source": [
    "### Column assignment\n",
    "\n",
    "<p>\n",
    "The example here uses standardization of values.<br>\n",
    "The standardized values are assigned as new cols.\n",
    "</p>"
   ]
  },
  {
   "cell_type": "code",
   "execution_count": 1428,
   "id": "6aa408b4-5e10-4964-9a8b-915da41749a1",
   "metadata": {},
   "outputs": [
    {
     "name": "stdout",
     "output_type": "stream",
     "text": [
      "[\"1000025\", \"5\", \"1\", \"1_1\", \"1_2\", \"2\", \"1_3\", \"3\", \"1_4\", \"1_5\", \"2_1\", \"5 divided by 2\"]\n"
     ]
    }
   ],
   "source": [
    "breast_cancer_df[:, \"5 divided by 2\"]=breast_cancer_df[:, \"5\"]./2\n",
    "println(names(breast_cancer_df))"
   ]
  },
  {
   "cell_type": "code",
   "execution_count": 1429,
   "id": "fb974384-50a0-4b08-84d6-466fff4e8f14",
   "metadata": {},
   "outputs": [
    {
     "name": "stdout",
     "output_type": "stream",
     "text": [
      "[\"age\", \"job\", \"marital\", \"education\", \"default\", \"balance\", \"housing\", \"loan\", \"contact\", \"day\", \"month\", \"duration\", \"campaign\", \"pdays\", \"previous\", \"poutcome\", \"y\", \"standardized_balance\"]\n",
      "\u001b[1m5×4 DataFrame\u001b[0m\n",
      "\u001b[1m Row \u001b[0m│\u001b[1m job         \u001b[0m\u001b[1m education \u001b[0m\u001b[1m balance \u001b[0m\u001b[1m standardized_balance \u001b[0m\n",
      "     │\u001b[90m String15    \u001b[0m\u001b[90m String15  \u001b[0m\u001b[90m Int64   \u001b[0m\u001b[90m Float64              \u001b[0m\n",
      "─────┼───────────────────────────────────────────────────────\n",
      "   1 │ unemployed   primary       1787             0.121058\n",
      "   2 │ services     secondary     4789             1.11852\n",
      "   3 │ management   tertiary      1350            -0.0241417\n",
      "   4 │ management   tertiary      1476             0.0177238\n",
      "   5 │ blue-collar  secondary        0            -0.472701\n"
     ]
    }
   ],
   "source": [
    "mean_balance=mean(bank_df.balance)\n",
    "std_balance=std(bank_df.balance)\n",
    "\n",
    "standardized_balance = (bank_df.balance .- mean_balance) ./ std_balance\n",
    "\n",
    "bank_df[:, \"standardized_balance\"] = standardized_balance\n",
    "\n",
    "println(names(bank_df))\n",
    "\n",
    "println(bank_df[1:5, [\"job\", \"education\", \"balance\", \"standardized_balance\"]])"
   ]
  },
  {
   "cell_type": "markdown",
   "id": "395e09a0-a824-4a0d-99e1-1182ef504d3a",
   "metadata": {},
   "source": [
    "### Renaming columns"
   ]
  },
  {
   "cell_type": "code",
   "execution_count": 1430,
   "id": "8e7b75d5-1c03-4363-9f72-f85fe4219fc0",
   "metadata": {},
   "outputs": [
    {
     "data": {
      "text/html": [
       "<div><div style = \"float: left;\"><span>2×18 DataFrame</span></div><div style = \"clear: both;\"></div></div><div class = \"data-frame\" style = \"overflow-x: scroll;\"><table class = \"data-frame\" style = \"margin-bottom: 6px;\"><thead><tr class = \"header\"><th class = \"rowNumber\" style = \"font-weight: bold; text-align: right;\">Row</th><th style = \"text-align: left;\">age</th><th style = \"text-align: left;\">job</th><th style = \"text-align: left;\">married_or_not_?</th><th style = \"text-align: left;\">education</th><th style = \"text-align: left;\">default</th><th style = \"text-align: left;\">balance</th><th style = \"text-align: left;\">housing</th><th style = \"text-align: left;\">loan</th><th style = \"text-align: left;\">contact</th><th style = \"text-align: left;\">day</th><th style = \"text-align: left;\">month</th><th style = \"text-align: left;\">duration</th><th style = \"text-align: left;\">campaign</th><th style = \"text-align: left;\">pdays</th><th style = \"text-align: left;\">previous</th><th style = \"text-align: left;\">poutcome</th><th style = \"text-align: left;\">y</th><th style = \"text-align: left;\">standardized_balance</th></tr><tr class = \"subheader headerLastRow\"><th class = \"rowNumber\" style = \"font-weight: bold; text-align: right;\"></th><th title = \"Int64\" style = \"text-align: left;\">Int64</th><th title = \"String15\" style = \"text-align: left;\">String15</th><th title = \"String15\" style = \"text-align: left;\">String15</th><th title = \"String15\" style = \"text-align: left;\">String15</th><th title = \"String3\" style = \"text-align: left;\">String3</th><th title = \"Int64\" style = \"text-align: left;\">Int64</th><th title = \"String3\" style = \"text-align: left;\">String3</th><th title = \"String3\" style = \"text-align: left;\">String3</th><th title = \"String15\" style = \"text-align: left;\">String15</th><th title = \"Int64\" style = \"text-align: left;\">Int64</th><th title = \"String3\" style = \"text-align: left;\">String3</th><th title = \"Int64\" style = \"text-align: left;\">Int64</th><th title = \"Int64\" style = \"text-align: left;\">Int64</th><th title = \"Int64\" style = \"text-align: left;\">Int64</th><th title = \"Int64\" style = \"text-align: left;\">Int64</th><th title = \"String7\" style = \"text-align: left;\">String7</th><th title = \"String3\" style = \"text-align: left;\">String3</th><th title = \"Float64\" style = \"text-align: left;\">Float64</th></tr></thead><tbody><tr><td class = \"rowNumber\" style = \"font-weight: bold; text-align: right;\">1</td><td style = \"text-align: right;\">30</td><td style = \"text-align: left;\">unemployed</td><td style = \"text-align: left;\">married</td><td style = \"text-align: left;\">primary</td><td style = \"text-align: left;\">no</td><td style = \"text-align: right;\">1787</td><td style = \"text-align: left;\">no</td><td style = \"text-align: left;\">no</td><td style = \"text-align: left;\">cellular</td><td style = \"text-align: right;\">19</td><td style = \"text-align: left;\">oct</td><td style = \"text-align: right;\">79</td><td style = \"text-align: right;\">1</td><td style = \"text-align: right;\">-1</td><td style = \"text-align: right;\">0</td><td style = \"text-align: left;\">unknown</td><td style = \"text-align: left;\">no</td><td style = \"text-align: right;\">0.121058</td></tr><tr><td class = \"rowNumber\" style = \"font-weight: bold; text-align: right;\">2</td><td style = \"text-align: right;\">33</td><td style = \"text-align: left;\">services</td><td style = \"text-align: left;\">married</td><td style = \"text-align: left;\">secondary</td><td style = \"text-align: left;\">no</td><td style = \"text-align: right;\">4789</td><td style = \"text-align: left;\">yes</td><td style = \"text-align: left;\">yes</td><td style = \"text-align: left;\">cellular</td><td style = \"text-align: right;\">11</td><td style = \"text-align: left;\">may</td><td style = \"text-align: right;\">220</td><td style = \"text-align: right;\">1</td><td style = \"text-align: right;\">339</td><td style = \"text-align: right;\">4</td><td style = \"text-align: left;\">failure</td><td style = \"text-align: left;\">no</td><td style = \"text-align: right;\">1.11852</td></tr></tbody></table></div>"
      ],
      "text/latex": [
       "\\begin{tabular}{r|ccccccccc}\n",
       "\t& age & job & married\\_or\\_not\\_? & education & default & balance & housing & loan & \\\\\n",
       "\t\\hline\n",
       "\t& Int64 & String15 & String15 & String15 & String3 & Int64 & String3 & String3 & \\\\\n",
       "\t\\hline\n",
       "\t1 & 30 & unemployed & married & primary & no & 1787 & no & no & $\\dots$ \\\\\n",
       "\t2 & 33 & services & married & secondary & no & 4789 & yes & yes & $\\dots$ \\\\\n",
       "\\end{tabular}\n"
      ],
      "text/plain": [
       "\u001b[1m2×18 DataFrame\u001b[0m\n",
       "\u001b[1m Row \u001b[0m│\u001b[1m age   \u001b[0m\u001b[1m job        \u001b[0m\u001b[1m married_or_not_? \u001b[0m\u001b[1m education \u001b[0m\u001b[1m default \u001b[0m\u001b[1m balance \u001b[0m\u001b[1m housi\u001b[0m ⋯\n",
       "     │\u001b[90m Int64 \u001b[0m\u001b[90m String15   \u001b[0m\u001b[90m String15         \u001b[0m\u001b[90m String15  \u001b[0m\u001b[90m String3 \u001b[0m\u001b[90m Int64   \u001b[0m\u001b[90m Strin\u001b[0m ⋯\n",
       "─────┼──────────────────────────────────────────────────────────────────────────\n",
       "   1 │    30  unemployed  married           primary    no          1787  no    ⋯\n",
       "   2 │    33  services    married           secondary  no          4789  yes\n",
       "\u001b[36m                                                              12 columns omitted\u001b[0m"
      ]
     },
     "execution_count": 1430,
     "metadata": {},
     "output_type": "execute_result"
    }
   ],
   "source": [
    "renamed_bank_df = rename(bank_df, [\"education\" => \"education_level\"])\n",
    "renamed_bank_df = rename!(bank_df, [\"marital\" => \"married_or_not_?\"])\n",
    "# without ! works too\n",
    "\n",
    "first(renamed_bank_df, 2)"
   ]
  },
  {
   "cell_type": "code",
   "execution_count": 1431,
   "id": "3c973b5b-5206-49c1-bbc2-3c77684ff1dd",
   "metadata": {},
   "outputs": [
    {
     "data": {
      "text/html": [
       "<div><div style = \"float: left;\"><span>DataFrameRow (7 columns)</span></div><div style = \"clear: both;\"></div></div><div class = \"data-frame\" style = \"overflow-x: scroll;\"><table class = \"data-frame\" style = \"margin-bottom: 6px;\"><thead><tr class = \"header\"><th class = \"rowLabel\" style = \"font-weight: bold; text-align: right;\">Row</th><th style = \"text-align: left;\">variable</th><th style = \"text-align: left;\">mean</th><th style = \"text-align: left;\">min</th><th style = \"text-align: left;\">median</th><th style = \"text-align: left;\">max</th><th style = \"text-align: left;\">nmissing</th><th style = \"text-align: left;\">eltype</th></tr><tr class = \"subheader headerLastRow\"><th class = \"rowLabel\" style = \"font-weight: bold; text-align: right;\"></th><th title = \"Symbol\" style = \"text-align: left;\">Symbol</th><th title = \"Union{Nothing, Float64}\" style = \"text-align: left;\">Union…</th><th title = \"Any\" style = \"text-align: left;\">Any</th><th title = \"Union{Nothing, Float64}\" style = \"text-align: left;\">Union…</th><th title = \"Any\" style = \"text-align: left;\">Any</th><th title = \"Int64\" style = \"text-align: left;\">Int64</th><th title = \"DataType\" style = \"text-align: left;\">DataType</th></tr></thead><tbody><tr><td class = \"rowLabel\" style = \"font-weight: bold; text-align: right;\">18</td><td style = \"text-align: left;\">standardized_balance</td><td style = \"text-align: left;\">-4.71495e-18</td><td style = \"text-align: left;\">-1.5735</td><td style = \"text-align: left;\">-0.325175</td><td style = \"text-align: left;\">23.1806</td><td style = \"text-align: right;\">0</td><td style = \"text-align: left;\">Float64</td></tr></tbody></table></div>"
      ],
      "text/latex": [
       "\\begin{tabular}{r|ccccccc}\n",
       "\t& variable & mean & min & median & max & nmissing & eltype\\\\\n",
       "\t\\hline\n",
       "\t& Symbol & Union… & Any & Union… & Any & Int64 & DataType\\\\\n",
       "\t\\hline\n",
       "\t18 & standardized\\_balance & -4.71495e-18 & -1.5735 & -0.325175 & 23.1806 & 0 & Float64 \\\\\n",
       "\\end{tabular}\n"
      ],
      "text/plain": [
       "\u001b[1mDataFrameRow\u001b[0m\n",
       "\u001b[1m Row \u001b[0m│\u001b[1m variable             \u001b[0m\u001b[1m mean         \u001b[0m\u001b[1m min     \u001b[0m\u001b[1m median    \u001b[0m\u001b[1m max     \u001b[0m\u001b[1m nmissi\u001b[0m ⋯\n",
       "     │\u001b[90m Symbol               \u001b[0m\u001b[90m Union…       \u001b[0m\u001b[90m Any     \u001b[0m\u001b[90m Union…    \u001b[0m\u001b[90m Any     \u001b[0m\u001b[90m Int64 \u001b[0m ⋯\n",
       "─────┼──────────────────────────────────────────────────────────────────────────\n",
       "  18 │ standardized_balance  -4.71495e-18  -1.5735  -0.325175  23.1806         ⋯\n",
       "\u001b[36m                                                               2 columns omitted\u001b[0m"
      ]
     },
     "execution_count": 1431,
     "metadata": {},
     "output_type": "execute_result"
    }
   ],
   "source": [
    "describe(bank_df)[18,:]"
   ]
  },
  {
   "cell_type": "markdown",
   "id": "819993f8-7523-4886-a655-0eaae883d401",
   "metadata": {},
   "source": [
    "<p>Normalization between 0 and 1</p>"
   ]
  },
  {
   "cell_type": "code",
   "execution_count": 1432,
   "id": "bf93c1b7-d24c-42bf-abeb-dd4536796296",
   "metadata": {},
   "outputs": [
    {
     "name": "stdout",
     "output_type": "stream",
     "text": [
      "[\"age\", \"job\", \"married_or_not_?\", \"education\", \"default\", \"balance\", \"housing\", \"loan\", \"contact\", \"day\", \"month\", \"duration\", \"campaign\", \"pdays\", \"previous\", \"poutcome\", \"y\", \"standardized_balance\", \"normalized_balance\"]\n"
     ]
    }
   ],
   "source": [
    "# xnew = (xi – xmin) / (xmax – xmin)\n",
    "# xnew falls between 0 an 1\n",
    "min_balance = minimum(bank_df.balance)\n",
    "max_balance = maximum(bank_df.balance)\n",
    "\n",
    "normalized_balance = (bank_df.balance .- min_balance) ./ (max_balance - min_balance)\n",
    "\n",
    "bank_df[:, \"normalized_balance\"] = normalized_balance \n",
    "\n",
    "println(names(bank_df))\n"
   ]
  },
  {
   "cell_type": "code",
   "execution_count": 1433,
   "id": "e7bf8f59-513a-4e11-a499-4dfbf32c6022",
   "metadata": {},
   "outputs": [
    {
     "data": {
      "text/html": [
       "<div><div style = \"float: left;\"><span>DataFrameRow (7 columns)</span></div><div style = \"clear: both;\"></div></div><div class = \"data-frame\" style = \"overflow-x: scroll;\"><table class = \"data-frame\" style = \"margin-bottom: 6px;\"><thead><tr class = \"header\"><th class = \"rowLabel\" style = \"font-weight: bold; text-align: right;\">Row</th><th style = \"text-align: left;\">variable</th><th style = \"text-align: left;\">mean</th><th style = \"text-align: left;\">min</th><th style = \"text-align: left;\">median</th><th style = \"text-align: left;\">max</th><th style = \"text-align: left;\">nmissing</th><th style = \"text-align: left;\">eltype</th></tr><tr class = \"subheader headerLastRow\"><th class = \"rowLabel\" style = \"font-weight: bold; text-align: right;\"></th><th title = \"Symbol\" style = \"text-align: left;\">Symbol</th><th title = \"Union{Nothing, Float64}\" style = \"text-align: left;\">Union…</th><th title = \"Any\" style = \"text-align: left;\">Any</th><th title = \"Union{Nothing, Float64}\" style = \"text-align: left;\">Union…</th><th title = \"Any\" style = \"text-align: left;\">Any</th><th title = \"Int64\" style = \"text-align: left;\">Int64</th><th title = \"DataType\" style = \"text-align: left;\">DataType</th></tr></thead><tbody><tr><td class = \"rowLabel\" style = \"font-weight: bold; text-align: right;\">19</td><td style = \"text-align: left;\">normalized_balance</td><td style = \"text-align: left;\">0.063565</td><td style = \"text-align: left;\">0.0</td><td style = \"text-align: left;\">0.0504289</td><td style = \"text-align: left;\">1.0</td><td style = \"text-align: right;\">0</td><td style = \"text-align: left;\">Float64</td></tr></tbody></table></div>"
      ],
      "text/latex": [
       "\\begin{tabular}{r|ccccccc}\n",
       "\t& variable & mean & min & median & max & nmissing & eltype\\\\\n",
       "\t\\hline\n",
       "\t& Symbol & Union… & Any & Union… & Any & Int64 & DataType\\\\\n",
       "\t\\hline\n",
       "\t19 & normalized\\_balance & 0.063565 & 0.0 & 0.0504289 & 1.0 & 0 & Float64 \\\\\n",
       "\\end{tabular}\n"
      ],
      "text/plain": [
       "\u001b[1mDataFrameRow\u001b[0m\n",
       "\u001b[1m Row \u001b[0m│\u001b[1m variable           \u001b[0m\u001b[1m mean     \u001b[0m\u001b[1m min \u001b[0m\u001b[1m median    \u001b[0m\u001b[1m max \u001b[0m\u001b[1m nmissing \u001b[0m\u001b[1m eltype   \u001b[0m\n",
       "     │\u001b[90m Symbol             \u001b[0m\u001b[90m Union…   \u001b[0m\u001b[90m Any \u001b[0m\u001b[90m Union…    \u001b[0m\u001b[90m Any \u001b[0m\u001b[90m Int64    \u001b[0m\u001b[90m DataType \u001b[0m\n",
       "─────┼───────────────────────────────────────────────────────────────────────\n",
       "  19 │ normalized_balance  0.063565  0.0  0.0504289  1.0         0  Float64"
      ]
     },
     "execution_count": 1433,
     "metadata": {},
     "output_type": "execute_result"
    }
   ],
   "source": [
    "describe(bank_df)[19,:]"
   ]
  },
  {
   "cell_type": "markdown",
   "id": "15df17eb-8b48-4987-8237-f6377ac32ac8",
   "metadata": {},
   "source": [
    "### Filtering\n",
    "\n",
    "<p>\n",
    "Syntax:<br>\n",
    "df = filter(row -> row.column==1000, df)\n",
    "</p>"
   ]
  },
  {
   "cell_type": "code",
   "execution_count": 1434,
   "id": "14ae7ae2-04a3-40eb-a04a-5b1e81ea4f22",
   "metadata": {},
   "outputs": [
    {
     "name": "stdout",
     "output_type": "stream",
     "text": [
      "19\n",
      "87\n"
     ]
    }
   ],
   "source": [
    "println(minimum(bank_df.age))\n",
    "println(maximum(bank_df.age))"
   ]
  },
  {
   "cell_type": "code",
   "execution_count": 1435,
   "id": "367afdd8-cbf0-41f1-adc4-9c886d6c316e",
   "metadata": {},
   "outputs": [
    {
     "data": {
      "text/html": [
       "<div><div style = \"float: left;\"><span>4×4 DataFrame</span></div><div style = \"clear: both;\"></div></div><div class = \"data-frame\" style = \"overflow-x: scroll;\"><table class = \"data-frame\" style = \"margin-bottom: 6px;\"><thead><tr class = \"header\"><th class = \"rowNumber\" style = \"font-weight: bold; text-align: right;\">Row</th><th style = \"text-align: left;\">age</th><th style = \"text-align: left;\">job</th><th style = \"text-align: left;\">married_or_not_?</th><th style = \"text-align: left;\">education</th></tr><tr class = \"subheader headerLastRow\"><th class = \"rowNumber\" style = \"font-weight: bold; text-align: right;\"></th><th title = \"Int64\" style = \"text-align: left;\">Int64</th><th title = \"String15\" style = \"text-align: left;\">String15</th><th title = \"String15\" style = \"text-align: left;\">String15</th><th title = \"String15\" style = \"text-align: left;\">String15</th></tr></thead><tbody><tr><td class = \"rowNumber\" style = \"font-weight: bold; text-align: right;\">1</td><td style = \"text-align: right;\">59</td><td style = \"text-align: left;\">blue-collar</td><td style = \"text-align: left;\">married</td><td style = \"text-align: left;\">secondary</td></tr><tr><td class = \"rowNumber\" style = \"font-weight: bold; text-align: right;\">2</td><td style = \"text-align: right;\">56</td><td style = \"text-align: left;\">technician</td><td style = \"text-align: left;\">married</td><td style = \"text-align: left;\">secondary</td></tr><tr><td class = \"rowNumber\" style = \"font-weight: bold; text-align: right;\">3</td><td style = \"text-align: right;\">55</td><td style = \"text-align: left;\">blue-collar</td><td style = \"text-align: left;\">married</td><td style = \"text-align: left;\">primary</td></tr><tr><td class = \"rowNumber\" style = \"font-weight: bold; text-align: right;\">4</td><td style = \"text-align: right;\">67</td><td style = \"text-align: left;\">retired</td><td style = \"text-align: left;\">married</td><td style = \"text-align: left;\">unknown</td></tr></tbody></table></div>"
      ],
      "text/latex": [
       "\\begin{tabular}{r|cccc}\n",
       "\t& age & job & married\\_or\\_not\\_? & education\\\\\n",
       "\t\\hline\n",
       "\t& Int64 & String15 & String15 & String15\\\\\n",
       "\t\\hline\n",
       "\t1 & 59 & blue-collar & married & secondary \\\\\n",
       "\t2 & 56 & technician & married & secondary \\\\\n",
       "\t3 & 55 & blue-collar & married & primary \\\\\n",
       "\t4 & 67 & retired & married & unknown \\\\\n",
       "\\end{tabular}\n"
      ],
      "text/plain": [
       "\u001b[1m4×4 DataFrame\u001b[0m\n",
       "\u001b[1m Row \u001b[0m│\u001b[1m age   \u001b[0m\u001b[1m job         \u001b[0m\u001b[1m married_or_not_? \u001b[0m\u001b[1m education \u001b[0m\n",
       "     │\u001b[90m Int64 \u001b[0m\u001b[90m String15    \u001b[0m\u001b[90m String15         \u001b[0m\u001b[90m String15  \u001b[0m\n",
       "─────┼─────────────────────────────────────────────────\n",
       "   1 │    59  blue-collar  married           secondary\n",
       "   2 │    56  technician   married           secondary\n",
       "   3 │    55  blue-collar  married           primary\n",
       "   4 │    67  retired      married           unknown"
      ]
     },
     "execution_count": 1435,
     "metadata": {},
     "output_type": "execute_result"
    }
   ],
   "source": [
    "bank_df_age_filter_over_50 = filter(row -> row.age > 50, bank_df)\n",
    "\n",
    "bank_df_age_filter_over_50[1:4,1:4]"
   ]
  },
  {
   "cell_type": "code",
   "execution_count": 1436,
   "id": "2304f3c0-7add-4769-944f-0c6e998828a7",
   "metadata": {},
   "outputs": [
    {
     "data": {
      "text/html": [
       "<div><div style = \"float: left;\"><span>4×4 DataFrame</span></div><div style = \"clear: both;\"></div></div><div class = \"data-frame\" style = \"overflow-x: scroll;\"><table class = \"data-frame\" style = \"margin-bottom: 6px;\"><thead><tr class = \"header\"><th class = \"rowNumber\" style = \"font-weight: bold; text-align: right;\">Row</th><th style = \"text-align: left;\">age</th><th style = \"text-align: left;\">job</th><th style = \"text-align: left;\">married_or_not_?</th><th style = \"text-align: left;\">education</th></tr><tr class = \"subheader headerLastRow\"><th class = \"rowNumber\" style = \"font-weight: bold; text-align: right;\"></th><th title = \"Int64\" style = \"text-align: left;\">Int64</th><th title = \"String15\" style = \"text-align: left;\">String15</th><th title = \"String15\" style = \"text-align: left;\">String15</th><th title = \"String15\" style = \"text-align: left;\">String15</th></tr></thead><tbody><tr><td class = \"rowNumber\" style = \"font-weight: bold; text-align: right;\">1</td><td style = \"text-align: right;\">44</td><td style = \"text-align: left;\">services</td><td style = \"text-align: left;\">single</td><td style = \"text-align: left;\">secondary</td></tr><tr><td class = \"rowNumber\" style = \"font-weight: bold; text-align: right;\">2</td><td style = \"text-align: right;\">44</td><td style = \"text-align: left;\">entrepreneur</td><td style = \"text-align: left;\">married</td><td style = \"text-align: left;\">secondary</td></tr><tr><td class = \"rowNumber\" style = \"font-weight: bold; text-align: right;\">3</td><td style = \"text-align: right;\">44</td><td style = \"text-align: left;\">admin.</td><td style = \"text-align: left;\">married</td><td style = \"text-align: left;\">secondary</td></tr><tr><td class = \"rowNumber\" style = \"font-weight: bold; text-align: right;\">4</td><td style = \"text-align: right;\">44</td><td style = \"text-align: left;\">technician</td><td style = \"text-align: left;\">single</td><td style = \"text-align: left;\">secondary</td></tr></tbody></table></div>"
      ],
      "text/latex": [
       "\\begin{tabular}{r|cccc}\n",
       "\t& age & job & married\\_or\\_not\\_? & education\\\\\n",
       "\t\\hline\n",
       "\t& Int64 & String15 & String15 & String15\\\\\n",
       "\t\\hline\n",
       "\t1 & 44 & services & single & secondary \\\\\n",
       "\t2 & 44 & entrepreneur & married & secondary \\\\\n",
       "\t3 & 44 & admin. & married & secondary \\\\\n",
       "\t4 & 44 & technician & single & secondary \\\\\n",
       "\\end{tabular}\n"
      ],
      "text/plain": [
       "\u001b[1m4×4 DataFrame\u001b[0m\n",
       "\u001b[1m Row \u001b[0m│\u001b[1m age   \u001b[0m\u001b[1m job          \u001b[0m\u001b[1m married_or_not_? \u001b[0m\u001b[1m education \u001b[0m\n",
       "     │\u001b[90m Int64 \u001b[0m\u001b[90m String15     \u001b[0m\u001b[90m String15         \u001b[0m\u001b[90m String15  \u001b[0m\n",
       "─────┼──────────────────────────────────────────────────\n",
       "   1 │    44  services      single            secondary\n",
       "   2 │    44  entrepreneur  married           secondary\n",
       "   3 │    44  admin.        married           secondary\n",
       "   4 │    44  technician    single            secondary"
      ]
     },
     "execution_count": 1436,
     "metadata": {},
     "output_type": "execute_result"
    }
   ],
   "source": [
    "bank_df_age_filter_equal_44 = filter(row -> row.age == 44, bank_df)\n",
    "bank_df_age_filter_equal_44[1:4,1:4]"
   ]
  },
  {
   "cell_type": "code",
   "execution_count": 1437,
   "id": "c75a1e1e-6716-423e-950e-d4e35a06e915",
   "metadata": {},
   "outputs": [
    {
     "data": {
      "text/html": [
       "<div><div style = \"float: left;\"><span>4×4 DataFrame</span></div><div style = \"clear: both;\"></div></div><div class = \"data-frame\" style = \"overflow-x: scroll;\"><table class = \"data-frame\" style = \"margin-bottom: 6px;\"><thead><tr class = \"header\"><th class = \"rowNumber\" style = \"font-weight: bold; text-align: right;\">Row</th><th style = \"text-align: left;\">age</th><th style = \"text-align: left;\">job</th><th style = \"text-align: left;\">married_or_not_?</th><th style = \"text-align: left;\">education</th></tr><tr class = \"subheader headerLastRow\"><th class = \"rowNumber\" style = \"font-weight: bold; text-align: right;\"></th><th title = \"Int64\" style = \"text-align: left;\">Int64</th><th title = \"String15\" style = \"text-align: left;\">String15</th><th title = \"String15\" style = \"text-align: left;\">String15</th><th title = \"String15\" style = \"text-align: left;\">String15</th></tr></thead><tbody><tr><td class = \"rowNumber\" style = \"font-weight: bold; text-align: right;\">1</td><td style = \"text-align: right;\">30</td><td style = \"text-align: left;\">unemployed</td><td style = \"text-align: left;\">married</td><td style = \"text-align: left;\">primary</td></tr><tr><td class = \"rowNumber\" style = \"font-weight: bold; text-align: right;\">2</td><td style = \"text-align: right;\">33</td><td style = \"text-align: left;\">services</td><td style = \"text-align: left;\">married</td><td style = \"text-align: left;\">secondary</td></tr><tr><td class = \"rowNumber\" style = \"font-weight: bold; text-align: right;\">3</td><td style = \"text-align: right;\">35</td><td style = \"text-align: left;\">management</td><td style = \"text-align: left;\">single</td><td style = \"text-align: left;\">tertiary</td></tr><tr><td class = \"rowNumber\" style = \"font-weight: bold; text-align: right;\">4</td><td style = \"text-align: right;\">30</td><td style = \"text-align: left;\">management</td><td style = \"text-align: left;\">married</td><td style = \"text-align: left;\">tertiary</td></tr></tbody></table></div>"
      ],
      "text/latex": [
       "\\begin{tabular}{r|cccc}\n",
       "\t& age & job & married\\_or\\_not\\_? & education\\\\\n",
       "\t\\hline\n",
       "\t& Int64 & String15 & String15 & String15\\\\\n",
       "\t\\hline\n",
       "\t1 & 30 & unemployed & married & primary \\\\\n",
       "\t2 & 33 & services & married & secondary \\\\\n",
       "\t3 & 35 & management & single & tertiary \\\\\n",
       "\t4 & 30 & management & married & tertiary \\\\\n",
       "\\end{tabular}\n"
      ],
      "text/plain": [
       "\u001b[1m4×4 DataFrame\u001b[0m\n",
       "\u001b[1m Row \u001b[0m│\u001b[1m age   \u001b[0m\u001b[1m job        \u001b[0m\u001b[1m married_or_not_? \u001b[0m\u001b[1m education \u001b[0m\n",
       "     │\u001b[90m Int64 \u001b[0m\u001b[90m String15   \u001b[0m\u001b[90m String15         \u001b[0m\u001b[90m String15  \u001b[0m\n",
       "─────┼────────────────────────────────────────────────\n",
       "   1 │    30  unemployed  married           primary\n",
       "   2 │    33  services    married           secondary\n",
       "   3 │    35  management  single            tertiary\n",
       "   4 │    30  management  married           tertiary"
      ]
     },
     "execution_count": 1437,
     "metadata": {},
     "output_type": "execute_result"
    }
   ],
   "source": [
    "bank_df_age_filter_not_50 = filter(row -> row.age != 50, bank_df)\n",
    "bank_df_age_filter_not_50[1:4,1:4]"
   ]
  },
  {
   "cell_type": "code",
   "execution_count": 1438,
   "id": "701fefef-631d-4dcd-8095-d0feba1434d0",
   "metadata": {},
   "outputs": [
    {
     "data": {
      "text/html": [
       "<div><div style = \"float: left;\"><span>0×19 DataFrame</span></div><div style = \"clear: both;\"></div></div><div class = \"data-frame\" style = \"overflow-x: scroll;\"><table class = \"data-frame\" style = \"margin-bottom: 6px;\"><thead><tr class = \"header\"><th class = \"rowNumber\" style = \"font-weight: bold; text-align: right;\">Row</th><th style = \"text-align: left;\">age</th><th style = \"text-align: left;\">job</th><th style = \"text-align: left;\">married_or_not_?</th><th style = \"text-align: left;\">education</th><th style = \"text-align: left;\">default</th><th style = \"text-align: left;\">balance</th><th style = \"text-align: left;\">housing</th><th style = \"text-align: left;\">loan</th><th style = \"text-align: left;\">contact</th><th style = \"text-align: left;\">day</th><th style = \"text-align: left;\">month</th><th style = \"text-align: left;\">duration</th><th style = \"text-align: left;\">campaign</th><th style = \"text-align: left;\">pdays</th><th style = \"text-align: left;\">previous</th><th style = \"text-align: left;\">poutcome</th><th style = \"text-align: left;\">y</th><th style = \"text-align: left;\">standardized_balance</th><th style = \"text-align: left;\">normalized_balance</th></tr><tr class = \"subheader headerLastRow\"><th class = \"rowNumber\" style = \"font-weight: bold; text-align: right;\"></th><th title = \"Int64\" style = \"text-align: left;\">Int64</th><th title = \"String15\" style = \"text-align: left;\">String15</th><th title = \"String15\" style = \"text-align: left;\">String15</th><th title = \"String15\" style = \"text-align: left;\">String15</th><th title = \"String3\" style = \"text-align: left;\">String3</th><th title = \"Int64\" style = \"text-align: left;\">Int64</th><th title = \"String3\" style = \"text-align: left;\">String3</th><th title = \"String3\" style = \"text-align: left;\">String3</th><th title = \"String15\" style = \"text-align: left;\">String15</th><th title = \"Int64\" style = \"text-align: left;\">Int64</th><th title = \"String3\" style = \"text-align: left;\">String3</th><th title = \"Int64\" style = \"text-align: left;\">Int64</th><th title = \"Int64\" style = \"text-align: left;\">Int64</th><th title = \"Int64\" style = \"text-align: left;\">Int64</th><th title = \"Int64\" style = \"text-align: left;\">Int64</th><th title = \"String7\" style = \"text-align: left;\">String7</th><th title = \"String3\" style = \"text-align: left;\">String3</th><th title = \"Float64\" style = \"text-align: left;\">Float64</th><th title = \"Float64\" style = \"text-align: left;\">Float64</th></tr></thead><tbody></tbody></table></div>"
      ],
      "text/latex": [
       "\\begin{tabular}{r|ccccccccc}\n",
       "\t& age & job & married\\_or\\_not\\_? & education & default & balance & housing & loan & \\\\\n",
       "\t\\hline\n",
       "\t& Int64 & String15 & String15 & String15 & String3 & Int64 & String3 & String3 & \\\\\n",
       "\t\\hline\n",
       "\\end{tabular}\n"
      ],
      "text/plain": [
       "\u001b[1m0×19 DataFrame\u001b[0m\n",
       "\u001b[1m Row \u001b[0m│\u001b[1m age   \u001b[0m\u001b[1m job      \u001b[0m\u001b[1m married_or_not_? \u001b[0m\u001b[1m education \u001b[0m\u001b[1m default \u001b[0m\u001b[1m balance \u001b[0m\u001b[1m housing\u001b[0m ⋯\n",
       "     │\u001b[90m Int64 \u001b[0m\u001b[90m String15 \u001b[0m\u001b[90m String15         \u001b[0m\u001b[90m String15  \u001b[0m\u001b[90m String3 \u001b[0m\u001b[90m Int64   \u001b[0m\u001b[90m String3\u001b[0m ⋯\n",
       "─────┴──────────────────────────────────────────────────────────────────────────\n",
       "\u001b[36m                                                              12 columns omitted\u001b[0m"
      ]
     },
     "execution_count": 1438,
     "metadata": {},
     "output_type": "execute_result"
    }
   ],
   "source": [
    "filter(row -> row.age == 50, bank_df_age_filter_not_50)\n",
    "#  No 50 in the df"
   ]
  },
  {
   "cell_type": "code",
   "execution_count": 1439,
   "id": "bff7bced-b214-44ce-a208-0623e5596512",
   "metadata": {},
   "outputs": [
    {
     "data": {
      "text/html": [
       "<div><div style = \"float: left;\"><span>5×7 DataFrame</span></div><div style = \"clear: both;\"></div></div><div class = \"data-frame\" style = \"overflow-x: scroll;\"><table class = \"data-frame\" style = \"margin-bottom: 6px;\"><thead><tr class = \"header\"><th class = \"rowNumber\" style = \"font-weight: bold; text-align: right;\">Row</th><th style = \"text-align: left;\">age</th><th style = \"text-align: left;\">job</th><th style = \"text-align: left;\">married_or_not_?</th><th style = \"text-align: left;\">education</th><th style = \"text-align: left;\">default</th><th style = \"text-align: left;\">balance</th><th style = \"text-align: left;\">housing</th></tr><tr class = \"subheader headerLastRow\"><th class = \"rowNumber\" style = \"font-weight: bold; text-align: right;\"></th><th title = \"Int64\" style = \"text-align: left;\">Int64</th><th title = \"String15\" style = \"text-align: left;\">String15</th><th title = \"String15\" style = \"text-align: left;\">String15</th><th title = \"String15\" style = \"text-align: left;\">String15</th><th title = \"String3\" style = \"text-align: left;\">String3</th><th title = \"Int64\" style = \"text-align: left;\">Int64</th><th title = \"String3\" style = \"text-align: left;\">String3</th></tr></thead><tbody><tr><td class = \"rowNumber\" style = \"font-weight: bold; text-align: right;\">1</td><td style = \"text-align: right;\">30</td><td style = \"text-align: left;\">unemployed</td><td style = \"text-align: left;\">married</td><td style = \"text-align: left;\">primary</td><td style = \"text-align: left;\">no</td><td style = \"text-align: right;\">1787</td><td style = \"text-align: left;\">no</td></tr><tr><td class = \"rowNumber\" style = \"font-weight: bold; text-align: right;\">2</td><td style = \"text-align: right;\">43</td><td style = \"text-align: left;\">services</td><td style = \"text-align: left;\">married</td><td style = \"text-align: left;\">primary</td><td style = \"text-align: left;\">no</td><td style = \"text-align: right;\">-88</td><td style = \"text-align: left;\">yes</td></tr><tr><td class = \"rowNumber\" style = \"font-weight: bold; text-align: right;\">3</td><td style = \"text-align: right;\">25</td><td style = \"text-align: left;\">blue-collar</td><td style = \"text-align: left;\">single</td><td style = \"text-align: left;\">primary</td><td style = \"text-align: left;\">no</td><td style = \"text-align: right;\">-221</td><td style = \"text-align: left;\">yes</td></tr><tr><td class = \"rowNumber\" style = \"font-weight: bold; text-align: right;\">4</td><td style = \"text-align: right;\">55</td><td style = \"text-align: left;\">blue-collar</td><td style = \"text-align: left;\">married</td><td style = \"text-align: left;\">primary</td><td style = \"text-align: left;\">no</td><td style = \"text-align: right;\">627</td><td style = \"text-align: left;\">yes</td></tr><tr><td class = \"rowNumber\" style = \"font-weight: bold; text-align: right;\">5</td><td style = \"text-align: right;\">78</td><td style = \"text-align: left;\">retired</td><td style = \"text-align: left;\">divorced</td><td style = \"text-align: left;\">primary</td><td style = \"text-align: left;\">no</td><td style = \"text-align: right;\">229</td><td style = \"text-align: left;\">no</td></tr></tbody></table></div>"
      ],
      "text/latex": [
       "\\begin{tabular}{r|ccccccc}\n",
       "\t& age & job & married\\_or\\_not\\_? & education & default & balance & housing\\\\\n",
       "\t\\hline\n",
       "\t& Int64 & String15 & String15 & String15 & String3 & Int64 & String3\\\\\n",
       "\t\\hline\n",
       "\t1 & 30 & unemployed & married & primary & no & 1787 & no \\\\\n",
       "\t2 & 43 & services & married & primary & no & -88 & yes \\\\\n",
       "\t3 & 25 & blue-collar & single & primary & no & -221 & yes \\\\\n",
       "\t4 & 55 & blue-collar & married & primary & no & 627 & yes \\\\\n",
       "\t5 & 78 & retired & divorced & primary & no & 229 & no \\\\\n",
       "\\end{tabular}\n"
      ],
      "text/plain": [
       "\u001b[1m5×7 DataFrame\u001b[0m\n",
       "\u001b[1m Row \u001b[0m│\u001b[1m age   \u001b[0m\u001b[1m job         \u001b[0m\u001b[1m married_or_not_? \u001b[0m\u001b[1m education \u001b[0m\u001b[1m default \u001b[0m\u001b[1m balance \u001b[0m\u001b[1m hous\u001b[0m ⋯\n",
       "     │\u001b[90m Int64 \u001b[0m\u001b[90m String15    \u001b[0m\u001b[90m String15         \u001b[0m\u001b[90m String15  \u001b[0m\u001b[90m String3 \u001b[0m\u001b[90m Int64   \u001b[0m\u001b[90m Stri\u001b[0m ⋯\n",
       "─────┼──────────────────────────────────────────────────────────────────────────\n",
       "   1 │    30  unemployed   married           primary    no          1787  no   ⋯\n",
       "   2 │    43  services     married           primary    no           -88  yes\n",
       "   3 │    25  blue-collar  single            primary    no          -221  yes\n",
       "   4 │    55  blue-collar  married           primary    no           627  yes\n",
       "   5 │    78  retired      divorced          primary    no           229  no   ⋯\n",
       "\u001b[36m                                                                1 column omitted\u001b[0m"
      ]
     },
     "execution_count": 1439,
     "metadata": {},
     "output_type": "execute_result"
    }
   ],
   "source": [
    "filter(row -> row.education == \"primary\", bank_df)[1:5, 1:7]"
   ]
  },
  {
   "cell_type": "code",
   "execution_count": 1440,
   "id": "7d0d6458-4a3c-4837-a6a4-73a27ddd6832",
   "metadata": {},
   "outputs": [
    {
     "data": {
      "text/plain": [
       "1-element Vector{String15}:\n",
       " \"primary\""
      ]
     },
     "execution_count": 1440,
     "metadata": {},
     "output_type": "execute_result"
    }
   ],
   "source": [
    "edu=filter(row -> row.education == \"primary\", bank_df)\n",
    "\n",
    "unique(edu.education)"
   ]
  },
  {
   "cell_type": "code",
   "execution_count": null,
   "id": "5df329f9-8469-4e73-8ab3-b370ead94027",
   "metadata": {},
   "outputs": [],
   "source": []
  }
 ],
 "metadata": {
  "kernelspec": {
   "display_name": "Julia 1.8.0",
   "language": "julia",
   "name": "julia-1.8"
  },
  "language_info": {
   "file_extension": ".jl",
   "mimetype": "application/julia",
   "name": "julia",
   "version": "1.8.0"
  },
  "toc-autonumbering": true,
  "toc-showtags": true
 },
 "nbformat": 4,
 "nbformat_minor": 5
}
